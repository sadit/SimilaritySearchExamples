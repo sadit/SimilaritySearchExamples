{
 "cells": [
  {
   "cell_type": "markdown",
   "metadata": {},
   "source": [
    "# A simple engine for image searching: A SimilaritySearch.jl tutorial\n",
    "by: Eric S. Téllez\n",
    "\n",
    "\n",
    "## Installing packages\n",
    "As usual, the first step consists on initializing the environment"
   ]
  },
  {
   "cell_type": "code",
   "execution_count": 1,
   "metadata": {},
   "outputs": [
    {
     "name": "stderr",
     "output_type": "stream",
     "text": [
      "\u001b[32m\u001b[1m  Activating\u001b[22m\u001b[39m environment at `~/Research/SimilaritySearchExamples/classification/Project.toml`\n"
     ]
    }
   ],
   "source": [
    "using Pkg\n",
    "pkg\"activate .\"\n",
    "# pkg\"add Printf MLDatasets LinearAlgebra Images StatsBase StatsPlots https://github.com/sadit/SimilaritySearch.jl\"\n",
    "using Printf, MLDatasets, MLDataUtils, LinearAlgebra, Images, ImageIO, StatsBase, StatsPlots, Statistics, SimilaritySearch\n"
   ]
  },
  {
   "cell_type": "code",
   "execution_count": null,
   "metadata": {},
   "outputs": [],
   "source": []
  },
  {
   "cell_type": "markdown",
   "metadata": {},
   "source": [
    "## Loading benchmarks\n",
    "Here we use the [Fashion-MNIST](https://juliaml.github.io/MLDatasets.jl/latest/datasets/FashionMNIST/) dataset (loaded with MLDatasets) which is designed to be a drop-in replacement for the well known MNIST."
   ]
  },
  {
   "cell_type": "code",
   "execution_count": 2,
   "metadata": {},
   "outputs": [
    {
     "data": {
      "text/plain": [
       "((28, 28, 60000), (28, 28, 10000), Base.ReinterpretArray{N0f8, 3, UInt8, Array{UInt8, 3}, false})"
      ]
     },
     "execution_count": 2,
     "metadata": {},
     "output_type": "execute_result"
    }
   ],
   "source": [
    "function load_data()\n",
    "    train_X, train_y = FashionMNIST.traindata()\n",
    "    test_X, test_y = FashionMNIST.testdata()\n",
    "    \n",
    "    #train_X, train_y = MNIST.traindata()\n",
    "    #test_X, test_y = MNIST.testdata()\n",
    "    (train_X=train_X, train_y=train_y, test_X=test_X, test_y=test_y)\n",
    "end\n",
    "\n",
    "D = load_data()\n",
    "size(D.train_X), size(D.test_X), typeof(D.train_X)"
   ]
  },
  {
   "cell_type": "markdown",
   "metadata": {},
   "source": [
    "## About preparing the data\n",
    "While `SimilaritySearch.jl` works with several data types, we decide to convert data instead of writing a new distance function\n",
    "to handle each image; also, it provides some speedup and reduces overflow problems on direct computation over the `MLDatasets.jl`'s numeric encoding for _MNIST_ and _Fashion-MNIST_."
   ]
  },
  {
   "cell_type": "code",
   "execution_count": 3,
   "metadata": {},
   "outputs": [
    {
     "data": {
      "text/plain": [
       "Vector{Float32} (alias for Array{Float32, 1})"
      ]
     },
     "execution_count": 3,
     "metadata": {},
     "output_type": "execute_result"
    }
   ],
   "source": [
    "\n",
    "vec(X, i) = Float32.(reshape(view(X, :, :, i), 28 * 28))\n",
    "\n",
    "#vec(X, i) = Float32.(reshape(view(X, :, :, i), 28 * 28)) |> normalize!\n",
    "#dist = angle_distance\n",
    "\n",
    "X = [vec(D.train_X, i) for i in 1:60000]\n",
    "queries = [vec(D.test_X, i) for i in 1:10000]\n",
    "eltype(X)"
   ]
  },
  {
   "cell_type": "markdown",
   "metadata": {},
   "source": [
    "## Visualizing\n",
    "The following functions will display images in the notebook"
   ]
  },
  {
   "cell_type": "code",
   "execution_count": 4,
   "metadata": {},
   "outputs": [
    {
     "data": {
      "text/plain": [
       "display_many (generic function with 1 method)"
      ]
     },
     "execution_count": 4,
     "metadata": {},
     "output_type": "execute_result"
    }
   ],
   "source": [
    "display_one(m) = display(Gray.(reshape(m, 28, 28))')\n",
    "display_many(arr) = display(Gray.(hcat([reshape(m, 28, 28)' for m in arr]...)))\n"
   ]
  },
  {
   "cell_type": "markdown",
   "metadata": {},
   "source": [
    "## Searching demos\n",
    "\n",
    "The first demo is made with an exhaustive search; this algorithm is pretty simple but low performant; it is indicated whenever the construction time can't be amortized by the number of queries."
   ]
  },
  {
   "cell_type": "code",
   "execution_count": 5,
   "metadata": {},
   "outputs": [
    {
     "name": "stderr",
     "output_type": "stream",
     "text": [
      "┌ Info: Precompiling PNGFiles [f57f5aa1-a3ce-4bc8-8ab9-96f992907883]\n",
      "└ @ Base loading.jl:1313\n"
     ]
    },
    {
     "data": {
      "image/png": "[encoded data removed]",
      "text/plain": [
       "28×28 adjoint(::Array{Gray{Float32},2}) with eltype Gray{Float32}:\n",
       " Gray{Float32}(0.0)  Gray{Float32}(0.0)  …  Gray{Float32}(0.0)\n",
       " Gray{Float32}(0.0)  Gray{Float32}(0.0)     Gray{Float32}(0.0)\n",
       " Gray{Float32}(0.0)  Gray{Float32}(0.0)     Gray{Float32}(0.0)\n",
       " Gray{Float32}(0.0)  Gray{Float32}(0.0)     Gray{Float32}(0.0)\n",
       " Gray{Float32}(0.0)  Gray{Float32}(0.0)     Gray{Float32}(0.0)\n",
       " Gray{Float32}(0.0)  Gray{Float32}(0.0)  …  Gray{Float32}(0.0)\n",
       " Gray{Float32}(0.0)  Gray{Float32}(0.0)     Gray{Float32}(0.0)\n",
       " Gray{Float32}(0.0)  Gray{Float32}(0.0)     Gray{Float32}(0.0)\n",
       " Gray{Float32}(0.0)  Gray{Float32}(0.0)     Gray{Float32}(0.0)\n",
       " Gray{Float32}(0.0)  Gray{Float32}(0.0)     Gray{Float32}(0.0)\n",
       " Gray{Float32}(0.0)  Gray{Float32}(0.0)  …  Gray{Float32}(0.0)\n",
       " Gray{Float32}(0.0)  Gray{Float32}(0.0)     Gray{Float32}(0.0)\n",
       " Gray{Float32}(0.0)  Gray{Float32}(0.0)     Gray{Float32}(0.0)\n",
       " ⋮                                       ⋱  \n",
       " Gray{Float32}(0.0)  Gray{Float32}(0.0)     Gray{Float32}(0.0)\n",
       " Gray{Float32}(0.0)  Gray{Float32}(0.0)     Gray{Float32}(0.0)\n",
       " Gray{Float32}(0.0)  Gray{Float32}(0.0)     Gray{Float32}(0.0)\n",
       " Gray{Float32}(0.0)  Gray{Float32}(0.0)     Gray{Float32}(0.0)\n",
       " Gray{Float32}(0.0)  Gray{Float32}(0.0)  …  Gray{Float32}(0.0)\n",
       " Gray{Float32}(0.0)  Gray{Float32}(0.0)     Gray{Float32}(0.0)\n",
       " Gray{Float32}(0.0)  Gray{Float32}(0.0)     Gray{Float32}(0.0)\n",
       " Gray{Float32}(0.0)  Gray{Float32}(0.0)     Gray{Float32}(0.0)\n",
       " Gray{Float32}(0.0)  Gray{Float32}(0.0)     Gray{Float32}(0.0)\n",
       " Gray{Float32}(0.0)  Gray{Float32}(0.0)  …  Gray{Float32}(0.0)\n",
       " Gray{Float32}(0.0)  Gray{Float32}(0.0)     Gray{Float32}(0.0)\n",
       " Gray{Float32}(0.0)  Gray{Float32}(0.0)     Gray{Float32}(0.0)"
      ]
     },
     "metadata": {},
     "output_type": "display_data"
    },
    {
     "data": {
      "image/png": "[encoded data removed]",
      "text/plain": [
       "28×420 Array{Gray{Float32},2} with eltype Gray{Float32}:\n",
       " Gray{Float32}(0.0)  Gray{Float32}(0.0)  …  Gray{Float32}(0.0)\n",
       " Gray{Float32}(0.0)  Gray{Float32}(0.0)     Gray{Float32}(0.0)\n",
       " Gray{Float32}(0.0)  Gray{Float32}(0.0)     Gray{Float32}(0.0)\n",
       " Gray{Float32}(0.0)  Gray{Float32}(0.0)     Gray{Float32}(0.0)\n",
       " Gray{Float32}(0.0)  Gray{Float32}(0.0)     Gray{Float32}(0.0)\n",
       " Gray{Float32}(0.0)  Gray{Float32}(0.0)  …  Gray{Float32}(0.0)\n",
       " Gray{Float32}(0.0)  Gray{Float32}(0.0)     Gray{Float32}(0.0)\n",
       " Gray{Float32}(0.0)  Gray{Float32}(0.0)     Gray{Float32}(0.0)\n",
       " Gray{Float32}(0.0)  Gray{Float32}(0.0)     Gray{Float32}(0.0)\n",
       " Gray{Float32}(0.0)  Gray{Float32}(0.0)     Gray{Float32}(0.0)\n",
       " Gray{Float32}(0.0)  Gray{Float32}(0.0)  …  Gray{Float32}(0.0)\n",
       " Gray{Float32}(0.0)  Gray{Float32}(0.0)     Gray{Float32}(0.0)\n",
       " Gray{Float32}(0.0)  Gray{Float32}(0.0)     Gray{Float32}(0.0)\n",
       " ⋮                                       ⋱  \n",
       " Gray{Float32}(0.0)  Gray{Float32}(0.0)     Gray{Float32}(0.0)\n",
       " Gray{Float32}(0.0)  Gray{Float32}(0.0)     Gray{Float32}(0.0)\n",
       " Gray{Float32}(0.0)  Gray{Float32}(0.0)     Gray{Float32}(0.0)\n",
       " Gray{Float32}(0.0)  Gray{Float32}(0.0)     Gray{Float32}(0.0)\n",
       " Gray{Float32}(0.0)  Gray{Float32}(0.0)  …  Gray{Float32}(0.0)\n",
       " Gray{Float32}(0.0)  Gray{Float32}(0.0)     Gray{Float32}(0.0)\n",
       " Gray{Float32}(0.0)  Gray{Float32}(0.0)     Gray{Float32}(0.0)\n",
       " Gray{Float32}(0.0)  Gray{Float32}(0.0)     Gray{Float32}(0.0)\n",
       " Gray{Float32}(0.0)  Gray{Float32}(0.0)     Gray{Float32}(0.0)\n",
       " Gray{Float32}(0.0)  Gray{Float32}(0.0)  …  Gray{Float32}(0.0)\n",
       " Gray{Float32}(0.0)  Gray{Float32}(0.0)     Gray{Float32}(0.0)\n",
       " Gray{Float32}(0.0)  Gray{Float32}(0.0)     Gray{Float32}(0.0)"
      ]
     },
     "metadata": {},
     "output_type": "display_data"
    },
    {
     "data": {
      "text/html": [
       "results (obj => dist): 21710 => 11.67, 20199 => 14.96, 4814 => 15.53, 57955 => 15.87, 52140 => 16.17, 8578 => 16.24, 18411 => 16.26, 14013 => 16.49, 30216 => 16.97, 48997 => 17.00, 59615 => 17.21, 32 => 17.39, 43815 => 17.50, 53625 => 17.74, 51177 => 17.79"
      ]
     },
     "metadata": {},
     "output_type": "display_data"
    },
    {
     "data": {
      "image/png": "[encoded data removed]",
      "text/plain": [
       "28×28 adjoint(::Array{Gray{Float32},2}) with eltype Gray{Float32}:\n",
       " Gray{Float32}(0.0)        …  Gray{Float32}(0.0)\n",
       " Gray{Float32}(0.0)           Gray{Float32}(0.0)\n",
       " Gray{Float32}(0.0)           Gray{Float32}(0.0)\n",
       " Gray{Float32}(0.0)           Gray{Float32}(0.0)\n",
       " Gray{Float32}(0.0)           Gray{Float32}(0.0)\n",
       " Gray{Float32}(0.0)        …  Gray{Float32}(0.0)\n",
       " Gray{Float32}(0.0)           Gray{Float32}(0.0)\n",
       " Gray{Float32}(0.0)           Gray{Float32}(0.0)\n",
       " Gray{Float32}(0.0)           Gray{Float32}(0.0)\n",
       " Gray{Float32}(0.0)           Gray{Float32}(0.0)\n",
       " Gray{Float32}(0.0)        …  Gray{Float32}(0.0)\n",
       " Gray{Float32}(0.0)           Gray{Float32}(0.0)\n",
       " Gray{Float32}(0.0)           Gray{Float32}(0.0)\n",
       " ⋮                         ⋱  \n",
       " Gray{Float32}(0.0)           Gray{Float32}(0.0)\n",
       " Gray{Float32}(0.0)           Gray{Float32}(0.0)\n",
       " Gray{Float32}(0.0)           Gray{Float32}(0.0)\n",
       " Gray{Float32}(0.0)           Gray{Float32}(0.0)\n",
       " Gray{Float32}(0.0)        …  Gray{Float32}(0.0)\n",
       " Gray{Float32}(0.101961)      Gray{Float32}(0.0823529)\n",
       " Gray{Float32}(0.207843)      Gray{Float32}(0.184314)\n",
       " Gray{Float32}(0.0196078)     Gray{Float32}(0.168627)\n",
       " Gray{Float32}(0.0)           Gray{Float32}(0.0705882)\n",
       " Gray{Float32}(0.0)        …  Gray{Float32}(0.0)\n",
       " Gray{Float32}(0.0)           Gray{Float32}(0.0)\n",
       " Gray{Float32}(0.0)           Gray{Float32}(0.0)"
      ]
     },
     "metadata": {},
     "output_type": "display_data"
    },
    {
     "name": "stdout",
     "output_type": "stream",
     "text": [
      "  0.084106 seconds (75.97 k allocations: 4.253 MiB, 74.83% compilation time)\n"
     ]
    },
    {
     "data": {
      "image/png": "[encoded data removed]",
      "text/plain": [
       "28×420 Array{Gray{Float32},2} with eltype Gray{Float32}:\n",
       " Gray{Float32}(0.0)       …  Gray{Float32}(0.0)\n",
       " Gray{Float32}(0.0)          Gray{Float32}(0.0)\n",
       " Gray{Float32}(0.0)          Gray{Float32}(0.0)\n",
       " Gray{Float32}(0.0)          Gray{Float32}(0.0)\n",
       " Gray{Float32}(0.0)          Gray{Float32}(0.0)\n",
       " Gray{Float32}(0.0)       …  Gray{Float32}(0.0)\n",
       " Gray{Float32}(0.0)          Gray{Float32}(0.0)\n",
       " Gray{Float32}(0.0)          Gray{Float32}(0.0)\n",
       " Gray{Float32}(0.0)          Gray{Float32}(0.0)\n",
       " Gray{Float32}(0.0)          Gray{Float32}(0.0)\n",
       " Gray{Float32}(0.0)       …  Gray{Float32}(0.0)\n",
       " Gray{Float32}(0.0)          Gray{Float32}(0.0)\n",
       " Gray{Float32}(0.0)          Gray{Float32}(0.0)\n",
       " ⋮                        ⋱  \n",
       " Gray{Float32}(0.0)          Gray{Float32}(0.0)\n",
       " Gray{Float32}(0.0)          Gray{Float32}(0.0)\n",
       " Gray{Float32}(0.0)          Gray{Float32}(0.0352941)\n",
       " Gray{Float32}(0.0)          Gray{Float32}(0.109804)\n",
       " Gray{Float32}(0.0)       …  Gray{Float32}(0.141176)\n",
       " Gray{Float32}(0.0)          Gray{Float32}(0.14902)\n",
       " Gray{Float32}(0.164706)     Gray{Float32}(0.141176)\n",
       " Gray{Float32}(0.239216)     Gray{Float32}(0.145098)\n",
       " Gray{Float32}(0.0)          Gray{Float32}(0.176471)\n",
       " Gray{Float32}(0.0)       …  Gray{Float32}(0.0)\n",
       " Gray{Float32}(0.0)          Gray{Float32}(0.0)\n",
       " Gray{Float32}(0.0)          Gray{Float32}(0.0)"
      ]
     },
     "metadata": {},
     "output_type": "display_data"
    },
    {
     "data": {
      "text/html": [
       "results (obj => dist): 26118 => 18.03, 27434 => 18.39, 4803 => 19.35, 50124 => 19.60, 52998 => 19.73, 2015 => 20.43, 25051 => 20.74, 15560 => 20.84, 6068 => 21.18, 1337 => 21.85, 10523 => 22.27, 30995 => 22.63, 43684 => 22.75, 23468 => 23.82, 31792 => 24.97"
      ]
     },
     "metadata": {},
     "output_type": "display_data"
    },
    {
     "data": {
      "image/png": "[encoded data removed]",
      "text/plain": [
       "28×28 adjoint(::Array{Gray{Float32},2}) with eltype Gray{Float32}:\n",
       " Gray{Float32}(0.0)  Gray{Float32}(0.0)  …  Gray{Float32}(0.0)\n",
       " Gray{Float32}(0.0)  Gray{Float32}(0.0)     Gray{Float32}(0.0)\n",
       " Gray{Float32}(0.0)  Gray{Float32}(0.0)     Gray{Float32}(0.0)\n",
       " Gray{Float32}(0.0)  Gray{Float32}(0.0)     Gray{Float32}(0.0)\n",
       " Gray{Float32}(0.0)  Gray{Float32}(0.0)     Gray{Float32}(0.0)\n",
       " Gray{Float32}(0.0)  Gray{Float32}(0.0)  …  Gray{Float32}(0.0)\n",
       " Gray{Float32}(0.0)  Gray{Float32}(0.0)     Gray{Float32}(0.0)\n",
       " Gray{Float32}(0.0)  Gray{Float32}(0.0)     Gray{Float32}(0.0)\n",
       " Gray{Float32}(0.0)  Gray{Float32}(0.0)     Gray{Float32}(0.0)\n",
       " Gray{Float32}(0.0)  Gray{Float32}(0.0)     Gray{Float32}(0.0)\n",
       " Gray{Float32}(0.0)  Gray{Float32}(0.0)  …  Gray{Float32}(0.0)\n",
       " Gray{Float32}(0.0)  Gray{Float32}(0.0)     Gray{Float32}(0.0)\n",
       " Gray{Float32}(0.0)  Gray{Float32}(0.0)     Gray{Float32}(0.0)\n",
       " ⋮                                       ⋱  \n",
       " Gray{Float32}(0.0)  Gray{Float32}(0.0)     Gray{Float32}(0.0)\n",
       " Gray{Float32}(0.0)  Gray{Float32}(0.0)     Gray{Float32}(0.0)\n",
       " Gray{Float32}(0.0)  Gray{Float32}(0.0)     Gray{Float32}(0.0)\n",
       " Gray{Float32}(0.0)  Gray{Float32}(0.0)     Gray{Float32}(0.0)\n",
       " Gray{Float32}(0.0)  Gray{Float32}(0.0)  …  Gray{Float32}(0.0)\n",
       " Gray{Float32}(0.0)  Gray{Float32}(0.0)     Gray{Float32}(0.0)\n",
       " Gray{Float32}(0.0)  Gray{Float32}(0.0)     Gray{Float32}(0.0)\n",
       " Gray{Float32}(0.0)  Gray{Float32}(0.0)     Gray{Float32}(0.0)\n",
       " Gray{Float32}(0.0)  Gray{Float32}(0.0)     Gray{Float32}(0.0)\n",
       " Gray{Float32}(0.0)  Gray{Float32}(0.0)  …  Gray{Float32}(0.0)\n",
       " Gray{Float32}(0.0)  Gray{Float32}(0.0)     Gray{Float32}(0.0)\n",
       " Gray{Float32}(0.0)  Gray{Float32}(0.0)     Gray{Float32}(0.0)"
      ]
     },
     "metadata": {},
     "output_type": "display_data"
    },
    {
     "data": {
      "image/png": "[encoded data removed]",
      "text/plain": [
       "28×420 Array{Gray{Float32},2} with eltype Gray{Float32}:\n",
       " Gray{Float32}(0.0)  Gray{Float32}(0.0)  …  Gray{Float32}(0.0)\n",
       " Gray{Float32}(0.0)  Gray{Float32}(0.0)     Gray{Float32}(0.0)\n",
       " Gray{Float32}(0.0)  Gray{Float32}(0.0)     Gray{Float32}(0.0)\n",
       " Gray{Float32}(0.0)  Gray{Float32}(0.0)     Gray{Float32}(0.0)\n",
       " Gray{Float32}(0.0)  Gray{Float32}(0.0)     Gray{Float32}(0.0)\n",
       " Gray{Float32}(0.0)  Gray{Float32}(0.0)  …  Gray{Float32}(0.0)\n",
       " Gray{Float32}(0.0)  Gray{Float32}(0.0)     Gray{Float32}(0.0)\n",
       " Gray{Float32}(0.0)  Gray{Float32}(0.0)     Gray{Float32}(0.0)\n",
       " Gray{Float32}(0.0)  Gray{Float32}(0.0)     Gray{Float32}(0.0)\n",
       " Gray{Float32}(0.0)  Gray{Float32}(0.0)     Gray{Float32}(0.0)\n",
       " Gray{Float32}(0.0)  Gray{Float32}(0.0)  …  Gray{Float32}(0.0)\n",
       " Gray{Float32}(0.0)  Gray{Float32}(0.0)     Gray{Float32}(0.0)\n",
       " Gray{Float32}(0.0)  Gray{Float32}(0.0)     Gray{Float32}(0.0)\n",
       " ⋮                                       ⋱  \n",
       " Gray{Float32}(0.0)  Gray{Float32}(0.0)     Gray{Float32}(0.0)\n",
       " Gray{Float32}(0.0)  Gray{Float32}(0.0)     Gray{Float32}(0.0)\n",
       " Gray{Float32}(0.0)  Gray{Float32}(0.0)     Gray{Float32}(0.0)\n",
       " Gray{Float32}(0.0)  Gray{Float32}(0.0)     Gray{Float32}(0.0)\n",
       " Gray{Float32}(0.0)  Gray{Float32}(0.0)  …  Gray{Float32}(0.0)\n",
       " Gray{Float32}(0.0)  Gray{Float32}(0.0)     Gray{Float32}(0.0)\n",
       " Gray{Float32}(0.0)  Gray{Float32}(0.0)     Gray{Float32}(0.0)\n",
       " Gray{Float32}(0.0)  Gray{Float32}(0.0)     Gray{Float32}(0.0)\n",
       " Gray{Float32}(0.0)  Gray{Float32}(0.0)     Gray{Float32}(0.0)\n",
       " Gray{Float32}(0.0)  Gray{Float32}(0.0)  …  Gray{Float32}(0.0)\n",
       " Gray{Float32}(0.0)  Gray{Float32}(0.0)     Gray{Float32}(0.0)\n",
       " Gray{Float32}(0.0)  Gray{Float32}(0.0)     Gray{Float32}(0.0)"
      ]
     },
     "metadata": {},
     "output_type": "display_data"
    },
    {
     "data": {
      "text/html": [
       "results (obj => dist): 16460 => 3.76, 54158 => 7.47, 58600 => 8.06, 56416 => 8.19, 39495 => 9.71, 8451 => 10.91, 29205 => 11.09, 21191 => 11.33, 40358 => 11.39, 52963 => 11.54, 56468 => 11.92, 57109 => 12.24, 1998 => 12.62, 5423 => 12.88, 5961 => 12.94"
      ]
     },
     "metadata": {},
     "output_type": "display_data"
    },
    {
     "data": {
      "image/png": "[encoded data removed]",
      "text/plain": [
       "28×28 adjoint(::Array{Gray{Float32},2}) with eltype Gray{Float32}:\n",
       " Gray{Float32}(0.0)        …  Gray{Float32}(0.0)\n",
       " Gray{Float32}(0.0)           Gray{Float32}(0.0)\n",
       " Gray{Float32}(0.0)           Gray{Float32}(0.0)\n",
       " Gray{Float32}(0.0)           Gray{Float32}(0.0)\n",
       " Gray{Float32}(0.0)           Gray{Float32}(0.192157)\n",
       " Gray{Float32}(0.0)        …  Gray{Float32}(0.768627)\n",
       " Gray{Float32}(0.0)           Gray{Float32}(0.752941)\n",
       " Gray{Float32}(0.0)           Gray{Float32}(0.54902)\n",
       " Gray{Float32}(0.0)           Gray{Float32}(0.4)\n",
       " Gray{Float32}(0.0)           Gray{Float32}(0.301961)\n",
       " Gray{Float32}(0.0)        …  Gray{Float32}(0.239216)\n",
       " Gray{Float32}(0.0)           Gray{Float32}(0.243137)\n",
       " Gray{Float32}(0.0)           Gray{Float32}(0.258824)\n",
       " ⋮                         ⋱  \n",
       " Gray{Float32}(0.0)           Gray{Float32}(0.588235)\n",
       " Gray{Float32}(0.0)           Gray{Float32}(0.419608)\n",
       " Gray{Float32}(0.0)           Gray{Float32}(0.364706)\n",
       " Gray{Float32}(0.0)           Gray{Float32}(0.486275)\n",
       " Gray{Float32}(0.0)        …  Gray{Float32}(0.564706)\n",
       " Gray{Float32}(0.0)           Gray{Float32}(0.701961)\n",
       " Gray{Float32}(0.388235)      Gray{Float32}(0.0745098)\n",
       " Gray{Float32}(0.0352941)     Gray{Float32}(0.0)\n",
       " Gray{Float32}(0.0)           Gray{Float32}(0.0)\n",
       " Gray{Float32}(0.0)        …  Gray{Float32}(0.0)\n",
       " Gray{Float32}(0.0)           Gray{Float32}(0.0)\n",
       " Gray{Float32}(0.0)           Gray{Float32}(0.0)"
      ]
     },
     "metadata": {},
     "output_type": "display_data"
    },
    {
     "data": {
      "image/png": "[encoded data removed]",
      "text/plain": [
       "28×420 Array{Gray{Float32},2} with eltype Gray{Float32}:\n",
       " Gray{Float32}(0.0)         …  Gray{Float32}(0.0)\n",
       " Gray{Float32}(0.0)            Gray{Float32}(0.0)\n",
       " Gray{Float32}(0.0)            Gray{Float32}(0.0)\n",
       " Gray{Float32}(0.0)            Gray{Float32}(0.0)\n",
       " Gray{Float32}(0.0)            Gray{Float32}(0.0)\n",
       " Gray{Float32}(0.0)         …  Gray{Float32}(0.0)\n",
       " Gray{Float32}(0.0)            Gray{Float32}(0.133333)\n",
       " Gray{Float32}(0.0)            Gray{Float32}(0.305882)\n",
       " Gray{Float32}(0.0313726)      Gray{Float32}(0.290196)\n",
       " Gray{Float32}(0.258824)       Gray{Float32}(0.337255)\n",
       " Gray{Float32}(0.0)         …  Gray{Float32}(0.313726)\n",
       " Gray{Float32}(0.00392157)     Gray{Float32}(0.337255)\n",
       " Gray{Float32}(0.0313726)      Gray{Float32}(0.368627)\n",
       " ⋮                          ⋱  \n",
       " Gray{Float32}(0.0)            Gray{Float32}(0.305882)\n",
       " Gray{Float32}(0.0)            Gray{Float32}(0.305882)\n",
       " Gray{Float32}(0.0)            Gray{Float32}(0.298039)\n",
       " Gray{Float32}(0.0)            Gray{Float32}(0.262745)\n",
       " Gray{Float32}(0.0)         …  Gray{Float32}(0.305882)\n",
       " Gray{Float32}(0.054902)       Gray{Float32}(0.521569)\n",
       " Gray{Float32}(0.188235)       Gray{Float32}(0.0235294)\n",
       " Gray{Float32}(0.0)            Gray{Float32}(0.0)\n",
       " Gray{Float32}(0.0)            Gray{Float32}(0.0)\n",
       " Gray{Float32}(0.0)         …  Gray{Float32}(0.0)\n",
       " Gray{Float32}(0.0)            Gray{Float32}(0.0)\n",
       " Gray{Float32}(0.0)            Gray{Float32}(0.0)"
      ]
     },
     "metadata": {},
     "output_type": "display_data"
    },
    {
     "data": {
      "text/html": [
       "results (obj => dist): 14230 => 37.25, 34875 => 38.75, 22536 => 38.93, 12506 => 39.01, 6433 => 39.02, 7606 => 39.02, 36064 => 39.79, 20261 => 39.84, 45896 => 41.11, 36279 => 41.28, 27746 => 41.38, 55503 => 41.73, 5118 => 41.76, 13760 => 41.89, 36819 => 42.61"
      ]
     },
     "metadata": {},
     "output_type": "display_data"
    },
    {
     "data": {
      "image/png": "[encoded data removed]",
      "text/plain": [
       "28×28 adjoint(::Array{Gray{Float32},2}) with eltype Gray{Float32}:\n",
       " Gray{Float32}(0.0)  Gray{Float32}(0.0)  …  Gray{Float32}(0.0)\n",
       " Gray{Float32}(0.0)  Gray{Float32}(0.0)     Gray{Float32}(0.0)\n",
       " Gray{Float32}(0.0)  Gray{Float32}(0.0)     Gray{Float32}(0.0)\n",
       " Gray{Float32}(0.0)  Gray{Float32}(0.0)     Gray{Float32}(0.0)\n",
       " Gray{Float32}(0.0)  Gray{Float32}(0.0)     Gray{Float32}(0.0)\n",
       " Gray{Float32}(0.0)  Gray{Float32}(0.0)  …  Gray{Float32}(0.0)\n",
       " Gray{Float32}(0.0)  Gray{Float32}(0.0)     Gray{Float32}(0.0)\n",
       " Gray{Float32}(0.0)  Gray{Float32}(0.0)     Gray{Float32}(0.0)\n",
       " Gray{Float32}(0.0)  Gray{Float32}(0.0)     Gray{Float32}(0.0)\n",
       " Gray{Float32}(0.0)  Gray{Float32}(0.0)     Gray{Float32}(0.0)\n",
       " Gray{Float32}(0.0)  Gray{Float32}(0.0)  …  Gray{Float32}(0.0)\n",
       " Gray{Float32}(0.0)  Gray{Float32}(0.0)     Gray{Float32}(0.0)\n",
       " Gray{Float32}(0.0)  Gray{Float32}(0.0)     Gray{Float32}(0.0)\n",
       " ⋮                                       ⋱  \n",
       " Gray{Float32}(0.0)  Gray{Float32}(0.0)     Gray{Float32}(0.0)\n",
       " Gray{Float32}(0.0)  Gray{Float32}(0.0)     Gray{Float32}(0.0)\n",
       " Gray{Float32}(0.0)  Gray{Float32}(0.0)     Gray{Float32}(0.0)\n",
       " Gray{Float32}(0.0)  Gray{Float32}(0.0)     Gray{Float32}(0.0)\n",
       " Gray{Float32}(0.0)  Gray{Float32}(0.0)  …  Gray{Float32}(0.0)\n",
       " Gray{Float32}(0.0)  Gray{Float32}(0.0)     Gray{Float32}(0.0)\n",
       " Gray{Float32}(0.0)  Gray{Float32}(0.0)     Gray{Float32}(0.0)\n",
       " Gray{Float32}(0.0)  Gray{Float32}(0.0)     Gray{Float32}(0.0)\n",
       " Gray{Float32}(0.0)  Gray{Float32}(0.0)     Gray{Float32}(0.0)\n",
       " Gray{Float32}(0.0)  Gray{Float32}(0.0)  …  Gray{Float32}(0.0)\n",
       " Gray{Float32}(0.0)  Gray{Float32}(0.0)     Gray{Float32}(0.0)\n",
       " Gray{Float32}(0.0)  Gray{Float32}(0.0)     Gray{Float32}(0.0)"
      ]
     },
     "metadata": {},
     "output_type": "display_data"
    },
    {
     "data": {
      "image/png": "[encoded data removed]",
      "text/plain": [
       "28×420 Array{Gray{Float32},2} with eltype Gray{Float32}:\n",
       " Gray{Float32}(0.0)  Gray{Float32}(0.0)  …  Gray{Float32}(0.0)\n",
       " Gray{Float32}(0.0)  Gray{Float32}(0.0)     Gray{Float32}(0.0)\n",
       " Gray{Float32}(0.0)  Gray{Float32}(0.0)     Gray{Float32}(0.0)\n",
       " Gray{Float32}(0.0)  Gray{Float32}(0.0)     Gray{Float32}(0.0)\n",
       " Gray{Float32}(0.0)  Gray{Float32}(0.0)     Gray{Float32}(0.0)\n",
       " Gray{Float32}(0.0)  Gray{Float32}(0.0)  …  Gray{Float32}(0.0)\n",
       " Gray{Float32}(0.0)  Gray{Float32}(0.0)     Gray{Float32}(0.0)\n",
       " Gray{Float32}(0.0)  Gray{Float32}(0.0)     Gray{Float32}(0.0)\n",
       " Gray{Float32}(0.0)  Gray{Float32}(0.0)     Gray{Float32}(0.0)\n",
       " Gray{Float32}(0.0)  Gray{Float32}(0.0)     Gray{Float32}(0.0)\n",
       " Gray{Float32}(0.0)  Gray{Float32}(0.0)  …  Gray{Float32}(0.0)\n",
       " Gray{Float32}(0.0)  Gray{Float32}(0.0)     Gray{Float32}(0.0)\n",
       " Gray{Float32}(0.0)  Gray{Float32}(0.0)     Gray{Float32}(0.0)\n",
       " ⋮                                       ⋱  \n",
       " Gray{Float32}(0.0)  Gray{Float32}(0.0)     Gray{Float32}(0.0)\n",
       " Gray{Float32}(0.0)  Gray{Float32}(0.0)     Gray{Float32}(0.0)\n",
       " Gray{Float32}(0.0)  Gray{Float32}(0.0)     Gray{Float32}(0.0)\n",
       " Gray{Float32}(0.0)  Gray{Float32}(0.0)     Gray{Float32}(0.0)\n",
       " Gray{Float32}(0.0)  Gray{Float32}(0.0)  …  Gray{Float32}(0.0)\n",
       " Gray{Float32}(0.0)  Gray{Float32}(0.0)     Gray{Float32}(0.0)\n",
       " Gray{Float32}(0.0)  Gray{Float32}(0.0)     Gray{Float32}(0.0)\n",
       " Gray{Float32}(0.0)  Gray{Float32}(0.0)     Gray{Float32}(0.0)\n",
       " Gray{Float32}(0.0)  Gray{Float32}(0.0)     Gray{Float32}(0.0)\n",
       " Gray{Float32}(0.0)  Gray{Float32}(0.0)  …  Gray{Float32}(0.0)\n",
       " Gray{Float32}(0.0)  Gray{Float32}(0.0)     Gray{Float32}(0.0)\n",
       " Gray{Float32}(0.0)  Gray{Float32}(0.0)     Gray{Float32}(0.0)"
      ]
     },
     "metadata": {},
     "output_type": "display_data"
    },
    {
     "data": {
      "text/html": [
       "results (obj => dist): 1072 => 12.99, 53213 => 13.97, 39516 => 14.40, 3 => 14.53, 27328 => 14.92, 18698 => 15.61, 35364 => 15.67, 20377 => 15.98, 25520 => 16.26, 56484 => 16.37, 27254 => 16.39, 38601 => 16.52, 45413 => 16.58, 57614 => 16.76, 6130 => 16.80"
      ]
     },
     "metadata": {},
     "output_type": "display_data"
    },
    {
     "data": {
      "image/png": "[encoded data removed]",
      "text/plain": [
       "28×28 adjoint(::Array{Gray{Float32},2}) with eltype Gray{Float32}:\n",
       " Gray{Float32}(0.0)  Gray{Float32}(0.0)  …  Gray{Float32}(0.0)\n",
       " Gray{Float32}(0.0)  Gray{Float32}(0.0)     Gray{Float32}(0.0)\n",
       " Gray{Float32}(0.0)  Gray{Float32}(0.0)     Gray{Float32}(0.0)\n",
       " Gray{Float32}(0.0)  Gray{Float32}(0.0)     Gray{Float32}(0.0)\n",
       " Gray{Float32}(0.0)  Gray{Float32}(0.0)     Gray{Float32}(0.0)\n",
       " Gray{Float32}(0.0)  Gray{Float32}(0.0)  …  Gray{Float32}(0.0)\n",
       " Gray{Float32}(0.0)  Gray{Float32}(0.0)     Gray{Float32}(0.0)\n",
       " Gray{Float32}(0.0)  Gray{Float32}(0.0)     Gray{Float32}(0.0)\n",
       " Gray{Float32}(0.0)  Gray{Float32}(0.0)     Gray{Float32}(0.0)\n",
       " Gray{Float32}(0.0)  Gray{Float32}(0.0)     Gray{Float32}(0.0)\n",
       " Gray{Float32}(0.0)  Gray{Float32}(0.0)  …  Gray{Float32}(0.0)\n",
       " Gray{Float32}(0.0)  Gray{Float32}(0.0)     Gray{Float32}(0.0)\n",
       " Gray{Float32}(0.0)  Gray{Float32}(0.0)     Gray{Float32}(0.0)\n",
       " ⋮                                       ⋱  \n",
       " Gray{Float32}(0.0)  Gray{Float32}(0.0)     Gray{Float32}(0.0)\n",
       " Gray{Float32}(0.0)  Gray{Float32}(0.0)     Gray{Float32}(0.0)\n",
       " Gray{Float32}(0.0)  Gray{Float32}(0.0)     Gray{Float32}(0.0)\n",
       " Gray{Float32}(0.0)  Gray{Float32}(0.0)     Gray{Float32}(0.0)\n",
       " Gray{Float32}(0.0)  Gray{Float32}(0.0)  …  Gray{Float32}(0.0)\n",
       " Gray{Float32}(0.0)  Gray{Float32}(0.0)     Gray{Float32}(0.0)\n",
       " Gray{Float32}(0.0)  Gray{Float32}(0.0)     Gray{Float32}(0.0)\n",
       " Gray{Float32}(0.0)  Gray{Float32}(0.0)     Gray{Float32}(0.0)\n",
       " Gray{Float32}(0.0)  Gray{Float32}(0.0)     Gray{Float32}(0.0)\n",
       " Gray{Float32}(0.0)  Gray{Float32}(0.0)  …  Gray{Float32}(0.0)\n",
       " Gray{Float32}(0.0)  Gray{Float32}(0.0)     Gray{Float32}(0.0)\n",
       " Gray{Float32}(0.0)  Gray{Float32}(0.0)     Gray{Float32}(0.0)"
      ]
     },
     "metadata": {},
     "output_type": "display_data"
    },
    {
     "data": {
      "image/png": "[encoded data removed]",
      "text/plain": [
       "28×420 Array{Gray{Float32},2} with eltype Gray{Float32}:\n",
       " Gray{Float32}(0.0)  Gray{Float32}(0.0)  …  Gray{Float32}(0.0)\n",
       " Gray{Float32}(0.0)  Gray{Float32}(0.0)     Gray{Float32}(0.0)\n",
       " Gray{Float32}(0.0)  Gray{Float32}(0.0)     Gray{Float32}(0.0)\n",
       " Gray{Float32}(0.0)  Gray{Float32}(0.0)     Gray{Float32}(0.0)\n",
       " Gray{Float32}(0.0)  Gray{Float32}(0.0)     Gray{Float32}(0.0)\n",
       " Gray{Float32}(0.0)  Gray{Float32}(0.0)  …  Gray{Float32}(0.0)\n",
       " Gray{Float32}(0.0)  Gray{Float32}(0.0)     Gray{Float32}(0.0)\n",
       " Gray{Float32}(0.0)  Gray{Float32}(0.0)     Gray{Float32}(0.0)\n",
       " Gray{Float32}(0.0)  Gray{Float32}(0.0)     Gray{Float32}(0.0)\n",
       " Gray{Float32}(0.0)  Gray{Float32}(0.0)     Gray{Float32}(0.0)\n",
       " Gray{Float32}(0.0)  Gray{Float32}(0.0)  …  Gray{Float32}(0.0)\n",
       " Gray{Float32}(0.0)  Gray{Float32}(0.0)     Gray{Float32}(0.0)\n",
       " Gray{Float32}(0.0)  Gray{Float32}(0.0)     Gray{Float32}(0.0)\n",
       " ⋮                                       ⋱  \n",
       " Gray{Float32}(0.0)  Gray{Float32}(0.0)     Gray{Float32}(0.0)\n",
       " Gray{Float32}(0.0)  Gray{Float32}(0.0)     Gray{Float32}(0.0)\n",
       " Gray{Float32}(0.0)  Gray{Float32}(0.0)     Gray{Float32}(0.0)\n",
       " Gray{Float32}(0.0)  Gray{Float32}(0.0)     Gray{Float32}(0.0)\n",
       " Gray{Float32}(0.0)  Gray{Float32}(0.0)  …  Gray{Float32}(0.0)\n",
       " Gray{Float32}(0.0)  Gray{Float32}(0.0)     Gray{Float32}(0.0)\n",
       " Gray{Float32}(0.0)  Gray{Float32}(0.0)     Gray{Float32}(0.0)\n",
       " Gray{Float32}(0.0)  Gray{Float32}(0.0)     Gray{Float32}(0.0)\n",
       " Gray{Float32}(0.0)  Gray{Float32}(0.0)     Gray{Float32}(0.0)\n",
       " Gray{Float32}(0.0)  Gray{Float32}(0.0)  …  Gray{Float32}(0.0)\n",
       " Gray{Float32}(0.0)  Gray{Float32}(0.0)     Gray{Float32}(0.0)\n",
       " Gray{Float32}(0.0)  Gray{Float32}(0.0)     Gray{Float32}(0.0)"
      ]
     },
     "metadata": {},
     "output_type": "display_data"
    },
    {
     "data": {
      "text/html": [
       "results (obj => dist): 9492 => 10.77, 5483 => 11.57, 13920 => 12.06, 35798 => 12.14, 31914 => 12.47, 11599 => 13.89, 6961 => 13.95, 33318 => 14.29, 20255 => 14.35, 33319 => 14.51, 34788 => 14.67, 58750 => 14.82, 47211 => 16.20, 56319 => 16.24, 30296 => 16.44"
      ]
     },
     "metadata": {},
     "output_type": "display_data"
    },
    {
     "data": {
      "image/png": "[encoded data removed]",
      "text/plain": [
       "28×28 adjoint(::Array{Gray{Float32},2}) with eltype Gray{Float32}:\n",
       " Gray{Float32}(0.0)  Gray{Float32}(0.0)  …  Gray{Float32}(0.0)\n",
       " Gray{Float32}(0.0)  Gray{Float32}(0.0)     Gray{Float32}(0.0)\n",
       " Gray{Float32}(0.0)  Gray{Float32}(0.0)     Gray{Float32}(0.0)\n",
       " Gray{Float32}(0.0)  Gray{Float32}(0.0)     Gray{Float32}(0.0)\n",
       " Gray{Float32}(0.0)  Gray{Float32}(0.0)     Gray{Float32}(0.0)\n",
       " Gray{Float32}(0.0)  Gray{Float32}(0.0)  …  Gray{Float32}(0.0)\n",
       " Gray{Float32}(0.0)  Gray{Float32}(0.0)     Gray{Float32}(0.0)\n",
       " Gray{Float32}(0.0)  Gray{Float32}(0.0)     Gray{Float32}(0.0)\n",
       " Gray{Float32}(0.0)  Gray{Float32}(0.0)     Gray{Float32}(0.0)\n",
       " Gray{Float32}(0.0)  Gray{Float32}(0.0)     Gray{Float32}(0.0)\n",
       " Gray{Float32}(0.0)  Gray{Float32}(0.0)  …  Gray{Float32}(0.0)\n",
       " Gray{Float32}(0.0)  Gray{Float32}(0.0)     Gray{Float32}(0.0)\n",
       " Gray{Float32}(0.0)  Gray{Float32}(0.0)     Gray{Float32}(0.0)\n",
       " ⋮                                       ⋱  \n",
       " Gray{Float32}(0.0)  Gray{Float32}(0.0)     Gray{Float32}(0.0)\n",
       " Gray{Float32}(0.0)  Gray{Float32}(0.0)     Gray{Float32}(0.0)\n",
       " Gray{Float32}(0.0)  Gray{Float32}(0.0)     Gray{Float32}(0.0)\n",
       " Gray{Float32}(0.0)  Gray{Float32}(0.0)     Gray{Float32}(0.0)\n",
       " Gray{Float32}(0.0)  Gray{Float32}(0.0)  …  Gray{Float32}(0.0)\n",
       " Gray{Float32}(0.0)  Gray{Float32}(0.0)     Gray{Float32}(0.0)\n",
       " Gray{Float32}(0.0)  Gray{Float32}(0.0)     Gray{Float32}(0.0)\n",
       " Gray{Float32}(0.0)  Gray{Float32}(0.0)     Gray{Float32}(0.0)\n",
       " Gray{Float32}(0.0)  Gray{Float32}(0.0)     Gray{Float32}(0.0)\n",
       " Gray{Float32}(0.0)  Gray{Float32}(0.0)  …  Gray{Float32}(0.0)\n",
       " Gray{Float32}(0.0)  Gray{Float32}(0.0)     Gray{Float32}(0.0)\n",
       " Gray{Float32}(0.0)  Gray{Float32}(0.0)     Gray{Float32}(0.0)"
      ]
     },
     "metadata": {},
     "output_type": "display_data"
    },
    {
     "name": "stdout",
     "output_type": "stream",
     "text": [
      "  0.020508 seconds\n",
      "  0.020469 seconds\n",
      "  0.020492 seconds\n",
      "  0.020393 seconds\n",
      "  0.020284 seconds\n"
     ]
    },
    {
     "data": {
      "image/png": "[encoded data removed]",
      "text/plain": [
       "28×420 Array{Gray{Float32},2} with eltype Gray{Float32}:\n",
       " Gray{Float32}(0.0)  Gray{Float32}(0.0)  …  Gray{Float32}(0.0)\n",
       " Gray{Float32}(0.0)  Gray{Float32}(0.0)     Gray{Float32}(0.0)\n",
       " Gray{Float32}(0.0)  Gray{Float32}(0.0)     Gray{Float32}(0.0)\n",
       " Gray{Float32}(0.0)  Gray{Float32}(0.0)     Gray{Float32}(0.0)\n",
       " Gray{Float32}(0.0)  Gray{Float32}(0.0)     Gray{Float32}(0.0)\n",
       " Gray{Float32}(0.0)  Gray{Float32}(0.0)  …  Gray{Float32}(0.0)\n",
       " Gray{Float32}(0.0)  Gray{Float32}(0.0)     Gray{Float32}(0.0)\n",
       " Gray{Float32}(0.0)  Gray{Float32}(0.0)     Gray{Float32}(0.0)\n",
       " Gray{Float32}(0.0)  Gray{Float32}(0.0)     Gray{Float32}(0.0)\n",
       " Gray{Float32}(0.0)  Gray{Float32}(0.0)     Gray{Float32}(0.0)\n",
       " Gray{Float32}(0.0)  Gray{Float32}(0.0)  …  Gray{Float32}(0.0)\n",
       " Gray{Float32}(0.0)  Gray{Float32}(0.0)     Gray{Float32}(0.0)\n",
       " Gray{Float32}(0.0)  Gray{Float32}(0.0)     Gray{Float32}(0.0)\n",
       " ⋮                                       ⋱  \n",
       " Gray{Float32}(0.0)  Gray{Float32}(0.0)     Gray{Float32}(0.0)\n",
       " Gray{Float32}(0.0)  Gray{Float32}(0.0)     Gray{Float32}(0.0)\n",
       " Gray{Float32}(0.0)  Gray{Float32}(0.0)     Gray{Float32}(0.0)\n",
       " Gray{Float32}(0.0)  Gray{Float32}(0.0)     Gray{Float32}(0.0)\n",
       " Gray{Float32}(0.0)  Gray{Float32}(0.0)  …  Gray{Float32}(0.0)\n",
       " Gray{Float32}(0.0)  Gray{Float32}(0.0)     Gray{Float32}(0.0)\n",
       " Gray{Float32}(0.0)  Gray{Float32}(0.0)     Gray{Float32}(0.0)\n",
       " Gray{Float32}(0.0)  Gray{Float32}(0.0)     Gray{Float32}(0.0)\n",
       " Gray{Float32}(0.0)  Gray{Float32}(0.0)     Gray{Float32}(0.0)\n",
       " Gray{Float32}(0.0)  Gray{Float32}(0.0)  …  Gray{Float32}(0.0)\n",
       " Gray{Float32}(0.0)  Gray{Float32}(0.0)     Gray{Float32}(0.0)\n",
       " Gray{Float32}(0.0)  Gray{Float32}(0.0)     Gray{Float32}(0.0)"
      ]
     },
     "metadata": {},
     "output_type": "display_data"
    },
    {
     "data": {
      "text/html": [
       "results (obj => dist): 51515 => 11.22, 32094 => 12.79, 27676 => 13.29, 52103 => 14.19, 43938 => 15.58, 59323 => 15.83, 59782 => 15.99, 2639 => 15.99, 29856 => 16.03, 53732 => 16.10, 58477 => 16.23, 34890 => 16.54, 46556 => 16.75, 47718 => 16.81, 31099 => 17.19"
      ]
     },
     "metadata": {},
     "output_type": "display_data"
    },
    {
     "name": "stdout",
     "output_type": "stream",
     "text": [
      "  0.020471 seconds\n"
     ]
    }
   ],
   "source": [
    "\n",
    "function sequential_search_demo()\n",
    "    index = ExhaustiveSearch(SqL2Distance(), X)\n",
    "\n",
    "    for q in rand(queries, 7)\n",
    "        display_one(q)\n",
    "        @time res = search(index, q, 15)\n",
    "        display_many([X[p.id] for p in res])\n",
    "        msg = [(@sprintf \"%d => %0.2f\" p.id p.dist) for p in res]\n",
    "        display(\"text/html\", \"results (obj => dist): \" * join(msg, \", \"))\n",
    "    end\n",
    "    \n",
    "    index\n",
    "end\n",
    "\n",
    "seq = sequential_search_demo();"
   ]
  },
  {
   "cell_type": "markdown",
   "metadata": {},
   "source": [
    "## Searching with faster indexes\n",
    "Fast exact indexes can be created using metric division strategies, but the faster ones some times are designed to retrieve an approximation of the solution. In any case, indexes for fast similarity search need to amortize the construction cost with a large number of queries. The following functions only exemplify the searching process, however, the number of queries is too small to show the typical case of use of these indexes.\n"
   ]
  },
  {
   "cell_type": "markdown",
   "metadata": {},
   "source": [
    "## Solving queries with a proximity search graph\n",
    "The `SearchGraph` is a faster index but with a more expensive construction."
   ]
  },
  {
   "cell_type": "code",
   "execution_count": 6,
   "metadata": {},
   "outputs": [
    {
     "name": "stderr",
     "output_type": "stream",
     "text": [
      "{SearchGraph: dist=SqL2Distance(), n=0, search_algo={BeamSearch: bsize=16, ssize=16, hints=0, neighborhood_algo=LogNeighborhood, knn=10}\n",
      "added n=10000, neighborhood=14, {BeamSearch: bsize=16, ssize=16, hints=0, LogNeighborhood, 2021-02-11T10:40:30.157\n",
      "added n=20000, neighborhood=15, {BeamSearch: bsize=16, ssize=16, hints=0, LogNeighborhood, 2021-02-11T10:40:33.652\n",
      "added n=30000, neighborhood=15, {BeamSearch: bsize=16, ssize=16, hints=0, LogNeighborhood, 2021-02-11T10:40:38.298\n",
      "added n=40000, neighborhood=16, {BeamSearch: bsize=16, ssize=16, hints=0, LogNeighborhood, 2021-02-11T10:40:43.821\n",
      "added n=50000, neighborhood=16, {BeamSearch: bsize=16, ssize=16, hints=0, LogNeighborhood, 2021-02-11T10:40:50.072\n",
      "added n=60000, neighborhood=16, {BeamSearch: bsize=16, ssize=16, hints=0, LogNeighborhood, 2021-02-11T10:40:56.959"
     ]
    },
    {
     "data": {
      "image/png": "[encoded data removed]",
      "text/plain": [
       "28×28 adjoint(::Array{Gray{Float32},2}) with eltype Gray{Float32}:\n",
       " Gray{Float32}(0.0)  Gray{Float32}(0.0)  …  Gray{Float32}(0.0)\n",
       " Gray{Float32}(0.0)  Gray{Float32}(0.0)     Gray{Float32}(0.0)\n",
       " Gray{Float32}(0.0)  Gray{Float32}(0.0)     Gray{Float32}(0.0)\n",
       " Gray{Float32}(0.0)  Gray{Float32}(0.0)     Gray{Float32}(0.0)\n",
       " Gray{Float32}(0.0)  Gray{Float32}(0.0)     Gray{Float32}(0.0)\n",
       " Gray{Float32}(0.0)  Gray{Float32}(0.0)  …  Gray{Float32}(0.0)\n",
       " Gray{Float32}(0.0)  Gray{Float32}(0.0)     Gray{Float32}(0.0)\n",
       " Gray{Float32}(0.0)  Gray{Float32}(0.0)     Gray{Float32}(0.0)\n",
       " Gray{Float32}(0.0)  Gray{Float32}(0.0)     Gray{Float32}(0.0)\n",
       " Gray{Float32}(0.0)  Gray{Float32}(0.0)     Gray{Float32}(0.0)\n",
       " Gray{Float32}(0.0)  Gray{Float32}(0.0)  …  Gray{Float32}(0.0)\n",
       " Gray{Float32}(0.0)  Gray{Float32}(0.0)     Gray{Float32}(0.0)\n",
       " Gray{Float32}(0.0)  Gray{Float32}(0.0)     Gray{Float32}(0.0)\n",
       " ⋮                                       ⋱  \n",
       " Gray{Float32}(0.0)  Gray{Float32}(0.0)     Gray{Float32}(0.0)\n",
       " Gray{Float32}(0.0)  Gray{Float32}(0.0)     Gray{Float32}(0.0)\n",
       " Gray{Float32}(0.0)  Gray{Float32}(0.0)     Gray{Float32}(0.0)\n",
       " Gray{Float32}(0.0)  Gray{Float32}(0.0)     Gray{Float32}(0.0)\n",
       " Gray{Float32}(0.0)  Gray{Float32}(0.0)  …  Gray{Float32}(0.0)\n",
       " Gray{Float32}(0.0)  Gray{Float32}(0.0)     Gray{Float32}(0.0)\n",
       " Gray{Float32}(0.0)  Gray{Float32}(0.0)     Gray{Float32}(0.0)\n",
       " Gray{Float32}(0.0)  Gray{Float32}(0.0)     Gray{Float32}(0.0)\n",
       " Gray{Float32}(0.0)  Gray{Float32}(0.0)     Gray{Float32}(0.0)\n",
       " Gray{Float32}(0.0)  Gray{Float32}(0.0)  …  Gray{Float32}(0.0)\n",
       " Gray{Float32}(0.0)  Gray{Float32}(0.0)     Gray{Float32}(0.0)\n",
       " Gray{Float32}(0.0)  Gray{Float32}(0.0)     Gray{Float32}(0.0)"
      ]
     },
     "metadata": {},
     "output_type": "display_data"
    },
    {
     "data": {
      "image/png": "[encoded data removed]",
      "text/plain": [
       "28×420 Array{Gray{Float32},2} with eltype Gray{Float32}:\n",
       " Gray{Float32}(0.0)  Gray{Float32}(0.0)  …  Gray{Float32}(0.0)\n",
       " Gray{Float32}(0.0)  Gray{Float32}(0.0)     Gray{Float32}(0.0)\n",
       " Gray{Float32}(0.0)  Gray{Float32}(0.0)     Gray{Float32}(0.0)\n",
       " Gray{Float32}(0.0)  Gray{Float32}(0.0)     Gray{Float32}(0.0)\n",
       " Gray{Float32}(0.0)  Gray{Float32}(0.0)     Gray{Float32}(0.0)\n",
       " Gray{Float32}(0.0)  Gray{Float32}(0.0)  …  Gray{Float32}(0.0)\n",
       " Gray{Float32}(0.0)  Gray{Float32}(0.0)     Gray{Float32}(0.0)\n",
       " Gray{Float32}(0.0)  Gray{Float32}(0.0)     Gray{Float32}(0.0)\n",
       " Gray{Float32}(0.0)  Gray{Float32}(0.0)     Gray{Float32}(0.0)\n",
       " Gray{Float32}(0.0)  Gray{Float32}(0.0)     Gray{Float32}(0.0)\n",
       " Gray{Float32}(0.0)  Gray{Float32}(0.0)  …  Gray{Float32}(0.0)\n",
       " Gray{Float32}(0.0)  Gray{Float32}(0.0)     Gray{Float32}(0.0)\n",
       " Gray{Float32}(0.0)  Gray{Float32}(0.0)     Gray{Float32}(0.0)\n",
       " ⋮                                       ⋱  \n",
       " Gray{Float32}(0.0)  Gray{Float32}(0.0)     Gray{Float32}(0.0)\n",
       " Gray{Float32}(0.0)  Gray{Float32}(0.0)     Gray{Float32}(0.0)\n",
       " Gray{Float32}(0.0)  Gray{Float32}(0.0)     Gray{Float32}(0.0)\n",
       " Gray{Float32}(0.0)  Gray{Float32}(0.0)     Gray{Float32}(0.0)\n",
       " Gray{Float32}(0.0)  Gray{Float32}(0.0)  …  Gray{Float32}(0.0)\n",
       " Gray{Float32}(0.0)  Gray{Float32}(0.0)     Gray{Float32}(0.0)\n",
       " Gray{Float32}(0.0)  Gray{Float32}(0.0)     Gray{Float32}(0.0)\n",
       " Gray{Float32}(0.0)  Gray{Float32}(0.0)     Gray{Float32}(0.0)\n",
       " Gray{Float32}(0.0)  Gray{Float32}(0.0)     Gray{Float32}(0.0)\n",
       " Gray{Float32}(0.0)  Gray{Float32}(0.0)  …  Gray{Float32}(0.0)\n",
       " Gray{Float32}(0.0)  Gray{Float32}(0.0)     Gray{Float32}(0.0)\n",
       " Gray{Float32}(0.0)  Gray{Float32}(0.0)     Gray{Float32}(0.0)"
      ]
     },
     "metadata": {},
     "output_type": "display_data"
    },
    {
     "data": {
      "text/html": [
       "results (obj => dist): 8653 => 14.52, 7471 => 18.06, 46018 => 18.42, 49643 => 18.55, 53696 => 20.29, 44775 => 20.42, 56368 => 22.61, 38489 => 23.31, 2961 => 23.62, 40288 => 24.11, 32686 => 24.13, 55137 => 24.17, 42165 => 24.60, 30343 => 24.64, 233 => 24.78"
      ]
     },
     "metadata": {},
     "output_type": "display_data"
    },
    {
     "data": {
      "image/png": "[encoded data removed]",
      "text/plain": [
       "28×28 adjoint(::Array{Gray{Float32},2}) with eltype Gray{Float32}:\n",
       " Gray{Float32}(0.0)  Gray{Float32}(0.0)  …  Gray{Float32}(0.0)\n",
       " Gray{Float32}(0.0)  Gray{Float32}(0.0)     Gray{Float32}(0.0)\n",
       " Gray{Float32}(0.0)  Gray{Float32}(0.0)     Gray{Float32}(0.0)\n",
       " Gray{Float32}(0.0)  Gray{Float32}(0.0)     Gray{Float32}(0.0)\n",
       " Gray{Float32}(0.0)  Gray{Float32}(0.0)     Gray{Float32}(0.0)\n",
       " Gray{Float32}(0.0)  Gray{Float32}(0.0)  …  Gray{Float32}(0.0)\n",
       " Gray{Float32}(0.0)  Gray{Float32}(0.0)     Gray{Float32}(0.0)\n",
       " Gray{Float32}(0.0)  Gray{Float32}(0.0)     Gray{Float32}(0.0)\n",
       " Gray{Float32}(0.0)  Gray{Float32}(0.0)     Gray{Float32}(0.0)\n",
       " Gray{Float32}(0.0)  Gray{Float32}(0.0)     Gray{Float32}(0.0)\n",
       " Gray{Float32}(0.0)  Gray{Float32}(0.0)  …  Gray{Float32}(0.0)\n",
       " Gray{Float32}(0.0)  Gray{Float32}(0.0)     Gray{Float32}(0.0)\n",
       " Gray{Float32}(0.0)  Gray{Float32}(0.0)     Gray{Float32}(0.0)\n",
       " ⋮                                       ⋱  \n",
       " Gray{Float32}(0.0)  Gray{Float32}(0.0)     Gray{Float32}(0.0)\n",
       " Gray{Float32}(0.0)  Gray{Float32}(0.0)     Gray{Float32}(0.0)\n",
       " Gray{Float32}(0.0)  Gray{Float32}(0.0)     Gray{Float32}(0.0)\n",
       " Gray{Float32}(0.0)  Gray{Float32}(0.0)     Gray{Float32}(0.0)\n",
       " Gray{Float32}(0.0)  Gray{Float32}(0.0)  …  Gray{Float32}(0.0)\n",
       " Gray{Float32}(0.0)  Gray{Float32}(0.0)     Gray{Float32}(0.0)\n",
       " Gray{Float32}(0.0)  Gray{Float32}(0.0)     Gray{Float32}(0.0)\n",
       " Gray{Float32}(0.0)  Gray{Float32}(0.0)     Gray{Float32}(0.0)\n",
       " Gray{Float32}(0.0)  Gray{Float32}(0.0)     Gray{Float32}(0.0)\n",
       " Gray{Float32}(0.0)  Gray{Float32}(0.0)  …  Gray{Float32}(0.0)\n",
       " Gray{Float32}(0.0)  Gray{Float32}(0.0)     Gray{Float32}(0.0)\n",
       " Gray{Float32}(0.0)  Gray{Float32}(0.0)     Gray{Float32}(0.0)"
      ]
     },
     "metadata": {},
     "output_type": "display_data"
    },
    {
     "data": {
      "image/png": "[encoded data removed]",
      "text/plain": [
       "28×420 Array{Gray{Float32},2} with eltype Gray{Float32}:\n",
       " Gray{Float32}(0.0)  Gray{Float32}(0.0)  …  Gray{Float32}(0.0)\n",
       " Gray{Float32}(0.0)  Gray{Float32}(0.0)     Gray{Float32}(0.0)\n",
       " Gray{Float32}(0.0)  Gray{Float32}(0.0)     Gray{Float32}(0.0)\n",
       " Gray{Float32}(0.0)  Gray{Float32}(0.0)     Gray{Float32}(0.0)\n",
       " Gray{Float32}(0.0)  Gray{Float32}(0.0)     Gray{Float32}(0.0)\n",
       " Gray{Float32}(0.0)  Gray{Float32}(0.0)  …  Gray{Float32}(0.0)\n",
       " Gray{Float32}(0.0)  Gray{Float32}(0.0)     Gray{Float32}(0.0)\n",
       " Gray{Float32}(0.0)  Gray{Float32}(0.0)     Gray{Float32}(0.0)\n",
       " Gray{Float32}(0.0)  Gray{Float32}(0.0)     Gray{Float32}(0.0)\n",
       " Gray{Float32}(0.0)  Gray{Float32}(0.0)     Gray{Float32}(0.0)\n",
       " Gray{Float32}(0.0)  Gray{Float32}(0.0)  …  Gray{Float32}(0.0)\n",
       " Gray{Float32}(0.0)  Gray{Float32}(0.0)     Gray{Float32}(0.0)\n",
       " Gray{Float32}(0.0)  Gray{Float32}(0.0)     Gray{Float32}(0.0)\n",
       " ⋮                                       ⋱  \n",
       " Gray{Float32}(0.0)  Gray{Float32}(0.0)     Gray{Float32}(0.0)\n",
       " Gray{Float32}(0.0)  Gray{Float32}(0.0)     Gray{Float32}(0.0)\n",
       " Gray{Float32}(0.0)  Gray{Float32}(0.0)     Gray{Float32}(0.0)\n",
       " Gray{Float32}(0.0)  Gray{Float32}(0.0)     Gray{Float32}(0.0)\n",
       " Gray{Float32}(0.0)  Gray{Float32}(0.0)  …  Gray{Float32}(0.0)\n",
       " Gray{Float32}(0.0)  Gray{Float32}(0.0)     Gray{Float32}(0.0)\n",
       " Gray{Float32}(0.0)  Gray{Float32}(0.0)     Gray{Float32}(0.0)\n",
       " Gray{Float32}(0.0)  Gray{Float32}(0.0)     Gray{Float32}(0.0)\n",
       " Gray{Float32}(0.0)  Gray{Float32}(0.0)     Gray{Float32}(0.0)\n",
       " Gray{Float32}(0.0)  Gray{Float32}(0.0)  …  Gray{Float32}(0.0)\n",
       " Gray{Float32}(0.0)  Gray{Float32}(0.0)     Gray{Float32}(0.0)\n",
       " Gray{Float32}(0.0)  Gray{Float32}(0.0)     Gray{Float32}(0.0)"
      ]
     },
     "metadata": {},
     "output_type": "display_data"
    },
    {
     "data": {
      "text/html": [
       "results (obj => dist): 40840 => 21.90, 50922 => 22.06, 11887 => 22.40, 55863 => 22.54, 34026 => 22.61, 23958 => 23.10, 6850 => 23.18, 41632 => 23.27, 38936 => 23.42, 45654 => 23.47, 36444 => 23.59, 34916 => 23.76, 43698 => 24.13, 3362 => 24.61, 22203 => 24.95"
      ]
     },
     "metadata": {},
     "output_type": "display_data"
    },
    {
     "data": {
      "image/png": "[encoded data removed]",
      "text/plain": [
       "28×28 adjoint(::Array{Gray{Float32},2}) with eltype Gray{Float32}:\n",
       " Gray{Float32}(0.0)         …  Gray{Float32}(0.0)\n",
       " Gray{Float32}(0.0)            Gray{Float32}(0.0)\n",
       " Gray{Float32}(0.0)            Gray{Float32}(0.0)\n",
       " Gray{Float32}(0.0)            Gray{Float32}(0.0)\n",
       " Gray{Float32}(0.00392157)     Gray{Float32}(0.0)\n",
       " Gray{Float32}(0.0)         …  Gray{Float32}(0.00784314)\n",
       " Gray{Float32}(0.0)            Gray{Float32}(0.0)\n",
       " Gray{Float32}(0.0)            Gray{Float32}(0.00392157)\n",
       " Gray{Float32}(0.0)            Gray{Float32}(0.0)\n",
       " Gray{Float32}(0.0)            Gray{Float32}(0.301961)\n",
       " Gray{Float32}(0.0)         …  Gray{Float32}(0.4)\n",
       " Gray{Float32}(0.0)            Gray{Float32}(0.0)\n",
       " Gray{Float32}(0.0)            Gray{Float32}(0.0117647)\n",
       " ⋮                          ⋱  \n",
       " Gray{Float32}(0.0)            Gray{Float32}(0.00392157)\n",
       " Gray{Float32}(0.0)            Gray{Float32}(0.0)\n",
       " Gray{Float32}(0.0)            Gray{Float32}(0.0)\n",
       " Gray{Float32}(0.0)            Gray{Float32}(0.0)\n",
       " Gray{Float32}(0.0)         …  Gray{Float32}(0.0)\n",
       " Gray{Float32}(0.34902)        Gray{Float32}(0.0)\n",
       " Gray{Float32}(0.772549)       Gray{Float32}(0.00784314)\n",
       " Gray{Float32}(0.529412)       Gray{Float32}(0.0196078)\n",
       " Gray{Float32}(0.368627)       Gray{Float32}(0.0156863)\n",
       " Gray{Float32}(0.0784314)   …  Gray{Float32}(0.0)\n",
       " Gray{Float32}(0.0)            Gray{Float32}(0.0)\n",
       " Gray{Float32}(0.0)            Gray{Float32}(0.0)"
      ]
     },
     "metadata": {},
     "output_type": "display_data"
    },
    {
     "data": {
      "image/png": "[encoded data removed]",
      "text/plain": [
       "28×420 Array{Gray{Float32},2} with eltype Gray{Float32}:\n",
       " Gray{Float32}(0.0)         …  Gray{Float32}(0.0)\n",
       " Gray{Float32}(0.0)            Gray{Float32}(0.0)\n",
       " Gray{Float32}(0.0)            Gray{Float32}(0.0)\n",
       " Gray{Float32}(0.0)            Gray{Float32}(0.0)\n",
       " Gray{Float32}(0.00392157)     Gray{Float32}(0.0)\n",
       " Gray{Float32}(0.00392157)  …  Gray{Float32}(0.0)\n",
       " Gray{Float32}(0.0)            Gray{Float32}(0.0)\n",
       " Gray{Float32}(0.0)            Gray{Float32}(0.0)\n",
       " Gray{Float32}(0.0)            Gray{Float32}(0.0)\n",
       " Gray{Float32}(0.0)            Gray{Float32}(0.0)\n",
       " Gray{Float32}(0.0)         …  Gray{Float32}(0.0)\n",
       " Gray{Float32}(0.0)            Gray{Float32}(0.0)\n",
       " Gray{Float32}(0.0)            Gray{Float32}(0.0784314)\n",
       " ⋮                          ⋱  \n",
       " Gray{Float32}(0.0)            Gray{Float32}(0.419608)\n",
       " Gray{Float32}(0.0)            Gray{Float32}(0.164706)\n",
       " Gray{Float32}(0.0)            Gray{Float32}(0.152941)\n",
       " Gray{Float32}(0.243137)       Gray{Float32}(0.298039)\n",
       " Gray{Float32}(0.572549)    …  Gray{Float32}(0.282353)\n",
       " Gray{Float32}(0.866667)       Gray{Float32}(0.278431)\n",
       " Gray{Float32}(0.882353)       Gray{Float32}(0.203922)\n",
       " Gray{Float32}(0.152941)       Gray{Float32}(0.211765)\n",
       " Gray{Float32}(0.0745098)      Gray{Float32}(0.172549)\n",
       " Gray{Float32}(0.0)         …  Gray{Float32}(0.0)\n",
       " Gray{Float32}(0.0)            Gray{Float32}(0.0)\n",
       " Gray{Float32}(0.0)            Gray{Float32}(0.0)"
      ]
     },
     "metadata": {},
     "output_type": "display_data"
    },
    {
     "data": {
      "text/html": [
       "results (obj => dist): 56069 => 25.31, 18568 => 29.10, 26036 => 29.36, 37831 => 31.99, 23482 => 36.23, 14297 => 37.45, 18735 => 38.85, 58458 => 38.86, 48750 => 39.54, 8539 => 39.56, 2697 => 41.29, 23860 => 42.70, 1011 => 42.74, 47752 => 43.07, 18109 => 43.20"
      ]
     },
     "metadata": {},
     "output_type": "display_data"
    },
    {
     "data": {
      "image/png": "[encoded data removed]",
      "text/plain": [
       "28×28 adjoint(::Array{Gray{Float32},2}) with eltype Gray{Float32}:\n",
       " Gray{Float32}(0.0)         …  Gray{Float32}(0.0)\n",
       " Gray{Float32}(0.0)            Gray{Float32}(0.0)\n",
       " Gray{Float32}(0.0)            Gray{Float32}(0.0)\n",
       " Gray{Float32}(0.0)            Gray{Float32}(0.0)\n",
       " Gray{Float32}(0.0)            Gray{Float32}(0.0)\n",
       " Gray{Float32}(0.0)         …  Gray{Float32}(0.0)\n",
       " Gray{Float32}(0.0)            Gray{Float32}(0.0)\n",
       " Gray{Float32}(0.0)            Gray{Float32}(0.0)\n",
       " Gray{Float32}(0.0)            Gray{Float32}(0.0)\n",
       " Gray{Float32}(0.0)            Gray{Float32}(0.0)\n",
       " Gray{Float32}(0.0)         …  Gray{Float32}(0.0)\n",
       " Gray{Float32}(0.0)            Gray{Float32}(0.0)\n",
       " Gray{Float32}(0.00392157)     Gray{Float32}(0.0)\n",
       " ⋮                          ⋱  \n",
       " Gray{Float32}(0.00392157)     Gray{Float32}(0.0)\n",
       " Gray{Float32}(0.00784314)     Gray{Float32}(0.00392157)\n",
       " Gray{Float32}(0.0)            Gray{Float32}(0.00392157)\n",
       " Gray{Float32}(0.0941176)      Gray{Float32}(0.00784314)\n",
       " Gray{Float32}(0.498039)    …  Gray{Float32}(0.00784314)\n",
       " Gray{Float32}(0.533333)       Gray{Float32}(0.0117647)\n",
       " Gray{Float32}(0.0)            Gray{Float32}(0.00784314)\n",
       " Gray{Float32}(0.0)            Gray{Float32}(0.0)\n",
       " Gray{Float32}(0.0)            Gray{Float32}(0.0)\n",
       " Gray{Float32}(0.0)         …  Gray{Float32}(0.0)\n",
       " Gray{Float32}(0.0)            Gray{Float32}(0.0)\n",
       " Gray{Float32}(0.0)            Gray{Float32}(0.0)"
      ]
     },
     "metadata": {},
     "output_type": "display_data"
    },
    {
     "data": {
      "image/png": "[encoded data removed]",
      "text/plain": [
       "28×420 Array{Gray{Float32},2} with eltype Gray{Float32}:\n",
       " Gray{Float32}(0.0)        …  Gray{Float32}(0.0)\n",
       " Gray{Float32}(0.0)           Gray{Float32}(0.0)\n",
       " Gray{Float32}(0.0)           Gray{Float32}(0.0)\n",
       " Gray{Float32}(0.0)           Gray{Float32}(0.0)\n",
       " Gray{Float32}(0.0)           Gray{Float32}(0.313726)\n",
       " Gray{Float32}(0.0)        …  Gray{Float32}(0.00784314)\n",
       " Gray{Float32}(0.0)           Gray{Float32}(0.0)\n",
       " Gray{Float32}(0.0)           Gray{Float32}(0.0)\n",
       " Gray{Float32}(0.0)           Gray{Float32}(0.0)\n",
       " Gray{Float32}(0.0)           Gray{Float32}(0.0)\n",
       " Gray{Float32}(0.0)        …  Gray{Float32}(0.0)\n",
       " Gray{Float32}(0.0)           Gray{Float32}(0.0)\n",
       " Gray{Float32}(0.0)           Gray{Float32}(0.0)\n",
       " ⋮                         ⋱  \n",
       " Gray{Float32}(0.0)           Gray{Float32}(0.0470588)\n",
       " Gray{Float32}(0.0)           Gray{Float32}(0.0)\n",
       " Gray{Float32}(0.0)           Gray{Float32}(0.0)\n",
       " Gray{Float32}(0.0)           Gray{Float32}(0.196078)\n",
       " Gray{Float32}(0.172549)   …  Gray{Float32}(0.141176)\n",
       " Gray{Float32}(0.0745098)     Gray{Float32}(0.109804)\n",
       " Gray{Float32}(0.0)           Gray{Float32}(0.113725)\n",
       " Gray{Float32}(0.0)           Gray{Float32}(0.0)\n",
       " Gray{Float32}(0.0)           Gray{Float32}(0.0)\n",
       " Gray{Float32}(0.0)        …  Gray{Float32}(0.0)\n",
       " Gray{Float32}(0.0)           Gray{Float32}(0.0)\n",
       " Gray{Float32}(0.0)           Gray{Float32}(0.0)"
      ]
     },
     "metadata": {},
     "output_type": "display_data"
    },
    {
     "data": {
      "text/html": [
       "results (obj => dist): 35453 => 18.46, 46974 => 18.90, 47693 => 20.45, 51945 => 20.47, 7103 => 21.43, 58322 => 21.54, 13791 => 22.88, 42045 => 23.00, 51099 => 23.38, 34021 => 23.39, 31293 => 23.55, 50182 => 23.87, 30774 => 23.88, 44378 => 24.42, 42285 => 24.58"
      ]
     },
     "metadata": {},
     "output_type": "display_data"
    },
    {
     "data": {
      "image/png": "[encoded data removed]",
      "text/plain": [
       "28×28 adjoint(::Array{Gray{Float32},2}) with eltype Gray{Float32}:\n",
       " Gray{Float32}(0.0)         …  Gray{Float32}(0.0)\n",
       " Gray{Float32}(0.0)            Gray{Float32}(0.0)\n",
       " Gray{Float32}(0.0)            Gray{Float32}(0.0)\n",
       " Gray{Float32}(0.0)            Gray{Float32}(0.0)\n",
       " Gray{Float32}(0.0)            Gray{Float32}(0.0)\n",
       " Gray{Float32}(0.0)         …  Gray{Float32}(0.0)\n",
       " Gray{Float32}(0.0)            Gray{Float32}(0.0)\n",
       " Gray{Float32}(0.0)            Gray{Float32}(0.0)\n",
       " Gray{Float32}(0.0)            Gray{Float32}(0.0117647)\n",
       " Gray{Float32}(0.0)            Gray{Float32}(0.0)\n",
       " Gray{Float32}(0.0)         …  Gray{Float32}(0.0588235)\n",
       " Gray{Float32}(0.0)            Gray{Float32}(0.313726)\n",
       " Gray{Float32}(0.0)            Gray{Float32}(0.0)\n",
       " ⋮                          ⋱  \n",
       " Gray{Float32}(0.0313726)      Gray{Float32}(0.00784314)\n",
       " Gray{Float32}(0.32549)        Gray{Float32}(0.0)\n",
       " Gray{Float32}(0.454902)       Gray{Float32}(0.0)\n",
       " Gray{Float32}(0.47451)        Gray{Float32}(0.0)\n",
       " Gray{Float32}(0.376471)    …  Gray{Float32}(0.0)\n",
       " Gray{Float32}(0.0588235)      Gray{Float32}(0.0)\n",
       " Gray{Float32}(0.0)            Gray{Float32}(0.0)\n",
       " Gray{Float32}(0.0)            Gray{Float32}(0.0)\n",
       " Gray{Float32}(0.00392157)     Gray{Float32}(0.0)\n",
       " Gray{Float32}(0.0)         …  Gray{Float32}(0.0)\n",
       " Gray{Float32}(0.0156863)      Gray{Float32}(0.0)\n",
       " Gray{Float32}(0.0)            Gray{Float32}(0.0)"
      ]
     },
     "metadata": {},
     "output_type": "display_data"
    },
    {
     "data": {
      "image/png": "[encoded data removed]",
      "text/plain": [
       "28×420 Array{Gray{Float32},2} with eltype Gray{Float32}:\n",
       " Gray{Float32}(0.0)         Gray{Float32}(0.0)         …  Gray{Float32}(0.0)\n",
       " Gray{Float32}(0.0)         Gray{Float32}(0.0)            Gray{Float32}(0.0)\n",
       " Gray{Float32}(0.0)         Gray{Float32}(0.0)            Gray{Float32}(0.0)\n",
       " Gray{Float32}(0.0)         Gray{Float32}(0.0)            Gray{Float32}(0.0)\n",
       " Gray{Float32}(0.0)         Gray{Float32}(0.0)            Gray{Float32}(0.0)\n",
       " Gray{Float32}(0.0)         Gray{Float32}(0.0)         …  Gray{Float32}(0.0)\n",
       " Gray{Float32}(0.0)         Gray{Float32}(0.0)            Gray{Float32}(0.0)\n",
       " Gray{Float32}(0.0)         Gray{Float32}(0.0)            Gray{Float32}(0.0)\n",
       " Gray{Float32}(0.0)         Gray{Float32}(0.0)            Gray{Float32}(0.0)\n",
       " Gray{Float32}(0.0)         Gray{Float32}(0.00784314)     Gray{Float32}(0.0)\n",
       " Gray{Float32}(0.0)         Gray{Float32}(0.0)         …  Gray{Float32}(0.0)\n",
       " Gray{Float32}(0.0)         Gray{Float32}(0.211765)       Gray{Float32}(0.0)\n",
       " Gray{Float32}(0.0)         Gray{Float32}(0.117647)       Gray{Float32}(0.0)\n",
       " ⋮                                                     ⋱  \n",
       " Gray{Float32}(0.227451)    Gray{Float32}(0.478431)       Gray{Float32}(0.0)\n",
       " Gray{Float32}(0.294118)    Gray{Float32}(0.196078)       Gray{Float32}(0.0)\n",
       " Gray{Float32}(0.32549)     Gray{Float32}(0.0)            Gray{Float32}(0.0)\n",
       " Gray{Float32}(0.25098)     Gray{Float32}(0.0431373)      Gray{Float32}(0.0)\n",
       " Gray{Float32}(0.270588)    Gray{Float32}(0.0745098)   …  Gray{Float32}(0.0)\n",
       " Gray{Float32}(0.00784314)  Gray{Float32}(0.32549)        Gray{Float32}(0.0)\n",
       " Gray{Float32}(0.0)         Gray{Float32}(0.262745)       Gray{Float32}(0.0)\n",
       " Gray{Float32}(0.00784314)  Gray{Float32}(0.0)            Gray{Float32}(0.0)\n",
       " Gray{Float32}(0.0196078)   Gray{Float32}(0.0)            Gray{Float32}(0.0)\n",
       " Gray{Float32}(0.0)         Gray{Float32}(0.00392157)  …  Gray{Float32}(0.0)\n",
       " Gray{Float32}(0.00392157)  Gray{Float32}(0.0)            Gray{Float32}(0.0)\n",
       " Gray{Float32}(0.00392157)  Gray{Float32}(0.00784314)     Gray{Float32}(0.0)"
      ]
     },
     "metadata": {},
     "output_type": "display_data"
    },
    {
     "data": {
      "text/html": [
       "results (obj => dist): 26387 => 28.49, 3453 => 30.84, 27076 => 36.69, 25935 => 37.12, 12629 => 38.44, 50843 => 39.55, 35168 => 41.05, 2987 => 41.40, 18502 => 41.42, 36697 => 42.31, 25114 => 42.51, 19284 => 42.74, 35303 => 42.79, 15625 => 43.18, 11099 => 43.36"
      ]
     },
     "metadata": {},
     "output_type": "display_data"
    },
    {
     "data": {
      "image/png": "[encoded data removed]",
      "text/plain": [
       "28×28 adjoint(::Array{Gray{Float32},2}) with eltype Gray{Float32}:\n",
       " Gray{Float32}(0.0)  Gray{Float32}(0.0)  …  Gray{Float32}(0.0)\n",
       " Gray{Float32}(0.0)  Gray{Float32}(0.0)     Gray{Float32}(0.0)\n",
       " Gray{Float32}(0.0)  Gray{Float32}(0.0)     Gray{Float32}(0.0)\n",
       " Gray{Float32}(0.0)  Gray{Float32}(0.0)     Gray{Float32}(0.0)\n",
       " Gray{Float32}(0.0)  Gray{Float32}(0.0)     Gray{Float32}(0.0)\n",
       " Gray{Float32}(0.0)  Gray{Float32}(0.0)  …  Gray{Float32}(0.0)\n",
       " Gray{Float32}(0.0)  Gray{Float32}(0.0)     Gray{Float32}(0.0)\n",
       " Gray{Float32}(0.0)  Gray{Float32}(0.0)     Gray{Float32}(0.0)\n",
       " Gray{Float32}(0.0)  Gray{Float32}(0.0)     Gray{Float32}(0.0)\n",
       " Gray{Float32}(0.0)  Gray{Float32}(0.0)     Gray{Float32}(0.0)\n",
       " Gray{Float32}(0.0)  Gray{Float32}(0.0)  …  Gray{Float32}(0.0)\n",
       " Gray{Float32}(0.0)  Gray{Float32}(0.0)     Gray{Float32}(0.0)\n",
       " Gray{Float32}(0.0)  Gray{Float32}(0.0)     Gray{Float32}(0.0)\n",
       " ⋮                                       ⋱  \n",
       " Gray{Float32}(0.0)  Gray{Float32}(0.0)     Gray{Float32}(0.0)\n",
       " Gray{Float32}(0.0)  Gray{Float32}(0.0)     Gray{Float32}(0.0)\n",
       " Gray{Float32}(0.0)  Gray{Float32}(0.0)     Gray{Float32}(0.0)\n",
       " Gray{Float32}(0.0)  Gray{Float32}(0.0)     Gray{Float32}(0.0)\n",
       " Gray{Float32}(0.0)  Gray{Float32}(0.0)  …  Gray{Float32}(0.0)\n",
       " Gray{Float32}(0.0)  Gray{Float32}(0.0)     Gray{Float32}(0.0)\n",
       " Gray{Float32}(0.0)  Gray{Float32}(0.0)     Gray{Float32}(0.0)\n",
       " Gray{Float32}(0.0)  Gray{Float32}(0.0)     Gray{Float32}(0.0)\n",
       " Gray{Float32}(0.0)  Gray{Float32}(0.0)     Gray{Float32}(0.0)\n",
       " Gray{Float32}(0.0)  Gray{Float32}(0.0)  …  Gray{Float32}(0.0)\n",
       " Gray{Float32}(0.0)  Gray{Float32}(0.0)     Gray{Float32}(0.0)\n",
       " Gray{Float32}(0.0)  Gray{Float32}(0.0)     Gray{Float32}(0.0)"
      ]
     },
     "metadata": {},
     "output_type": "display_data"
    },
    {
     "data": {
      "image/png": "[encoded data removed]",
      "text/plain": [
       "28×420 Array{Gray{Float32},2} with eltype Gray{Float32}:\n",
       " Gray{Float32}(0.0)  Gray{Float32}(0.0)  …  Gray{Float32}(0.0)\n",
       " Gray{Float32}(0.0)  Gray{Float32}(0.0)     Gray{Float32}(0.0)\n",
       " Gray{Float32}(0.0)  Gray{Float32}(0.0)     Gray{Float32}(0.0)\n",
       " Gray{Float32}(0.0)  Gray{Float32}(0.0)     Gray{Float32}(0.0)\n",
       " Gray{Float32}(0.0)  Gray{Float32}(0.0)     Gray{Float32}(0.0)\n",
       " Gray{Float32}(0.0)  Gray{Float32}(0.0)  …  Gray{Float32}(0.0)\n",
       " Gray{Float32}(0.0)  Gray{Float32}(0.0)     Gray{Float32}(0.0)\n",
       " Gray{Float32}(0.0)  Gray{Float32}(0.0)     Gray{Float32}(0.0)\n",
       " Gray{Float32}(0.0)  Gray{Float32}(0.0)     Gray{Float32}(0.0)\n",
       " Gray{Float32}(0.0)  Gray{Float32}(0.0)     Gray{Float32}(0.0)\n",
       " Gray{Float32}(0.0)  Gray{Float32}(0.0)  …  Gray{Float32}(0.0)\n",
       " Gray{Float32}(0.0)  Gray{Float32}(0.0)     Gray{Float32}(0.0)\n",
       " Gray{Float32}(0.0)  Gray{Float32}(0.0)     Gray{Float32}(0.0)\n",
       " ⋮                                       ⋱  \n",
       " Gray{Float32}(0.0)  Gray{Float32}(0.0)     Gray{Float32}(0.0)\n",
       " Gray{Float32}(0.0)  Gray{Float32}(0.0)     Gray{Float32}(0.0)\n",
       " Gray{Float32}(0.0)  Gray{Float32}(0.0)     Gray{Float32}(0.0)\n",
       " Gray{Float32}(0.0)  Gray{Float32}(0.0)     Gray{Float32}(0.0)\n",
       " Gray{Float32}(0.0)  Gray{Float32}(0.0)  …  Gray{Float32}(0.0)\n",
       " Gray{Float32}(0.0)  Gray{Float32}(0.0)     Gray{Float32}(0.0)\n",
       " Gray{Float32}(0.0)  Gray{Float32}(0.0)     Gray{Float32}(0.0)\n",
       " Gray{Float32}(0.0)  Gray{Float32}(0.0)     Gray{Float32}(0.0)\n",
       " Gray{Float32}(0.0)  Gray{Float32}(0.0)     Gray{Float32}(0.0)\n",
       " Gray{Float32}(0.0)  Gray{Float32}(0.0)  …  Gray{Float32}(0.0)\n",
       " Gray{Float32}(0.0)  Gray{Float32}(0.0)     Gray{Float32}(0.0)\n",
       " Gray{Float32}(0.0)  Gray{Float32}(0.0)     Gray{Float32}(0.0)"
      ]
     },
     "metadata": {},
     "output_type": "display_data"
    },
    {
     "data": {
      "text/html": [
       "results (obj => dist): 19326 => 20.28, 7765 => 20.46, 1246 => 20.92, 58040 => 20.94, 24144 => 21.60, 25850 => 21.76, 40908 => 22.33, 52269 => 22.53, 9286 => 22.73, 11517 => 22.93, 6623 => 23.13, 25527 => 23.27, 55343 => 23.40, 17119 => 23.47, 53048 => 23.49"
      ]
     },
     "metadata": {},
     "output_type": "display_data"
    },
    {
     "data": {
      "image/png": "[encoded data removed]",
      "text/plain": [
       "28×28 adjoint(::Array{Gray{Float32},2}) with eltype Gray{Float32}:\n",
       " Gray{Float32}(0.0)  Gray{Float32}(0.0)  …  Gray{Float32}(0.0)\n",
       " Gray{Float32}(0.0)  Gray{Float32}(0.0)     Gray{Float32}(0.0)\n",
       " Gray{Float32}(0.0)  Gray{Float32}(0.0)     Gray{Float32}(0.0)\n",
       " Gray{Float32}(0.0)  Gray{Float32}(0.0)     Gray{Float32}(0.0)\n",
       " Gray{Float32}(0.0)  Gray{Float32}(0.0)     Gray{Float32}(0.0)\n",
       " Gray{Float32}(0.0)  Gray{Float32}(0.0)  …  Gray{Float32}(0.0)\n",
       " Gray{Float32}(0.0)  Gray{Float32}(0.0)     Gray{Float32}(0.0)\n",
       " Gray{Float32}(0.0)  Gray{Float32}(0.0)     Gray{Float32}(0.0)\n",
       " Gray{Float32}(0.0)  Gray{Float32}(0.0)     Gray{Float32}(0.0)\n",
       " Gray{Float32}(0.0)  Gray{Float32}(0.0)     Gray{Float32}(0.0)\n",
       " Gray{Float32}(0.0)  Gray{Float32}(0.0)  …  Gray{Float32}(0.0)\n",
       " Gray{Float32}(0.0)  Gray{Float32}(0.0)     Gray{Float32}(0.0)\n",
       " Gray{Float32}(0.0)  Gray{Float32}(0.0)     Gray{Float32}(0.0)\n",
       " ⋮                                       ⋱  \n",
       " Gray{Float32}(0.0)  Gray{Float32}(0.0)     Gray{Float32}(0.0)\n",
       " Gray{Float32}(0.0)  Gray{Float32}(0.0)     Gray{Float32}(0.0)\n",
       " Gray{Float32}(0.0)  Gray{Float32}(0.0)     Gray{Float32}(0.0)\n",
       " Gray{Float32}(0.0)  Gray{Float32}(0.0)     Gray{Float32}(0.0)\n",
       " Gray{Float32}(0.0)  Gray{Float32}(0.0)  …  Gray{Float32}(0.0)\n",
       " Gray{Float32}(0.0)  Gray{Float32}(0.0)     Gray{Float32}(0.0)\n",
       " Gray{Float32}(0.0)  Gray{Float32}(0.0)     Gray{Float32}(0.0)\n",
       " Gray{Float32}(0.0)  Gray{Float32}(0.0)     Gray{Float32}(0.0)\n",
       " Gray{Float32}(0.0)  Gray{Float32}(0.0)     Gray{Float32}(0.0)\n",
       " Gray{Float32}(0.0)  Gray{Float32}(0.0)  …  Gray{Float32}(0.0)\n",
       " Gray{Float32}(0.0)  Gray{Float32}(0.0)     Gray{Float32}(0.0)\n",
       " Gray{Float32}(0.0)  Gray{Float32}(0.0)     Gray{Float32}(0.0)"
      ]
     },
     "metadata": {},
     "output_type": "display_data"
    },
    {
     "data": {
      "image/png": "[encoded data removed]",
      "text/plain": [
       "28×420 Array{Gray{Float32},2} with eltype Gray{Float32}:\n",
       " Gray{Float32}(0.0)  Gray{Float32}(0.0)  …  Gray{Float32}(0.0)\n",
       " Gray{Float32}(0.0)  Gray{Float32}(0.0)     Gray{Float32}(0.0)\n",
       " Gray{Float32}(0.0)  Gray{Float32}(0.0)     Gray{Float32}(0.0)\n",
       " Gray{Float32}(0.0)  Gray{Float32}(0.0)     Gray{Float32}(0.0)\n",
       " Gray{Float32}(0.0)  Gray{Float32}(0.0)     Gray{Float32}(0.0)\n",
       " Gray{Float32}(0.0)  Gray{Float32}(0.0)  …  Gray{Float32}(0.0)\n",
       " Gray{Float32}(0.0)  Gray{Float32}(0.0)     Gray{Float32}(0.0)\n",
       " Gray{Float32}(0.0)  Gray{Float32}(0.0)     Gray{Float32}(0.0)\n",
       " Gray{Float32}(0.0)  Gray{Float32}(0.0)     Gray{Float32}(0.0)\n",
       " Gray{Float32}(0.0)  Gray{Float32}(0.0)     Gray{Float32}(0.0)\n",
       " Gray{Float32}(0.0)  Gray{Float32}(0.0)  …  Gray{Float32}(0.0)\n",
       " Gray{Float32}(0.0)  Gray{Float32}(0.0)     Gray{Float32}(0.0)\n",
       " Gray{Float32}(0.0)  Gray{Float32}(0.0)     Gray{Float32}(0.0)\n",
       " ⋮                                       ⋱  \n",
       " Gray{Float32}(0.0)  Gray{Float32}(0.0)     Gray{Float32}(0.0)\n",
       " Gray{Float32}(0.0)  Gray{Float32}(0.0)     Gray{Float32}(0.0)\n",
       " Gray{Float32}(0.0)  Gray{Float32}(0.0)     Gray{Float32}(0.0)\n",
       " Gray{Float32}(0.0)  Gray{Float32}(0.0)     Gray{Float32}(0.0)\n",
       " Gray{Float32}(0.0)  Gray{Float32}(0.0)  …  Gray{Float32}(0.0)\n",
       " Gray{Float32}(0.0)  Gray{Float32}(0.0)     Gray{Float32}(0.0)\n",
       " Gray{Float32}(0.0)  Gray{Float32}(0.0)     Gray{Float32}(0.0)\n",
       " Gray{Float32}(0.0)  Gray{Float32}(0.0)     Gray{Float32}(0.0)\n",
       " Gray{Float32}(0.0)  Gray{Float32}(0.0)     Gray{Float32}(0.0)\n",
       " Gray{Float32}(0.0)  Gray{Float32}(0.0)  …  Gray{Float32}(0.0)\n",
       " Gray{Float32}(0.0)  Gray{Float32}(0.0)     Gray{Float32}(0.0)\n",
       " Gray{Float32}(0.0)  Gray{Float32}(0.0)     Gray{Float32}(0.0)"
      ]
     },
     "metadata": {},
     "output_type": "display_data"
    },
    {
     "data": {
      "text/html": [
       "results (obj => dist): 59789 => 39.88, 22607 => 40.02, 59911 => 40.26, 3345 => 40.59, 38422 => 41.42, 47872 => 41.49, 26701 => 42.34, 14164 => 42.60, 22910 => 42.75, 33074 => 42.75, 8433 => 43.12, 38948 => 43.18, 28332 => 43.36, 28939 => 43.61, 56526 => 43.73"
      ]
     },
     "metadata": {},
     "output_type": "display_data"
    },
    {
     "name": "stdout",
     "output_type": "stream",
     "text": [
      " 29.891469 seconds (1.58 M allocations: 107.024 MiB, 4.86% compilation time)\n",
      "  0.000211 seconds\n",
      "  0.000624 seconds\n",
      "  0.000443 seconds\n",
      "  0.000379 seconds\n",
      "  0.000648 seconds\n",
      "  0.000508 seconds\n",
      "  0.000649 seconds\n"
     ]
    },
    {
     "name": "stderr",
     "output_type": "stream",
     "text": [
      "\n"
     ]
    }
   ],
   "source": [
    "function searchgraph_search_demo()\n",
    "    # a real index only works whenever the number of queries amortizes the construction cost\n",
    "    @time index = SearchGraph(SqL2Distance(), X, verbose=true)\n",
    "    for q in rand(queries, 7)\n",
    "        display_one(q)\n",
    "        @time res = search(index, q, 15)\n",
    "        display_many([X[p.id] for p in res])\n",
    "        msg = [(@sprintf \"%d => %0.2f\" p.id p.dist) for p in res]\n",
    "        display(\"text/html\", \"results (obj => dist): \" * join(msg, \", \"))\n",
    "    end\n",
    "    \n",
    "    index\n",
    "end\n",
    "\n",
    "sgraph = searchgraph_search_demo();"
   ]
  },
  {
   "cell_type": "markdown",
   "metadata": {},
   "source": [
    "## A simple NN classifier\n",
    "Lets create a classifier to measure the performance and the quality impact of the different indexes"
   ]
  },
  {
   "cell_type": "code",
   "execution_count": 7,
   "metadata": {},
   "outputs": [
    {
     "data": {
      "text/plain": [
       "classify (generic function with 1 method)"
      ]
     },
     "execution_count": 7,
     "metadata": {},
     "output_type": "execute_result"
    }
   ],
   "source": [
    "function classify(index, train_y, queries, test_y)\n",
    "    ypred = []\n",
    "    for i in eachindex(queries)\n",
    "        res = search(index, queries[i], 1)\n",
    "        push!(ypred, train_y[first(res).id])\n",
    "    end\n",
    "    \n",
    "    println(\"NN-classifier $(typeof(index)) accuracy:\", mean(ypred .== test_y))\n",
    "end\n"
   ]
  },
  {
   "cell_type": "code",
   "execution_count": 8,
   "metadata": {},
   "outputs": [
    {
     "name": "stdout",
     "output_type": "stream",
     "text": [
      "NN-classifier ExhaustiveSearch{SqL2Distance, Vector{Vector{Float32}}} accuracy:0.8497\n",
      "200.937413 seconds (1.28 M allocations: 73.774 MiB, 0.06% gc time, 0.27% compilation time)\n",
      "NN-classifier SearchGraph{SqL2Distance, Vector{Vector{Float32}}, BeamSearch, LogNeighborhood} accuracy:0.8026\n",
      "  3.354777 seconds (48.24 k allocations: 2.643 MiB, 1.06% compilation time)\n"
     ]
    }
   ],
   "source": [
    "@time classify(seq, D.train_y, queries, D.test_y)\n",
    "@time classify(sgraph, D.train_y, queries, D.test_y)"
   ]
  }
 ],
 "metadata": {
  "kernelspec": {
   "display_name": "Julia 1.6.0-rc1",
   "language": "julia",
   "name": "julia-1.6"
  },
  "language_info": {
   "file_extension": ".jl",
   "mimetype": "application/julia",
   "name": "julia",
   "version": "1.6.0"
  }
 },
 "nbformat": 4,
 "nbformat_minor": 4
}
