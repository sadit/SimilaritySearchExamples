{
 "cells": [
  {
   "cell_type": "markdown",
   "metadata": {},
   "source": [
    "# A simple engine for image searching: A SimilaritySearch.jl tutorial\n",
    "by: Eric S. Téllez\n",
    "\n",
    "\n",
    "## Installing packages\n",
    "As usual, the first step consists on initializing the environment"
   ]
  },
  {
   "cell_type": "code",
   "execution_count": 1,
   "metadata": {},
   "outputs": [
    {
     "name": "stdout",
     "output_type": "stream",
     "text": [
      "\u001b[32m\u001b[1mActivating\u001b[22m\u001b[39m environment at `~/Research/SimilaritySearch.jl/tutorials/Project.toml`\n"
     ]
    }
   ],
   "source": [
    "using Pkg\n",
    "pkg\"activate .\"\n",
    "# pkg\"add Printf MLDatasets LinearAlgebra Images StatsBase StatsPlots https://github.com/sadit/SimilaritySearch.jl\"\n",
    "using Printf, MLDatasets, MLDataUtils, LinearAlgebra, Images, StatsBase, StatsPlots, Statistics, SimilaritySearch\n"
   ]
  },
  {
   "cell_type": "markdown",
   "metadata": {},
   "source": [
    "## Loading benchmarks\n",
    "Here we use the [Fashion-MNIST](https://juliaml.github.io/MLDatasets.jl/latest/datasets/FashionMNIST/) dataset (loaded with MLDatasets) which is designed to be a drop-in replacement for the well known MNIST."
   ]
  },
  {
   "cell_type": "code",
   "execution_count": 2,
   "metadata": {},
   "outputs": [
    {
     "data": {
      "text/plain": [
       "((28, 28, 60000), (28, 28, 10000), Base.ReinterpretArray{Normed{UInt8,8},3,UInt8,Array{UInt8,3}})"
      ]
     },
     "execution_count": 2,
     "metadata": {},
     "output_type": "execute_result"
    }
   ],
   "source": [
    "function load_data()\n",
    "    train_X, train_y = FashionMNIST.traindata()\n",
    "    test_X, test_y = FashionMNIST.testdata()\n",
    "    \n",
    "    #train_X, train_y = MNIST.traindata()\n",
    "    #test_X, test_y = MNIST.testdata()\n",
    "    (train_X=train_X, train_y=train_y, test_X=test_X, test_y=test_y)\n",
    "end\n",
    "\n",
    "D = load_data()\n",
    "size(D.train_X), size(D.test_X), typeof(D.train_X)"
   ]
  },
  {
   "cell_type": "markdown",
   "metadata": {},
   "source": [
    "## About preparing the data\n",
    "While `SimilaritySearch.jl` works with several data types, we decide to convert data instead of writing a new distance function\n",
    "to handle each image; also, it provides some speedup and reduces overflow problems on direct computation over the `MLDatasets.jl`'s numeric encoding for _MNIST_ and _Fashion-MNIST_."
   ]
  },
  {
   "cell_type": "code",
   "execution_count": 3,
   "metadata": {},
   "outputs": [
    {
     "data": {
      "text/plain": [
       "Array{Float32,1}"
      ]
     },
     "execution_count": 3,
     "metadata": {},
     "output_type": "execute_result"
    }
   ],
   "source": [
    "\n",
    "vec(X, i) = Float32.(reshape(view(X, :, :, i), 28 * 28))\n",
    "dist = l2_distance\n",
    "\n",
    "#vec(X, i) = Float32.(reshape(view(X, :, :, i), 28 * 28)) |> normalize!\n",
    "#dist = angle_distance\n",
    "\n",
    "X = [vec(D.train_X, i) for i in 1:60000]\n",
    "queries = [vec(D.test_X, i) for i in 1:10000]\n",
    "eltype(X)"
   ]
  },
  {
   "cell_type": "markdown",
   "metadata": {},
   "source": [
    "## Visualizing\n",
    "The following functions will display images in the notebook"
   ]
  },
  {
   "cell_type": "code",
   "execution_count": 4,
   "metadata": {},
   "outputs": [
    {
     "data": {
      "text/plain": [
       "display_many (generic function with 1 method)"
      ]
     },
     "execution_count": 4,
     "metadata": {},
     "output_type": "execute_result"
    }
   ],
   "source": [
    "display_one(m) = display(Gray.(reshape(m, 28, 28))')\n",
    "display_many(arr) = display(Gray.(hcat([reshape(m, 28, 28)' for m in arr]...)))\n"
   ]
  },
  {
   "cell_type": "markdown",
   "metadata": {},
   "source": [
    "## Searching demos\n",
    "\n",
    "The first demo is made with an exhaustive search; this algorithm is pretty simple but low performant; it is indicated whenever the construction time can't be amortized by the number of queries."
   ]
  },
  {
   "cell_type": "code",
   "execution_count": 5,
   "metadata": {},
   "outputs": [
    {
     "data": {
      "image/png": "[encoded data removed]",
      "text/plain": [
       "28×28 Adjoint{Gray{Float32},Array{Gray{Float32},2}}:\n",
       " Gray{Float32}(0.0)         …  Gray{Float32}(0.0)       \n",
       " Gray{Float32}(0.0)            Gray{Float32}(0.0)       \n",
       " Gray{Float32}(0.0)            Gray{Float32}(0.0)       \n",
       " Gray{Float32}(0.0)            Gray{Float32}(0.0)       \n",
       " Gray{Float32}(0.0)            Gray{Float32}(0.0)       \n",
       " Gray{Float32}(0.0)         …  Gray{Float32}(0.0)       \n",
       " Gray{Float32}(0.0)            Gray{Float32}(0.0)       \n",
       " Gray{Float32}(0.0)            Gray{Float32}(0.0)       \n",
       " Gray{Float32}(0.0)            Gray{Float32}(0.0)       \n",
       " Gray{Float32}(0.0)            Gray{Float32}(0.0)       \n",
       " Gray{Float32}(0.0)         …  Gray{Float32}(0.0)       \n",
       " Gray{Float32}(0.0)            Gray{Float32}(0.0)       \n",
       " Gray{Float32}(0.0)            Gray{Float32}(0.0)       \n",
       " ⋮                          ⋱                           \n",
       " Gray{Float32}(0.00784314)     Gray{Float32}(0.0)       \n",
       " Gray{Float32}(0.0)            Gray{Float32}(0.0)       \n",
       " Gray{Float32}(0.0)            Gray{Float32}(0.00392157)\n",
       " Gray{Float32}(0.027451)       Gray{Float32}(0.00784314)\n",
       " Gray{Float32}(0.172549)    …  Gray{Float32}(0.129412)  \n",
       " Gray{Float32}(0.00784314)     Gray{Float32}(0.168627)  \n",
       " Gray{Float32}(0.0)            Gray{Float32}(0.207843)  \n",
       " Gray{Float32}(0.00784314)     Gray{Float32}(0.054902)  \n",
       " Gray{Float32}(0.0)            Gray{Float32}(0.0)       \n",
       " Gray{Float32}(0.0)         …  Gray{Float32}(0.0)       \n",
       " Gray{Float32}(0.0)            Gray{Float32}(0.0)       \n",
       " Gray{Float32}(0.0)            Gray{Float32}(0.0)       "
      ]
     },
     "metadata": {},
     "output_type": "display_data"
    },
    {
     "data": {
      "image/png": "[encoded data removed]",
      "text/plain": [
       "28×420 Array{Gray{Float32},2} with eltype Gray{Float32}:\n",
       " Gray{Float32}(0.0)         …  Gray{Float32}(0.0)      \n",
       " Gray{Float32}(0.0)            Gray{Float32}(0.0)      \n",
       " Gray{Float32}(0.0)            Gray{Float32}(0.0)      \n",
       " Gray{Float32}(0.0)            Gray{Float32}(0.0)      \n",
       " Gray{Float32}(0.0)            Gray{Float32}(0.0)      \n",
       " Gray{Float32}(0.0)         …  Gray{Float32}(0.0)      \n",
       " Gray{Float32}(0.0)            Gray{Float32}(0.0)      \n",
       " Gray{Float32}(0.0)            Gray{Float32}(0.0)      \n",
       " Gray{Float32}(0.0)            Gray{Float32}(0.0)      \n",
       " Gray{Float32}(0.0)            Gray{Float32}(0.0)      \n",
       " Gray{Float32}(0.0)         …  Gray{Float32}(0.0)      \n",
       " Gray{Float32}(0.0)            Gray{Float32}(0.0)      \n",
       " Gray{Float32}(0.0)            Gray{Float32}(0.0)      \n",
       " ⋮                          ⋱                          \n",
       " Gray{Float32}(0.0)            Gray{Float32}(0.0)      \n",
       " Gray{Float32}(0.0)            Gray{Float32}(0.0)      \n",
       " Gray{Float32}(0.0)            Gray{Float32}(0.0)      \n",
       " Gray{Float32}(0.054902)       Gray{Float32}(0.0862745)\n",
       " Gray{Float32}(0.333333)    …  Gray{Float32}(0.113725) \n",
       " Gray{Float32}(0.0)            Gray{Float32}(0.231373) \n",
       " Gray{Float32}(0.0)            Gray{Float32}(0.313726) \n",
       " Gray{Float32}(0.00784314)     Gray{Float32}(0.0)      \n",
       " Gray{Float32}(0.0)            Gray{Float32}(0.0)      \n",
       " Gray{Float32}(0.0)         …  Gray{Float32}(0.0)      \n",
       " Gray{Float32}(0.0)            Gray{Float32}(0.0)      \n",
       " Gray{Float32}(0.0)            Gray{Float32}(0.0)      "
      ]
     },
     "metadata": {},
     "output_type": "display_data"
    },
    {
     "data": {
      "text/html": [
       "results (obj => dist): 42539 => 2.90, 38672 => 3.19, 40376 => 3.20, 8677 => 3.50, 19465 => 3.53, 43103 => 3.57, 30103 => 3.63, 41877 => 3.73, 36690 => 3.74, 15903 => 3.75, 31979 => 3.76, 20007 => 3.79, 50877 => 3.81, 30774 => 3.86, 39369 => 3.87"
      ]
     },
     "metadata": {},
     "output_type": "display_data"
    },
    {
     "data": {
      "image/png": "[encoded data removed]",
      "text/plain": [
       "28×28 Adjoint{Gray{Float32},Array{Gray{Float32},2}}:\n",
       " Gray{Float32}(0.0)         …  Gray{Float32}(0.0)      \n",
       " Gray{Float32}(0.0)            Gray{Float32}(0.0)      \n",
       " Gray{Float32}(0.0)            Gray{Float32}(0.0)      \n",
       " Gray{Float32}(0.0)            Gray{Float32}(0.0)      \n",
       " Gray{Float32}(0.0)            Gray{Float32}(0.0)      \n",
       " Gray{Float32}(0.0)         …  Gray{Float32}(0.0)      \n",
       " Gray{Float32}(0.0)            Gray{Float32}(0.0)      \n",
       " Gray{Float32}(0.0)            Gray{Float32}(0.0235294)\n",
       " Gray{Float32}(0.0)            Gray{Float32}(0.0)      \n",
       " Gray{Float32}(0.0)            Gray{Float32}(0.101961) \n",
       " Gray{Float32}(0.0)         …  Gray{Float32}(0.482353) \n",
       " Gray{Float32}(0.0)            Gray{Float32}(0.054902) \n",
       " Gray{Float32}(0.0)            Gray{Float32}(0.0470588)\n",
       " ⋮                          ⋱                          \n",
       " Gray{Float32}(0.00392157)     Gray{Float32}(0.0)      \n",
       " Gray{Float32}(0.00392157)     Gray{Float32}(0.0)      \n",
       " Gray{Float32}(0.0)            Gray{Float32}(0.0)      \n",
       " Gray{Float32}(0.0)            Gray{Float32}(0.0)      \n",
       " Gray{Float32}(0.333333)    …  Gray{Float32}(0.0)      \n",
       " Gray{Float32}(0.145098)       Gray{Float32}(0.0)      \n",
       " Gray{Float32}(0.0)            Gray{Float32}(0.0)      \n",
       " Gray{Float32}(0.0)            Gray{Float32}(0.0)      \n",
       " Gray{Float32}(0.00392157)     Gray{Float32}(0.0)      \n",
       " Gray{Float32}(0.0)         …  Gray{Float32}(0.0)      \n",
       " Gray{Float32}(0.0)            Gray{Float32}(0.0)      \n",
       " Gray{Float32}(0.0)            Gray{Float32}(0.0)      "
      ]
     },
     "metadata": {},
     "output_type": "display_data"
    },
    {
     "name": "stdout",
     "output_type": "stream",
     "text": [
      "  0.085475 seconds (85.64 k allocations: 4.599 MiB, 11.66% gc time)\n",
      " "
     ]
    },
    {
     "data": {
      "image/png": "[encoded data removed]",
      "text/plain": [
       "28×420 Array{Gray{Float32},2} with eltype Gray{Float32}:\n",
       " Gray{Float32}(0.0)         …  Gray{Float32}(0.0)     \n",
       " Gray{Float32}(0.0)            Gray{Float32}(0.0)     \n",
       " Gray{Float32}(0.0)            Gray{Float32}(0.0)     \n",
       " Gray{Float32}(0.0)            Gray{Float32}(0.0)     \n",
       " Gray{Float32}(0.0)            Gray{Float32}(0.0)     \n",
       " Gray{Float32}(0.0)         …  Gray{Float32}(0.0)     \n",
       " Gray{Float32}(0.0)            Gray{Float32}(0.0)     \n",
       " Gray{Float32}(0.0)            Gray{Float32}(0.0)     \n",
       " Gray{Float32}(0.0)            Gray{Float32}(0.0)     \n",
       " Gray{Float32}(0.0)            Gray{Float32}(0.0)     \n",
       " Gray{Float32}(0.0)         …  Gray{Float32}(0.109804)\n",
       " Gray{Float32}(0.0)            Gray{Float32}(0.258824)\n",
       " Gray{Float32}(0.0)            Gray{Float32}(0.137255)\n",
       " ⋮                          ⋱                         \n",
       " Gray{Float32}(0.00392157)     Gray{Float32}(0.0)     \n",
       " Gray{Float32}(0.00392157)     Gray{Float32}(0.0)     \n",
       " Gray{Float32}(0.00392157)     Gray{Float32}(0.0)     \n",
       " Gray{Float32}(0.0)            Gray{Float32}(0.0)     \n",
       " Gray{Float32}(0.227451)    …  Gray{Float32}(0.0)     \n",
       " Gray{Float32}(0.231373)       Gray{Float32}(0.0)     \n",
       " Gray{Float32}(0.0)            Gray{Float32}(0.0)     \n",
       " Gray{Float32}(0.0)            Gray{Float32}(0.0)     \n",
       " Gray{Float32}(0.00392157)     Gray{Float32}(0.0)     \n",
       " Gray{Float32}(0.0)         …  Gray{Float32}(0.0)     \n",
       " Gray{Float32}(0.0)            Gray{Float32}(0.0)     \n",
       " Gray{Float32}(0.0)            Gray{Float32}(0.0)     "
      ]
     },
     "metadata": {},
     "output_type": "display_data"
    },
    {
     "data": {
      "text/html": [
       "results (obj => dist): 36510 => 3.43, 33132 => 5.99, 1881 => 6.01, 44293 => 6.04, 52516 => 6.47, 34691 => 6.48, 14568 => 6.57, 5899 => 6.58, 27173 => 6.58, 16924 => 6.60, 20650 => 6.61, 4898 => 6.64, 28196 => 6.71, 37855 => 6.73, 3031 => 6.77"
      ]
     },
     "metadata": {},
     "output_type": "display_data"
    },
    {
     "data": {
      "image/png": "[encoded data removed]",
      "text/plain": [
       "28×28 Adjoint{Gray{Float32},Array{Gray{Float32},2}}:\n",
       " Gray{Float32}(0.0)  Gray{Float32}(0.0)  …  Gray{Float32}(0.0)\n",
       " Gray{Float32}(0.0)  Gray{Float32}(0.0)     Gray{Float32}(0.0)\n",
       " Gray{Float32}(0.0)  Gray{Float32}(0.0)     Gray{Float32}(0.0)\n",
       " Gray{Float32}(0.0)  Gray{Float32}(0.0)     Gray{Float32}(0.0)\n",
       " Gray{Float32}(0.0)  Gray{Float32}(0.0)     Gray{Float32}(0.0)\n",
       " Gray{Float32}(0.0)  Gray{Float32}(0.0)  …  Gray{Float32}(0.0)\n",
       " Gray{Float32}(0.0)  Gray{Float32}(0.0)     Gray{Float32}(0.0)\n",
       " Gray{Float32}(0.0)  Gray{Float32}(0.0)     Gray{Float32}(0.0)\n",
       " Gray{Float32}(0.0)  Gray{Float32}(0.0)     Gray{Float32}(0.0)\n",
       " Gray{Float32}(0.0)  Gray{Float32}(0.0)     Gray{Float32}(0.0)\n",
       " Gray{Float32}(0.0)  Gray{Float32}(0.0)  …  Gray{Float32}(0.0)\n",
       " Gray{Float32}(0.0)  Gray{Float32}(0.0)     Gray{Float32}(0.0)\n",
       " Gray{Float32}(0.0)  Gray{Float32}(0.0)     Gray{Float32}(0.0)\n",
       " ⋮                                       ⋱                    \n",
       " Gray{Float32}(0.0)  Gray{Float32}(0.0)     Gray{Float32}(0.0)\n",
       " Gray{Float32}(0.0)  Gray{Float32}(0.0)     Gray{Float32}(0.0)\n",
       " Gray{Float32}(0.0)  Gray{Float32}(0.0)     Gray{Float32}(0.0)\n",
       " Gray{Float32}(0.0)  Gray{Float32}(0.0)     Gray{Float32}(0.0)\n",
       " Gray{Float32}(0.0)  Gray{Float32}(0.0)  …  Gray{Float32}(0.0)\n",
       " Gray{Float32}(0.0)  Gray{Float32}(0.0)     Gray{Float32}(0.0)\n",
       " Gray{Float32}(0.0)  Gray{Float32}(0.0)     Gray{Float32}(0.0)\n",
       " Gray{Float32}(0.0)  Gray{Float32}(0.0)     Gray{Float32}(0.0)\n",
       " Gray{Float32}(0.0)  Gray{Float32}(0.0)     Gray{Float32}(0.0)\n",
       " Gray{Float32}(0.0)  Gray{Float32}(0.0)  …  Gray{Float32}(0.0)\n",
       " Gray{Float32}(0.0)  Gray{Float32}(0.0)     Gray{Float32}(0.0)\n",
       " Gray{Float32}(0.0)  Gray{Float32}(0.0)     Gray{Float32}(0.0)"
      ]
     },
     "metadata": {},
     "output_type": "display_data"
    },
    {
     "data": {
      "image/png": "[encoded data removed]",
      "text/plain": [
       "28×420 Array{Gray{Float32},2} with eltype Gray{Float32}:\n",
       " Gray{Float32}(0.0)  Gray{Float32}(0.0)  …  Gray{Float32}(0.0)\n",
       " Gray{Float32}(0.0)  Gray{Float32}(0.0)     Gray{Float32}(0.0)\n",
       " Gray{Float32}(0.0)  Gray{Float32}(0.0)     Gray{Float32}(0.0)\n",
       " Gray{Float32}(0.0)  Gray{Float32}(0.0)     Gray{Float32}(0.0)\n",
       " Gray{Float32}(0.0)  Gray{Float32}(0.0)     Gray{Float32}(0.0)\n",
       " Gray{Float32}(0.0)  Gray{Float32}(0.0)  …  Gray{Float32}(0.0)\n",
       " Gray{Float32}(0.0)  Gray{Float32}(0.0)     Gray{Float32}(0.0)\n",
       " Gray{Float32}(0.0)  Gray{Float32}(0.0)     Gray{Float32}(0.0)\n",
       " Gray{Float32}(0.0)  Gray{Float32}(0.0)     Gray{Float32}(0.0)\n",
       " Gray{Float32}(0.0)  Gray{Float32}(0.0)     Gray{Float32}(0.0)\n",
       " Gray{Float32}(0.0)  Gray{Float32}(0.0)  …  Gray{Float32}(0.0)\n",
       " Gray{Float32}(0.0)  Gray{Float32}(0.0)     Gray{Float32}(0.0)\n",
       " Gray{Float32}(0.0)  Gray{Float32}(0.0)     Gray{Float32}(0.0)\n",
       " ⋮                                       ⋱                    \n",
       " Gray{Float32}(0.0)  Gray{Float32}(0.0)     Gray{Float32}(0.0)\n",
       " Gray{Float32}(0.0)  Gray{Float32}(0.0)     Gray{Float32}(0.0)\n",
       " Gray{Float32}(0.0)  Gray{Float32}(0.0)     Gray{Float32}(0.0)\n",
       " Gray{Float32}(0.0)  Gray{Float32}(0.0)     Gray{Float32}(0.0)\n",
       " Gray{Float32}(0.0)  Gray{Float32}(0.0)  …  Gray{Float32}(0.0)\n",
       " Gray{Float32}(0.0)  Gray{Float32}(0.0)     Gray{Float32}(0.0)\n",
       " Gray{Float32}(0.0)  Gray{Float32}(0.0)     Gray{Float32}(0.0)\n",
       " Gray{Float32}(0.0)  Gray{Float32}(0.0)     Gray{Float32}(0.0)\n",
       " Gray{Float32}(0.0)  Gray{Float32}(0.0)     Gray{Float32}(0.0)\n",
       " Gray{Float32}(0.0)  Gray{Float32}(0.0)  …  Gray{Float32}(0.0)\n",
       " Gray{Float32}(0.0)  Gray{Float32}(0.0)     Gray{Float32}(0.0)\n",
       " Gray{Float32}(0.0)  Gray{Float32}(0.0)     Gray{Float32}(0.0)"
      ]
     },
     "metadata": {},
     "output_type": "display_data"
    },
    {
     "data": {
      "text/html": [
       "results (obj => dist): 25058 => 1.94, 10207 => 4.36, 55769 => 4.50, 4445 => 4.57, 27081 => 4.68, 18231 => 4.69, 34066 => 4.77, 37117 => 4.78, 33820 => 4.78, 14979 => 4.79, 20391 => 4.80, 42734 => 4.83, 13358 => 4.90, 14563 => 4.95, 7916 => 4.99"
      ]
     },
     "metadata": {},
     "output_type": "display_data"
    },
    {
     "data": {
      "image/png": "[encoded data removed]",
      "text/plain": [
       "28×28 Adjoint{Gray{Float32},Array{Gray{Float32},2}}:\n",
       " Gray{Float32}(0.0)  Gray{Float32}(0.0)  …  Gray{Float32}(0.0)\n",
       " Gray{Float32}(0.0)  Gray{Float32}(0.0)     Gray{Float32}(0.0)\n",
       " Gray{Float32}(0.0)  Gray{Float32}(0.0)     Gray{Float32}(0.0)\n",
       " Gray{Float32}(0.0)  Gray{Float32}(0.0)     Gray{Float32}(0.0)\n",
       " Gray{Float32}(0.0)  Gray{Float32}(0.0)     Gray{Float32}(0.0)\n",
       " Gray{Float32}(0.0)  Gray{Float32}(0.0)  …  Gray{Float32}(0.0)\n",
       " Gray{Float32}(0.0)  Gray{Float32}(0.0)     Gray{Float32}(0.0)\n",
       " Gray{Float32}(0.0)  Gray{Float32}(0.0)     Gray{Float32}(0.0)\n",
       " Gray{Float32}(0.0)  Gray{Float32}(0.0)     Gray{Float32}(0.0)\n",
       " Gray{Float32}(0.0)  Gray{Float32}(0.0)     Gray{Float32}(0.0)\n",
       " Gray{Float32}(0.0)  Gray{Float32}(0.0)  …  Gray{Float32}(0.0)\n",
       " Gray{Float32}(0.0)  Gray{Float32}(0.0)     Gray{Float32}(0.0)\n",
       " Gray{Float32}(0.0)  Gray{Float32}(0.0)     Gray{Float32}(0.0)\n",
       " ⋮                                       ⋱                    \n",
       " Gray{Float32}(0.0)  Gray{Float32}(0.0)     Gray{Float32}(0.0)\n",
       " Gray{Float32}(0.0)  Gray{Float32}(0.0)     Gray{Float32}(0.0)\n",
       " Gray{Float32}(0.0)  Gray{Float32}(0.0)     Gray{Float32}(0.0)\n",
       " Gray{Float32}(0.0)  Gray{Float32}(0.0)     Gray{Float32}(0.0)\n",
       " Gray{Float32}(0.0)  Gray{Float32}(0.0)  …  Gray{Float32}(0.0)\n",
       " Gray{Float32}(0.0)  Gray{Float32}(0.0)     Gray{Float32}(0.0)\n",
       " Gray{Float32}(0.0)  Gray{Float32}(0.0)     Gray{Float32}(0.0)\n",
       " Gray{Float32}(0.0)  Gray{Float32}(0.0)     Gray{Float32}(0.0)\n",
       " Gray{Float32}(0.0)  Gray{Float32}(0.0)     Gray{Float32}(0.0)\n",
       " Gray{Float32}(0.0)  Gray{Float32}(0.0)  …  Gray{Float32}(0.0)\n",
       " Gray{Float32}(0.0)  Gray{Float32}(0.0)     Gray{Float32}(0.0)\n",
       " Gray{Float32}(0.0)  Gray{Float32}(0.0)     Gray{Float32}(0.0)"
      ]
     },
     "metadata": {},
     "output_type": "display_data"
    },
    {
     "data": {
      "image/png": "[encoded data removed]",
      "text/plain": [
       "28×420 Array{Gray{Float32},2} with eltype Gray{Float32}:\n",
       " Gray{Float32}(0.0)  Gray{Float32}(0.0)  …  Gray{Float32}(0.0)\n",
       " Gray{Float32}(0.0)  Gray{Float32}(0.0)     Gray{Float32}(0.0)\n",
       " Gray{Float32}(0.0)  Gray{Float32}(0.0)     Gray{Float32}(0.0)\n",
       " Gray{Float32}(0.0)  Gray{Float32}(0.0)     Gray{Float32}(0.0)\n",
       " Gray{Float32}(0.0)  Gray{Float32}(0.0)     Gray{Float32}(0.0)\n",
       " Gray{Float32}(0.0)  Gray{Float32}(0.0)  …  Gray{Float32}(0.0)\n",
       " Gray{Float32}(0.0)  Gray{Float32}(0.0)     Gray{Float32}(0.0)\n",
       " Gray{Float32}(0.0)  Gray{Float32}(0.0)     Gray{Float32}(0.0)\n",
       " Gray{Float32}(0.0)  Gray{Float32}(0.0)     Gray{Float32}(0.0)\n",
       " Gray{Float32}(0.0)  Gray{Float32}(0.0)     Gray{Float32}(0.0)\n",
       " Gray{Float32}(0.0)  Gray{Float32}(0.0)  …  Gray{Float32}(0.0)\n",
       " Gray{Float32}(0.0)  Gray{Float32}(0.0)     Gray{Float32}(0.0)\n",
       " Gray{Float32}(0.0)  Gray{Float32}(0.0)     Gray{Float32}(0.0)\n",
       " ⋮                                       ⋱                    \n",
       " Gray{Float32}(0.0)  Gray{Float32}(0.0)     Gray{Float32}(0.0)\n",
       " Gray{Float32}(0.0)  Gray{Float32}(0.0)     Gray{Float32}(0.0)\n",
       " Gray{Float32}(0.0)  Gray{Float32}(0.0)     Gray{Float32}(0.0)\n",
       " Gray{Float32}(0.0)  Gray{Float32}(0.0)     Gray{Float32}(0.0)\n",
       " Gray{Float32}(0.0)  Gray{Float32}(0.0)  …  Gray{Float32}(0.0)\n",
       " Gray{Float32}(0.0)  Gray{Float32}(0.0)     Gray{Float32}(0.0)\n",
       " Gray{Float32}(0.0)  Gray{Float32}(0.0)     Gray{Float32}(0.0)\n",
       " Gray{Float32}(0.0)  Gray{Float32}(0.0)     Gray{Float32}(0.0)\n",
       " Gray{Float32}(0.0)  Gray{Float32}(0.0)     Gray{Float32}(0.0)\n",
       " Gray{Float32}(0.0)  Gray{Float32}(0.0)  …  Gray{Float32}(0.0)\n",
       " Gray{Float32}(0.0)  Gray{Float32}(0.0)     Gray{Float32}(0.0)\n",
       " Gray{Float32}(0.0)  Gray{Float32}(0.0)     Gray{Float32}(0.0)"
      ]
     },
     "metadata": {},
     "output_type": "display_data"
    },
    {
     "data": {
      "text/html": [
       "results (obj => dist): 31996 => 2.98, 57795 => 3.10, 42339 => 3.46, 44304 => 3.65, 33204 => 3.66, 53573 => 3.73, 49608 => 3.79, 44455 => 3.90, 41559 => 3.94, 12072 => 4.01, 45322 => 4.02, 24072 => 4.06, 38871 => 4.10, 34346 => 4.13, 31884 => 4.13"
      ]
     },
     "metadata": {},
     "output_type": "display_data"
    },
    {
     "data": {
      "image/png": "[encoded data removed]",
      "text/plain": [
       "28×28 Adjoint{Gray{Float32},Array{Gray{Float32},2}}:\n",
       " Gray{Float32}(0.0)  Gray{Float32}(0.0)  …  Gray{Float32}(0.0)\n",
       " Gray{Float32}(0.0)  Gray{Float32}(0.0)     Gray{Float32}(0.0)\n",
       " Gray{Float32}(0.0)  Gray{Float32}(0.0)     Gray{Float32}(0.0)\n",
       " Gray{Float32}(0.0)  Gray{Float32}(0.0)     Gray{Float32}(0.0)\n",
       " Gray{Float32}(0.0)  Gray{Float32}(0.0)     Gray{Float32}(0.0)\n",
       " Gray{Float32}(0.0)  Gray{Float32}(0.0)  …  Gray{Float32}(0.0)\n",
       " Gray{Float32}(0.0)  Gray{Float32}(0.0)     Gray{Float32}(0.0)\n",
       " Gray{Float32}(0.0)  Gray{Float32}(0.0)     Gray{Float32}(0.0)\n",
       " Gray{Float32}(0.0)  Gray{Float32}(0.0)     Gray{Float32}(0.0)\n",
       " Gray{Float32}(0.0)  Gray{Float32}(0.0)     Gray{Float32}(0.0)\n",
       " Gray{Float32}(0.0)  Gray{Float32}(0.0)  …  Gray{Float32}(0.0)\n",
       " Gray{Float32}(0.0)  Gray{Float32}(0.0)     Gray{Float32}(0.0)\n",
       " Gray{Float32}(0.0)  Gray{Float32}(0.0)     Gray{Float32}(0.0)\n",
       " ⋮                                       ⋱                    \n",
       " Gray{Float32}(0.0)  Gray{Float32}(0.0)     Gray{Float32}(0.0)\n",
       " Gray{Float32}(0.0)  Gray{Float32}(0.0)     Gray{Float32}(0.0)\n",
       " Gray{Float32}(0.0)  Gray{Float32}(0.0)     Gray{Float32}(0.0)\n",
       " Gray{Float32}(0.0)  Gray{Float32}(0.0)     Gray{Float32}(0.0)\n",
       " Gray{Float32}(0.0)  Gray{Float32}(0.0)  …  Gray{Float32}(0.0)\n",
       " Gray{Float32}(0.0)  Gray{Float32}(0.0)     Gray{Float32}(0.0)\n",
       " Gray{Float32}(0.0)  Gray{Float32}(0.0)     Gray{Float32}(0.0)\n",
       " Gray{Float32}(0.0)  Gray{Float32}(0.0)     Gray{Float32}(0.0)\n",
       " Gray{Float32}(0.0)  Gray{Float32}(0.0)     Gray{Float32}(0.0)\n",
       " Gray{Float32}(0.0)  Gray{Float32}(0.0)  …  Gray{Float32}(0.0)\n",
       " Gray{Float32}(0.0)  Gray{Float32}(0.0)     Gray{Float32}(0.0)\n",
       " Gray{Float32}(0.0)  Gray{Float32}(0.0)     Gray{Float32}(0.0)"
      ]
     },
     "metadata": {},
     "output_type": "display_data"
    },
    {
     "name": "stdout",
     "output_type": "stream",
     "text": [
      " 0.025114 seconds (3 allocations: 368 bytes)\n",
      "  0.030472 seconds (3 allocations: 368 bytes)\n",
      "  0.027025 seconds (3 allocations: 368 bytes)\n"
     ]
    },
    {
     "data": {
      "image/png": "[encoded data removed]",
      "text/plain": [
       "28×420 Array{Gray{Float32},2} with eltype Gray{Float32}:\n",
       " Gray{Float32}(0.0)  Gray{Float32}(0.0)  …  Gray{Float32}(0.0)\n",
       " Gray{Float32}(0.0)  Gray{Float32}(0.0)     Gray{Float32}(0.0)\n",
       " Gray{Float32}(0.0)  Gray{Float32}(0.0)     Gray{Float32}(0.0)\n",
       " Gray{Float32}(0.0)  Gray{Float32}(0.0)     Gray{Float32}(0.0)\n",
       " Gray{Float32}(0.0)  Gray{Float32}(0.0)     Gray{Float32}(0.0)\n",
       " Gray{Float32}(0.0)  Gray{Float32}(0.0)  …  Gray{Float32}(0.0)\n",
       " Gray{Float32}(0.0)  Gray{Float32}(0.0)     Gray{Float32}(0.0)\n",
       " Gray{Float32}(0.0)  Gray{Float32}(0.0)     Gray{Float32}(0.0)\n",
       " Gray{Float32}(0.0)  Gray{Float32}(0.0)     Gray{Float32}(0.0)\n",
       " Gray{Float32}(0.0)  Gray{Float32}(0.0)     Gray{Float32}(0.0)\n",
       " Gray{Float32}(0.0)  Gray{Float32}(0.0)  …  Gray{Float32}(0.0)\n",
       " Gray{Float32}(0.0)  Gray{Float32}(0.0)     Gray{Float32}(0.0)\n",
       " Gray{Float32}(0.0)  Gray{Float32}(0.0)     Gray{Float32}(0.0)\n",
       " ⋮                                       ⋱                    \n",
       " Gray{Float32}(0.0)  Gray{Float32}(0.0)     Gray{Float32}(0.0)\n",
       " Gray{Float32}(0.0)  Gray{Float32}(0.0)     Gray{Float32}(0.0)\n",
       " Gray{Float32}(0.0)  Gray{Float32}(0.0)     Gray{Float32}(0.0)\n",
       " Gray{Float32}(0.0)  Gray{Float32}(0.0)     Gray{Float32}(0.0)\n",
       " Gray{Float32}(0.0)  Gray{Float32}(0.0)  …  Gray{Float32}(0.0)\n",
       " Gray{Float32}(0.0)  Gray{Float32}(0.0)     Gray{Float32}(0.0)\n",
       " Gray{Float32}(0.0)  Gray{Float32}(0.0)     Gray{Float32}(0.0)\n",
       " Gray{Float32}(0.0)  Gray{Float32}(0.0)     Gray{Float32}(0.0)\n",
       " Gray{Float32}(0.0)  Gray{Float32}(0.0)     Gray{Float32}(0.0)\n",
       " Gray{Float32}(0.0)  Gray{Float32}(0.0)  …  Gray{Float32}(0.0)\n",
       " Gray{Float32}(0.0)  Gray{Float32}(0.0)     Gray{Float32}(0.0)\n",
       " Gray{Float32}(0.0)  Gray{Float32}(0.0)     Gray{Float32}(0.0)"
      ]
     },
     "metadata": {},
     "output_type": "display_data"
    },
    {
     "data": {
      "text/html": [
       "results (obj => dist): 24897 => 3.35, 35363 => 3.63, 32087 => 3.77, 6134 => 3.87, 54447 => 3.90, 28109 => 3.99, 40926 => 4.02, 36185 => 4.09, 44214 => 4.09, 36540 => 4.09, 30269 => 4.10, 454 => 4.12, 50933 => 4.13, 33885 => 4.15, 55481 => 4.16"
      ]
     },
     "metadata": {},
     "output_type": "display_data"
    },
    {
     "data": {
      "image/png": "[encoded data removed]",
      "text/plain": [
       "28×28 Adjoint{Gray{Float32},Array{Gray{Float32},2}}:\n",
       " Gray{Float32}(0.0)  Gray{Float32}(0.0)  …  Gray{Float32}(0.0)\n",
       " Gray{Float32}(0.0)  Gray{Float32}(0.0)     Gray{Float32}(0.0)\n",
       " Gray{Float32}(0.0)  Gray{Float32}(0.0)     Gray{Float32}(0.0)\n",
       " Gray{Float32}(0.0)  Gray{Float32}(0.0)     Gray{Float32}(0.0)\n",
       " Gray{Float32}(0.0)  Gray{Float32}(0.0)     Gray{Float32}(0.0)\n",
       " Gray{Float32}(0.0)  Gray{Float32}(0.0)  …  Gray{Float32}(0.0)\n",
       " Gray{Float32}(0.0)  Gray{Float32}(0.0)     Gray{Float32}(0.0)\n",
       " Gray{Float32}(0.0)  Gray{Float32}(0.0)     Gray{Float32}(0.0)\n",
       " Gray{Float32}(0.0)  Gray{Float32}(0.0)     Gray{Float32}(0.0)\n",
       " Gray{Float32}(0.0)  Gray{Float32}(0.0)     Gray{Float32}(0.0)\n",
       " Gray{Float32}(0.0)  Gray{Float32}(0.0)  …  Gray{Float32}(0.0)\n",
       " Gray{Float32}(0.0)  Gray{Float32}(0.0)     Gray{Float32}(0.0)\n",
       " Gray{Float32}(0.0)  Gray{Float32}(0.0)     Gray{Float32}(0.0)\n",
       " ⋮                                       ⋱                    \n",
       " Gray{Float32}(0.0)  Gray{Float32}(0.0)     Gray{Float32}(0.0)\n",
       " Gray{Float32}(0.0)  Gray{Float32}(0.0)     Gray{Float32}(0.0)\n",
       " Gray{Float32}(0.0)  Gray{Float32}(0.0)     Gray{Float32}(0.0)\n",
       " Gray{Float32}(0.0)  Gray{Float32}(0.0)     Gray{Float32}(0.0)\n",
       " Gray{Float32}(0.0)  Gray{Float32}(0.0)  …  Gray{Float32}(0.0)\n",
       " Gray{Float32}(0.0)  Gray{Float32}(0.0)     Gray{Float32}(0.0)\n",
       " Gray{Float32}(0.0)  Gray{Float32}(0.0)     Gray{Float32}(0.0)\n",
       " Gray{Float32}(0.0)  Gray{Float32}(0.0)     Gray{Float32}(0.0)\n",
       " Gray{Float32}(0.0)  Gray{Float32}(0.0)     Gray{Float32}(0.0)\n",
       " Gray{Float32}(0.0)  Gray{Float32}(0.0)  …  Gray{Float32}(0.0)\n",
       " Gray{Float32}(0.0)  Gray{Float32}(0.0)     Gray{Float32}(0.0)\n",
       " Gray{Float32}(0.0)  Gray{Float32}(0.0)     Gray{Float32}(0.0)"
      ]
     },
     "metadata": {},
     "output_type": "display_data"
    },
    {
     "data": {
      "image/png": "[encoded data removed]",
      "text/plain": [
       "28×420 Array{Gray{Float32},2} with eltype Gray{Float32}:\n",
       " Gray{Float32}(0.0)  Gray{Float32}(0.0)  …  Gray{Float32}(0.0)\n",
       " Gray{Float32}(0.0)  Gray{Float32}(0.0)     Gray{Float32}(0.0)\n",
       " Gray{Float32}(0.0)  Gray{Float32}(0.0)     Gray{Float32}(0.0)\n",
       " Gray{Float32}(0.0)  Gray{Float32}(0.0)     Gray{Float32}(0.0)\n",
       " Gray{Float32}(0.0)  Gray{Float32}(0.0)     Gray{Float32}(0.0)\n",
       " Gray{Float32}(0.0)  Gray{Float32}(0.0)  …  Gray{Float32}(0.0)\n",
       " Gray{Float32}(0.0)  Gray{Float32}(0.0)     Gray{Float32}(0.0)\n",
       " Gray{Float32}(0.0)  Gray{Float32}(0.0)     Gray{Float32}(0.0)\n",
       " Gray{Float32}(0.0)  Gray{Float32}(0.0)     Gray{Float32}(0.0)\n",
       " Gray{Float32}(0.0)  Gray{Float32}(0.0)     Gray{Float32}(0.0)\n",
       " Gray{Float32}(0.0)  Gray{Float32}(0.0)  …  Gray{Float32}(0.0)\n",
       " Gray{Float32}(0.0)  Gray{Float32}(0.0)     Gray{Float32}(0.0)\n",
       " Gray{Float32}(0.0)  Gray{Float32}(0.0)     Gray{Float32}(0.0)\n",
       " ⋮                                       ⋱                    \n",
       " Gray{Float32}(0.0)  Gray{Float32}(0.0)     Gray{Float32}(0.0)\n",
       " Gray{Float32}(0.0)  Gray{Float32}(0.0)     Gray{Float32}(0.0)\n",
       " Gray{Float32}(0.0)  Gray{Float32}(0.0)     Gray{Float32}(0.0)\n",
       " Gray{Float32}(0.0)  Gray{Float32}(0.0)     Gray{Float32}(0.0)\n",
       " Gray{Float32}(0.0)  Gray{Float32}(0.0)  …  Gray{Float32}(0.0)\n",
       " Gray{Float32}(0.0)  Gray{Float32}(0.0)     Gray{Float32}(0.0)\n",
       " Gray{Float32}(0.0)  Gray{Float32}(0.0)     Gray{Float32}(0.0)\n",
       " Gray{Float32}(0.0)  Gray{Float32}(0.0)     Gray{Float32}(0.0)\n",
       " Gray{Float32}(0.0)  Gray{Float32}(0.0)     Gray{Float32}(0.0)\n",
       " Gray{Float32}(0.0)  Gray{Float32}(0.0)  …  Gray{Float32}(0.0)\n",
       " Gray{Float32}(0.0)  Gray{Float32}(0.0)     Gray{Float32}(0.0)\n",
       " Gray{Float32}(0.0)  Gray{Float32}(0.0)     Gray{Float32}(0.0)"
      ]
     },
     "metadata": {},
     "output_type": "display_data"
    },
    {
     "data": {
      "text/html": [
       "results (obj => dist): 5330 => 2.85, 39574 => 2.90, 34130 => 3.03, 59412 => 3.28, 48105 => 3.33, 23973 => 3.39, 28956 => 3.47, 31265 => 3.51, 39109 => 3.53, 32595 => 3.56, 39320 => 3.59, 47336 => 3.60, 39797 => 3.63, 5354 => 3.68, 50129 => 3.69"
      ]
     },
     "metadata": {},
     "output_type": "display_data"
    },
    {
     "data": {
      "image/png": "[encoded data removed]",
      "text/plain": [
       "28×28 Adjoint{Gray{Float32},Array{Gray{Float32},2}}:\n",
       " Gray{Float32}(0.0)         …  Gray{Float32}(0.0)      \n",
       " Gray{Float32}(0.0)            Gray{Float32}(0.0)      \n",
       " Gray{Float32}(0.0)            Gray{Float32}(0.0)      \n",
       " Gray{Float32}(0.0)            Gray{Float32}(0.0)      \n",
       " Gray{Float32}(0.0)            Gray{Float32}(0.0)      \n",
       " Gray{Float32}(0.0)         …  Gray{Float32}(0.0)      \n",
       " Gray{Float32}(0.0)            Gray{Float32}(0.0)      \n",
       " Gray{Float32}(0.0)            Gray{Float32}(0.0)      \n",
       " Gray{Float32}(0.0)            Gray{Float32}(0.0)      \n",
       " Gray{Float32}(0.0)            Gray{Float32}(0.0)      \n",
       " Gray{Float32}(0.0)         …  Gray{Float32}(0.0)      \n",
       " Gray{Float32}(0.0)            Gray{Float32}(0.0)      \n",
       " Gray{Float32}(0.0)            Gray{Float32}(0.0)      \n",
       " ⋮                          ⋱                          \n",
       " Gray{Float32}(0.0)            Gray{Float32}(0.164706) \n",
       " Gray{Float32}(0.0313726)      Gray{Float32}(0.290196) \n",
       " Gray{Float32}(0.235294)       Gray{Float32}(0.298039) \n",
       " Gray{Float32}(0.211765)       Gray{Float32}(0.0862745)\n",
       " Gray{Float32}(0.027451)    …  Gray{Float32}(0.2)      \n",
       " Gray{Float32}(0.0)            Gray{Float32}(0.0431373)\n",
       " Gray{Float32}(0.00784314)     Gray{Float32}(0.0)      \n",
       " Gray{Float32}(0.0)            Gray{Float32}(0.0)      \n",
       " Gray{Float32}(0.0)            Gray{Float32}(0.0)      \n",
       " Gray{Float32}(0.0)         …  Gray{Float32}(0.0)      \n",
       " Gray{Float32}(0.0)            Gray{Float32}(0.0)      \n",
       " Gray{Float32}(0.0)            Gray{Float32}(0.0)      "
      ]
     },
     "metadata": {},
     "output_type": "display_data"
    },
    {
     "data": {
      "image/png": "[encoded data removed]",
      "text/plain": [
       "28×420 Array{Gray{Float32},2} with eltype Gray{Float32}:\n",
       " Gray{Float32}(0.0)         …  Gray{Float32}(0.0)      \n",
       " Gray{Float32}(0.0)            Gray{Float32}(0.0)      \n",
       " Gray{Float32}(0.0)            Gray{Float32}(0.0)      \n",
       " Gray{Float32}(0.0)            Gray{Float32}(0.0)      \n",
       " Gray{Float32}(0.0)            Gray{Float32}(0.0)      \n",
       " Gray{Float32}(0.0)         …  Gray{Float32}(0.0)      \n",
       " Gray{Float32}(0.0)            Gray{Float32}(0.0)      \n",
       " Gray{Float32}(0.0)            Gray{Float32}(0.207843) \n",
       " Gray{Float32}(0.0)            Gray{Float32}(0.52549)  \n",
       " Gray{Float32}(0.0)            Gray{Float32}(0.0)      \n",
       " Gray{Float32}(0.0)         …  Gray{Float32}(0.0)      \n",
       " Gray{Float32}(0.0)            Gray{Float32}(0.0)      \n",
       " Gray{Float32}(0.0)            Gray{Float32}(0.0)      \n",
       " ⋮                          ⋱                          \n",
       " Gray{Float32}(0.0)            Gray{Float32}(0.0)      \n",
       " Gray{Float32}(0.0)            Gray{Float32}(0.0)      \n",
       " Gray{Float32}(0.0117647)      Gray{Float32}(0.0)      \n",
       " Gray{Float32}(0.176471)       Gray{Float32}(0.0196078)\n",
       " Gray{Float32}(0.101961)    …  Gray{Float32}(0.0)      \n",
       " Gray{Float32}(0.0)            Gray{Float32}(0.0392157)\n",
       " Gray{Float32}(0.00392157)     Gray{Float32}(0.0)      \n",
       " Gray{Float32}(0.0)            Gray{Float32}(0.0)      \n",
       " Gray{Float32}(0.0)            Gray{Float32}(0.0)      \n",
       " Gray{Float32}(0.0)         …  Gray{Float32}(0.0)      \n",
       " Gray{Float32}(0.0)            Gray{Float32}(0.0)      \n",
       " Gray{Float32}(0.0)            Gray{Float32}(0.0)      "
      ]
     },
     "metadata": {},
     "output_type": "display_data"
    },
    {
     "data": {
      "text/html": [
       "results (obj => dist): 50871 => 3.21, 1967 => 3.25, 26873 => 3.26, 19945 => 3.33, 58109 => 3.35, 26350 => 3.40, 55535 => 3.41, 24565 => 3.44, 10628 => 3.45, 26348 => 3.47, 1817 => 3.49, 24320 => 3.52, 29843 => 3.57, 36345 => 3.58, 55799 => 3.59"
      ]
     },
     "metadata": {},
     "output_type": "display_data"
    },
    {
     "name": "stdout",
     "output_type": "stream",
     "text": [
      "  0.026505 seconds (3 allocations: 368 bytes)\n",
      "  0.030865 seconds (3 allocations: 368 bytes)\n",
      "  0.025871 seconds (3 allocations: 368 bytes)\n"
     ]
    }
   ],
   "source": [
    "\n",
    "function sequential_search_demo()\n",
    "    index = fit(Sequential, X)\n",
    "\n",
    "    for q in rand(queries, 7)\n",
    "        display_one(q)\n",
    "        @time res = search(index, l2_distance, q, KnnResult(15))\n",
    "        display_many([X[p.objID] for p in res])\n",
    "        msg = [(@sprintf \"%d => %0.2f\" p.objID p.dist) for p in res]\n",
    "        display(\"text/html\", \"results (obj => dist): \" * join(msg, \", \"))\n",
    "    end\n",
    "    \n",
    "    index\n",
    "end\n",
    "\n",
    "seq = sequential_search_demo();"
   ]
  },
  {
   "cell_type": "markdown",
   "metadata": {},
   "source": [
    "## Searching with faster indexes\n",
    "Fast exact indexes can be created using metric division strategies, but the faster ones some times are designed to retrieve an approximation of the solution. In any case, indexes for fast similarity search need to amortize the construction cost with a large number of queries. The following functions only exemplify the searching process, however, the number of queries is too small to show the typical case of use of these indexes.\n",
    "\n",
    "## Experiments with a K-Nearest References index (Knr)\n",
    "\n",
    "The `Knr` is a simple but effective index that allows fast searching in high dimensional datasets."
   ]
  },
  {
   "cell_type": "code",
   "execution_count": 6,
   "metadata": {},
   "outputs": [
    {
     "name": "stderr",
     "output_type": "stream",
     "text": [
      "Knr> refs=Array{Array{Float32,1},1}, k=3, numrefs=128, dist=l2_distance\n",
      "Knr> advance 0.05, now: 2019-11-15T13:36:52.178\n",
      "Knr> advance 0.1, now: 2019-11-15T13:36:52.285\n",
      "Knr> advance 0.15, now: 2019-11-15T13:36:52.363\n",
      "Knr> advance 0.2, now: 2019-11-15T13:36:52.447\n",
      "Knr> advance 0.25, now: 2019-11-15T13:36:52.524\n",
      "Knr> advance 0.3, now: 2019-11-15T13:36:52.612\n",
      "Knr> advance 0.35, now: 2019-11-15T13:36:52.688\n",
      "Knr> advance 0.4, now: 2019-11-15T13:36:52.772\n",
      "Knr> advance 0.45, now: 2019-11-15T13:36:52.849\n",
      "Knr> advance 0.5, now: 2019-11-15T13:36:52.933\n",
      "Knr> advance 0.55, now: 2019-11-15T13:36:53.01\n",
      "Knr> advance 0.6, now: 2019-11-15T13:36:53.097\n",
      "Knr> advance 0.65, now: 2019-11-15T13:36:53.177\n",
      "Knr> advance 0.7, now: 2019-11-15T13:36:53.262\n",
      "Knr> advance 0.75, now: 2019-11-15T13:36:53.34\n",
      "Knr> advance 0.8, now: 2019-11-15T13:36:53.425\n",
      "Knr> advance 0.85, now: 2019-11-15T13:36:53.504\n",
      "Knr> advance 0.9, now: 2019-11-15T13:36:53.591\n"
     ]
    },
    {
     "name": "stdout",
     "output_type": "stream",
     "text": [
      "  2.033338 seconds (868.27 k allocations: 49.769 MiB, 1.23% gc time)\n"
     ]
    },
    {
     "name": "stderr",
     "output_type": "stream",
     "text": [
      "Knr> advance 0.95, now: 2019-11-15T13:36:53.668\n",
      "Knr> advance 1.0, now: 2019-11-15T13:36:53.755\n",
      "Knr> optimizing index for recall=0.95\n",
      "Knr> opt step ksearch=2, performance PerformanceResult(0.9305555555555551, 0.9305555555555551, 0.9305555555555551, 0.0023026764392852783, 0.018924446776509285, 3096.2421875, 4785.647718250856)\n"
     ]
    },
    {
     "data": {
      "image/png": "[encoded data removed]",
      "text/plain": [
       "28×28 Adjoint{Gray{Float32},Array{Gray{Float32},2}}:\n",
       " Gray{Float32}(0.0)        …  Gray{Float32}(0.0)      \n",
       " Gray{Float32}(0.0)           Gray{Float32}(0.0)      \n",
       " Gray{Float32}(0.0)           Gray{Float32}(0.0)      \n",
       " Gray{Float32}(0.0)           Gray{Float32}(0.0)      \n",
       " Gray{Float32}(0.0)           Gray{Float32}(0.0)      \n",
       " Gray{Float32}(0.0)        …  Gray{Float32}(0.0)      \n",
       " Gray{Float32}(0.0)           Gray{Float32}(0.0)      \n",
       " Gray{Float32}(0.0)           Gray{Float32}(0.47451)  \n",
       " Gray{Float32}(0.0)           Gray{Float32}(0.137255) \n",
       " Gray{Float32}(0.0)           Gray{Float32}(0.0)      \n",
       " Gray{Float32}(0.0)        …  Gray{Float32}(0.0)      \n",
       " Gray{Float32}(0.0)           Gray{Float32}(0.0)      \n",
       " Gray{Float32}(0.0)           Gray{Float32}(0.0)      \n",
       " ⋮                         ⋱                          \n",
       " Gray{Float32}(0.0)           Gray{Float32}(0.466667) \n",
       " Gray{Float32}(0.0)           Gray{Float32}(0.337255) \n",
       " Gray{Float32}(0.0235294)     Gray{Float32}(0.0)      \n",
       " Gray{Float32}(0.0)           Gray{Float32}(0.0)      \n",
       " Gray{Float32}(0.0)        …  Gray{Float32}(0.0392157)\n",
       " Gray{Float32}(0.0)           Gray{Float32}(0.0)      \n",
       " Gray{Float32}(0.0)           Gray{Float32}(0.0)      \n",
       " Gray{Float32}(0.0)           Gray{Float32}(0.0)      \n",
       " Gray{Float32}(0.0)           Gray{Float32}(0.0)      \n",
       " Gray{Float32}(0.0)        …  Gray{Float32}(0.0)      \n",
       " Gray{Float32}(0.0)           Gray{Float32}(0.0)      \n",
       " Gray{Float32}(0.0)           Gray{Float32}(0.0)      "
      ]
     },
     "metadata": {},
     "output_type": "display_data"
    },
    {
     "data": {
      "image/png": "[encoded data removed]",
      "text/plain": [
       "28×420 Array{Gray{Float32},2} with eltype Gray{Float32}:\n",
       " Gray{Float32}(0.0)       …  Gray{Float32}(0.0)     \n",
       " Gray{Float32}(0.0)          Gray{Float32}(0.0)     \n",
       " Gray{Float32}(0.0)          Gray{Float32}(0.0)     \n",
       " Gray{Float32}(0.0)          Gray{Float32}(0.0)     \n",
       " Gray{Float32}(0.0)          Gray{Float32}(0.0)     \n",
       " Gray{Float32}(0.0)       …  Gray{Float32}(0.0)     \n",
       " Gray{Float32}(0.0)          Gray{Float32}(0.196078)\n",
       " Gray{Float32}(0.0)          Gray{Float32}(0.313726)\n",
       " Gray{Float32}(0.0)          Gray{Float32}(0.0)     \n",
       " Gray{Float32}(0.0)          Gray{Float32}(0.0)     \n",
       " Gray{Float32}(0.0)       …  Gray{Float32}(0.0)     \n",
       " Gray{Float32}(0.0)          Gray{Float32}(0.0)     \n",
       " Gray{Float32}(0.0)          Gray{Float32}(0.0)     \n",
       " ⋮                        ⋱                         \n",
       " Gray{Float32}(0.0)          Gray{Float32}(0.396078)\n",
       " Gray{Float32}(0.345098)     Gray{Float32}(0.321569)\n",
       " Gray{Float32}(0.2)          Gray{Float32}(0.235294)\n",
       " Gray{Float32}(0.0)          Gray{Float32}(0.239216)\n",
       " Gray{Float32}(0.0)       …  Gray{Float32}(0.305882)\n",
       " Gray{Float32}(0.0)          Gray{Float32}(0.0)     \n",
       " Gray{Float32}(0.0)          Gray{Float32}(0.0)     \n",
       " Gray{Float32}(0.0)          Gray{Float32}(0.0)     \n",
       " Gray{Float32}(0.0)          Gray{Float32}(0.0)     \n",
       " Gray{Float32}(0.0)       …  Gray{Float32}(0.0)     \n",
       " Gray{Float32}(0.0)          Gray{Float32}(0.0)     \n",
       " Gray{Float32}(0.0)          Gray{Float32}(0.0)     "
      ]
     },
     "metadata": {},
     "output_type": "display_data"
    },
    {
     "data": {
      "text/html": [
       "results (obj => dist): 6105 => 2.74, 6423 => 3.01, 2547 => 3.06, 46151 => 3.15, 36065 => 3.23, 22973 => 3.28, 3322 => 3.40, 35811 => 3.42, 42965 => 3.43, 31044 => 3.44, 59766 => 3.49, 35512 => 3.52, 7157 => 3.58, 51200 => 3.67, 10919 => 3.72"
      ]
     },
     "metadata": {},
     "output_type": "display_data"
    },
    {
     "data": {
      "image/png": "[encoded data removed]",
      "text/plain": [
       "28×28 Adjoint{Gray{Float32},Array{Gray{Float32},2}}:\n",
       " Gray{Float32}(0.0)        …  Gray{Float32}(0.0)      \n",
       " Gray{Float32}(0.0)           Gray{Float32}(0.0)      \n",
       " Gray{Float32}(0.0)           Gray{Float32}(0.0)      \n",
       " Gray{Float32}(0.0)           Gray{Float32}(0.0)      \n",
       " Gray{Float32}(0.0)           Gray{Float32}(0.0)      \n",
       " Gray{Float32}(0.0)        …  Gray{Float32}(0.0)      \n",
       " Gray{Float32}(0.0)           Gray{Float32}(0.321569) \n",
       " Gray{Float32}(0.0)           Gray{Float32}(0.427451) \n",
       " Gray{Float32}(0.0)           Gray{Float32}(0.372549) \n",
       " Gray{Float32}(0.0)           Gray{Float32}(0.247059) \n",
       " Gray{Float32}(0.0)        …  Gray{Float32}(0.12549)  \n",
       " Gray{Float32}(0.0)           Gray{Float32}(0.164706) \n",
       " Gray{Float32}(0.0)           Gray{Float32}(0.247059) \n",
       " ⋮                         ⋱                          \n",
       " Gray{Float32}(0.0)           Gray{Float32}(0.517647) \n",
       " Gray{Float32}(0.0)           Gray{Float32}(0.54902)  \n",
       " Gray{Float32}(0.0)           Gray{Float32}(0.384314) \n",
       " Gray{Float32}(0.0)           Gray{Float32}(0.337255) \n",
       " Gray{Float32}(0.239216)   …  Gray{Float32}(0.305882) \n",
       " Gray{Float32}(0.0196078)     Gray{Float32}(0.392157) \n",
       " Gray{Float32}(0.0)           Gray{Float32}(0.0901961)\n",
       " Gray{Float32}(0.0)           Gray{Float32}(0.0)      \n",
       " Gray{Float32}(0.0)           Gray{Float32}(0.0)      \n",
       " Gray{Float32}(0.0)        …  Gray{Float32}(0.0)      \n",
       " Gray{Float32}(0.0)           Gray{Float32}(0.0)      \n",
       " Gray{Float32}(0.0)           Gray{Float32}(0.0)      "
      ]
     },
     "metadata": {},
     "output_type": "display_data"
    },
    {
     "data": {
      "image/png": "[encoded data removed]",
      "text/plain": [
       "28×420 Array{Gray{Float32},2} with eltype Gray{Float32}:\n",
       " Gray{Float32}(0.0)        …  Gray{Float32}(0.0)      \n",
       " Gray{Float32}(0.0)           Gray{Float32}(0.0)      \n",
       " Gray{Float32}(0.0)           Gray{Float32}(0.0)      \n",
       " Gray{Float32}(0.0)           Gray{Float32}(0.0)      \n",
       " Gray{Float32}(0.0)           Gray{Float32}(0.0)      \n",
       " Gray{Float32}(0.0)        …  Gray{Float32}(0.0)      \n",
       " Gray{Float32}(0.0)           Gray{Float32}(0.0)      \n",
       " Gray{Float32}(0.0)           Gray{Float32}(0.0)      \n",
       " Gray{Float32}(0.0)           Gray{Float32}(0.0)      \n",
       " Gray{Float32}(0.0)           Gray{Float32}(0.0)      \n",
       " Gray{Float32}(0.0)        …  Gray{Float32}(0.0)      \n",
       " Gray{Float32}(0.0)           Gray{Float32}(0.0)      \n",
       " Gray{Float32}(0.0)           Gray{Float32}(0.0)      \n",
       " ⋮                         ⋱                          \n",
       " Gray{Float32}(0.0)           Gray{Float32}(0.258824) \n",
       " Gray{Float32}(0.0)           Gray{Float32}(0.113725) \n",
       " Gray{Float32}(0.0)           Gray{Float32}(0.117647) \n",
       " Gray{Float32}(0.12549)       Gray{Float32}(0.0666667)\n",
       " Gray{Float32}(0.509804)   …  Gray{Float32}(0.0862745)\n",
       " Gray{Float32}(0.0313726)     Gray{Float32}(0.180392) \n",
       " Gray{Float32}(0.0)           Gray{Float32}(0.0901961)\n",
       " Gray{Float32}(0.0)           Gray{Float32}(0.0)      \n",
       " Gray{Float32}(0.0)           Gray{Float32}(0.0)      \n",
       " Gray{Float32}(0.0)        …  Gray{Float32}(0.0)      \n",
       " Gray{Float32}(0.0)           Gray{Float32}(0.0)      \n",
       " Gray{Float32}(0.0)           Gray{Float32}(0.0)      "
      ]
     },
     "metadata": {},
     "output_type": "display_data"
    },
    {
     "data": {
      "text/html": [
       "results (obj => dist): 36486 => 2.67, 41922 => 2.74, 44066 => 3.02, 37216 => 3.02, 46540 => 3.07, 22250 => 3.14, 18532 => 3.25, 41634 => 3.39, 27066 => 3.40, 7632 => 3.52, 44192 => 3.67, 43245 => 3.74, 13879 => 3.75, 11856 => 3.78, 15559 => 3.79"
      ]
     },
     "metadata": {},
     "output_type": "display_data"
    },
    {
     "data": {
      "image/png": "[encoded data removed]",
      "text/plain": [
       "28×28 Adjoint{Gray{Float32},Array{Gray{Float32},2}}:\n",
       " Gray{Float32}(0.0)  Gray{Float32}(0.0)         …  Gray{Float32}(0.0)       \n",
       " Gray{Float32}(0.0)  Gray{Float32}(0.0)            Gray{Float32}(0.0)       \n",
       " Gray{Float32}(0.0)  Gray{Float32}(0.0)            Gray{Float32}(0.00392157)\n",
       " Gray{Float32}(0.0)  Gray{Float32}(0.00784314)     Gray{Float32}(0.00392157)\n",
       " Gray{Float32}(0.0)  Gray{Float32}(0.0)            Gray{Float32}(0.0)       \n",
       " Gray{Float32}(0.0)  Gray{Float32}(0.0)         …  Gray{Float32}(0.0)       \n",
       " Gray{Float32}(0.0)  Gray{Float32}(0.0)            Gray{Float32}(0.0)       \n",
       " Gray{Float32}(0.0)  Gray{Float32}(0.0)            Gray{Float32}(0.0)       \n",
       " Gray{Float32}(0.0)  Gray{Float32}(0.0)            Gray{Float32}(0.0)       \n",
       " Gray{Float32}(0.0)  Gray{Float32}(0.0)            Gray{Float32}(0.0)       \n",
       " Gray{Float32}(0.0)  Gray{Float32}(0.0705882)   …  Gray{Float32}(0.0)       \n",
       " Gray{Float32}(0.0)  Gray{Float32}(0.223529)       Gray{Float32}(0.192157)  \n",
       " Gray{Float32}(0.0)  Gray{Float32}(0.647059)       Gray{Float32}(0.447059)  \n",
       " ⋮                                              ⋱                           \n",
       " Gray{Float32}(0.0)  Gray{Float32}(0.0)            Gray{Float32}(0.00784314)\n",
       " Gray{Float32}(0.0)  Gray{Float32}(0.0)            Gray{Float32}(0.0)       \n",
       " Gray{Float32}(0.0)  Gray{Float32}(0.0)            Gray{Float32}(0.0)       \n",
       " Gray{Float32}(0.0)  Gray{Float32}(0.0)            Gray{Float32}(0.0)       \n",
       " Gray{Float32}(0.0)  Gray{Float32}(0.0)         …  Gray{Float32}(0.0)       \n",
       " Gray{Float32}(0.0)  Gray{Float32}(0.0)            Gray{Float32}(0.0)       \n",
       " Gray{Float32}(0.0)  Gray{Float32}(0.0)            Gray{Float32}(0.0)       \n",
       " Gray{Float32}(0.0)  Gray{Float32}(0.0)            Gray{Float32}(0.0)       \n",
       " Gray{Float32}(0.0)  Gray{Float32}(0.0)            Gray{Float32}(0.0)       \n",
       " Gray{Float32}(0.0)  Gray{Float32}(0.0)         …  Gray{Float32}(0.0)       \n",
       " Gray{Float32}(0.0)  Gray{Float32}(0.0)            Gray{Float32}(0.0)       \n",
       " Gray{Float32}(0.0)  Gray{Float32}(0.0)            Gray{Float32}(0.0)       "
      ]
     },
     "metadata": {},
     "output_type": "display_data"
    },
    {
     "data": {
      "image/png": "[encoded data removed]",
      "text/plain": [
       "28×420 Array{Gray{Float32},2} with eltype Gray{Float32}:\n",
       " Gray{Float32}(0.0)  Gray{Float32}(0.0)         …  Gray{Float32}(0.0)       \n",
       " Gray{Float32}(0.0)  Gray{Float32}(0.0)            Gray{Float32}(0.0)       \n",
       " Gray{Float32}(0.0)  Gray{Float32}(0.0)            Gray{Float32}(0.0)       \n",
       " Gray{Float32}(0.0)  Gray{Float32}(0.0117647)      Gray{Float32}(0.0)       \n",
       " Gray{Float32}(0.0)  Gray{Float32}(0.00392157)     Gray{Float32}(0.0)       \n",
       " Gray{Float32}(0.0)  Gray{Float32}(0.0)         …  Gray{Float32}(0.0)       \n",
       " Gray{Float32}(0.0)  Gray{Float32}(0.0)            Gray{Float32}(0.0)       \n",
       " Gray{Float32}(0.0)  Gray{Float32}(0.0)            Gray{Float32}(0.00392157)\n",
       " Gray{Float32}(0.0)  Gray{Float32}(0.0)            Gray{Float32}(0.0)       \n",
       " Gray{Float32}(0.0)  Gray{Float32}(0.0745098)      Gray{Float32}(0.0)       \n",
       " Gray{Float32}(0.0)  Gray{Float32}(0.278431)    …  Gray{Float32}(0.0)       \n",
       " Gray{Float32}(0.0)  Gray{Float32}(0.588235)       Gray{Float32}(0.152941)  \n",
       " Gray{Float32}(0.0)  Gray{Float32}(0.172549)       Gray{Float32}(0.54902)   \n",
       " ⋮                                              ⋱                           \n",
       " Gray{Float32}(0.0)  Gray{Float32}(0.0)            Gray{Float32}(0.00392157)\n",
       " Gray{Float32}(0.0)  Gray{Float32}(0.0)            Gray{Float32}(0.00392157)\n",
       " Gray{Float32}(0.0)  Gray{Float32}(0.0)            Gray{Float32}(0.0)       \n",
       " Gray{Float32}(0.0)  Gray{Float32}(0.0)            Gray{Float32}(0.0)       \n",
       " Gray{Float32}(0.0)  Gray{Float32}(0.0)         …  Gray{Float32}(0.0)       \n",
       " Gray{Float32}(0.0)  Gray{Float32}(0.0)            Gray{Float32}(0.0)       \n",
       " Gray{Float32}(0.0)  Gray{Float32}(0.0)            Gray{Float32}(0.0)       \n",
       " Gray{Float32}(0.0)  Gray{Float32}(0.0)            Gray{Float32}(0.0)       \n",
       " Gray{Float32}(0.0)  Gray{Float32}(0.0)            Gray{Float32}(0.0)       \n",
       " Gray{Float32}(0.0)  Gray{Float32}(0.0)         …  Gray{Float32}(0.0)       \n",
       " Gray{Float32}(0.0)  Gray{Float32}(0.0)            Gray{Float32}(0.0)       \n",
       " Gray{Float32}(0.0)  Gray{Float32}(0.0)            Gray{Float32}(0.0)       "
      ]
     },
     "metadata": {},
     "output_type": "display_data"
    },
    {
     "data": {
      "text/html": [
       "results (obj => dist): 14624 => 5.10, 50993 => 5.13, 24435 => 5.16, 43782 => 5.16, 42040 => 5.18, 23059 => 5.39, 49573 => 5.41, 52398 => 5.48, 47776 => 5.51, 2713 => 5.52, 826 => 5.53, 37668 => 5.53, 6473 => 5.54, 12955 => 5.55, 3337 => 5.61"
      ]
     },
     "metadata": {},
     "output_type": "display_data"
    },
    {
     "data": {
      "image/png": "[encoded data removed]",
      "text/plain": [
       "28×28 Adjoint{Gray{Float32},Array{Gray{Float32},2}}:\n",
       " Gray{Float32}(0.0)  Gray{Float32}(0.0)  …  Gray{Float32}(0.0)\n",
       " Gray{Float32}(0.0)  Gray{Float32}(0.0)     Gray{Float32}(0.0)\n",
       " Gray{Float32}(0.0)  Gray{Float32}(0.0)     Gray{Float32}(0.0)\n",
       " Gray{Float32}(0.0)  Gray{Float32}(0.0)     Gray{Float32}(0.0)\n",
       " Gray{Float32}(0.0)  Gray{Float32}(0.0)     Gray{Float32}(0.0)\n",
       " Gray{Float32}(0.0)  Gray{Float32}(0.0)  …  Gray{Float32}(0.0)\n",
       " Gray{Float32}(0.0)  Gray{Float32}(0.0)     Gray{Float32}(0.0)\n",
       " Gray{Float32}(0.0)  Gray{Float32}(0.0)     Gray{Float32}(0.0)\n",
       " Gray{Float32}(0.0)  Gray{Float32}(0.0)     Gray{Float32}(0.0)\n",
       " Gray{Float32}(0.0)  Gray{Float32}(0.0)     Gray{Float32}(0.0)\n",
       " Gray{Float32}(0.0)  Gray{Float32}(0.0)  …  Gray{Float32}(0.0)\n",
       " Gray{Float32}(0.0)  Gray{Float32}(0.0)     Gray{Float32}(0.0)\n",
       " Gray{Float32}(0.0)  Gray{Float32}(0.0)     Gray{Float32}(0.0)\n",
       " ⋮                                       ⋱                    \n",
       " Gray{Float32}(0.0)  Gray{Float32}(0.0)     Gray{Float32}(0.0)\n",
       " Gray{Float32}(0.0)  Gray{Float32}(0.0)     Gray{Float32}(0.0)\n",
       " Gray{Float32}(0.0)  Gray{Float32}(0.0)     Gray{Float32}(0.0)\n",
       " Gray{Float32}(0.0)  Gray{Float32}(0.0)     Gray{Float32}(0.0)\n",
       " Gray{Float32}(0.0)  Gray{Float32}(0.0)  …  Gray{Float32}(0.0)\n",
       " Gray{Float32}(0.0)  Gray{Float32}(0.0)     Gray{Float32}(0.0)\n",
       " Gray{Float32}(0.0)  Gray{Float32}(0.0)     Gray{Float32}(0.0)\n",
       " Gray{Float32}(0.0)  Gray{Float32}(0.0)     Gray{Float32}(0.0)\n",
       " Gray{Float32}(0.0)  Gray{Float32}(0.0)     Gray{Float32}(0.0)\n",
       " Gray{Float32}(0.0)  Gray{Float32}(0.0)  …  Gray{Float32}(0.0)\n",
       " Gray{Float32}(0.0)  Gray{Float32}(0.0)     Gray{Float32}(0.0)\n",
       " Gray{Float32}(0.0)  Gray{Float32}(0.0)     Gray{Float32}(0.0)"
      ]
     },
     "metadata": {},
     "output_type": "display_data"
    },
    {
     "name": "stdout",
     "output_type": "stream",
     "text": [
      "  0.034611 seconds (24.27 k allocations: 1.314 MiB)\n",
      "  0.002719 seconds (9 allocations: 117.828 KiB)\n",
      "  0.003707 seconds (9 allocations: 117.828 KiB)\n"
     ]
    },
    {
     "name": "stderr",
     "output_type": "stream",
     "text": [
      "Knr> reached performance PerformanceResult(0.9852430555555555, 0.9852430555555555, 0.9852430555555555, 0.0032266825437545776, 0.018924446776509285, 5151.59375, 4769.640851845704)\n"
     ]
    },
    {
     "data": {
      "image/png": "[encoded data removed]",
      "text/plain": [
       "28×420 Array{Gray{Float32},2} with eltype Gray{Float32}:\n",
       " Gray{Float32}(0.0)  Gray{Float32}(0.0)  …  Gray{Float32}(0.0)\n",
       " Gray{Float32}(0.0)  Gray{Float32}(0.0)     Gray{Float32}(0.0)\n",
       " Gray{Float32}(0.0)  Gray{Float32}(0.0)     Gray{Float32}(0.0)\n",
       " Gray{Float32}(0.0)  Gray{Float32}(0.0)     Gray{Float32}(0.0)\n",
       " Gray{Float32}(0.0)  Gray{Float32}(0.0)     Gray{Float32}(0.0)\n",
       " Gray{Float32}(0.0)  Gray{Float32}(0.0)  …  Gray{Float32}(0.0)\n",
       " Gray{Float32}(0.0)  Gray{Float32}(0.0)     Gray{Float32}(0.0)\n",
       " Gray{Float32}(0.0)  Gray{Float32}(0.0)     Gray{Float32}(0.0)\n",
       " Gray{Float32}(0.0)  Gray{Float32}(0.0)     Gray{Float32}(0.0)\n",
       " Gray{Float32}(0.0)  Gray{Float32}(0.0)     Gray{Float32}(0.0)\n",
       " Gray{Float32}(0.0)  Gray{Float32}(0.0)  …  Gray{Float32}(0.0)\n",
       " Gray{Float32}(0.0)  Gray{Float32}(0.0)     Gray{Float32}(0.0)\n",
       " Gray{Float32}(0.0)  Gray{Float32}(0.0)     Gray{Float32}(0.0)\n",
       " ⋮                                       ⋱                    \n",
       " Gray{Float32}(0.0)  Gray{Float32}(0.0)     Gray{Float32}(0.0)\n",
       " Gray{Float32}(0.0)  Gray{Float32}(0.0)     Gray{Float32}(0.0)\n",
       " Gray{Float32}(0.0)  Gray{Float32}(0.0)     Gray{Float32}(0.0)\n",
       " Gray{Float32}(0.0)  Gray{Float32}(0.0)     Gray{Float32}(0.0)\n",
       " Gray{Float32}(0.0)  Gray{Float32}(0.0)  …  Gray{Float32}(0.0)\n",
       " Gray{Float32}(0.0)  Gray{Float32}(0.0)     Gray{Float32}(0.0)\n",
       " Gray{Float32}(0.0)  Gray{Float32}(0.0)     Gray{Float32}(0.0)\n",
       " Gray{Float32}(0.0)  Gray{Float32}(0.0)     Gray{Float32}(0.0)\n",
       " Gray{Float32}(0.0)  Gray{Float32}(0.0)     Gray{Float32}(0.0)\n",
       " Gray{Float32}(0.0)  Gray{Float32}(0.0)  …  Gray{Float32}(0.0)\n",
       " Gray{Float32}(0.0)  Gray{Float32}(0.0)     Gray{Float32}(0.0)\n",
       " Gray{Float32}(0.0)  Gray{Float32}(0.0)     Gray{Float32}(0.0)"
      ]
     },
     "metadata": {},
     "output_type": "display_data"
    },
    {
     "data": {
      "text/html": [
       "results (obj => dist): 38046 => 2.57, 19863 => 2.61, 7874 => 2.76, 8558 => 2.79, 24516 => 2.87, 34340 => 2.88, 24557 => 2.90, 55171 => 2.91, 20110 => 2.92, 54673 => 2.94, 39615 => 2.95, 47668 => 3.11, 54021 => 3.14, 1634 => 3.14, 59579 => 3.15"
      ]
     },
     "metadata": {},
     "output_type": "display_data"
    },
    {
     "data": {
      "image/png": "[encoded data removed]",
      "text/plain": [
       "28×28 Adjoint{Gray{Float32},Array{Gray{Float32},2}}:\n",
       " Gray{Float32}(0.0)  Gray{Float32}(0.0)  …  Gray{Float32}(0.0)\n",
       " Gray{Float32}(0.0)  Gray{Float32}(0.0)     Gray{Float32}(0.0)\n",
       " Gray{Float32}(0.0)  Gray{Float32}(0.0)     Gray{Float32}(0.0)\n",
       " Gray{Float32}(0.0)  Gray{Float32}(0.0)     Gray{Float32}(0.0)\n",
       " Gray{Float32}(0.0)  Gray{Float32}(0.0)     Gray{Float32}(0.0)\n",
       " Gray{Float32}(0.0)  Gray{Float32}(0.0)  …  Gray{Float32}(0.0)\n",
       " Gray{Float32}(0.0)  Gray{Float32}(0.0)     Gray{Float32}(0.0)\n",
       " Gray{Float32}(0.0)  Gray{Float32}(0.0)     Gray{Float32}(0.0)\n",
       " Gray{Float32}(0.0)  Gray{Float32}(0.0)     Gray{Float32}(0.0)\n",
       " Gray{Float32}(0.0)  Gray{Float32}(0.0)     Gray{Float32}(0.0)\n",
       " Gray{Float32}(0.0)  Gray{Float32}(0.0)  …  Gray{Float32}(0.0)\n",
       " Gray{Float32}(0.0)  Gray{Float32}(0.0)     Gray{Float32}(0.0)\n",
       " Gray{Float32}(0.0)  Gray{Float32}(0.0)     Gray{Float32}(0.0)\n",
       " ⋮                                       ⋱                    \n",
       " Gray{Float32}(0.0)  Gray{Float32}(0.0)     Gray{Float32}(0.0)\n",
       " Gray{Float32}(0.0)  Gray{Float32}(0.0)     Gray{Float32}(0.0)\n",
       " Gray{Float32}(0.0)  Gray{Float32}(0.0)     Gray{Float32}(0.0)\n",
       " Gray{Float32}(0.0)  Gray{Float32}(0.0)     Gray{Float32}(0.0)\n",
       " Gray{Float32}(0.0)  Gray{Float32}(0.0)  …  Gray{Float32}(0.0)\n",
       " Gray{Float32}(0.0)  Gray{Float32}(0.0)     Gray{Float32}(0.0)\n",
       " Gray{Float32}(0.0)  Gray{Float32}(0.0)     Gray{Float32}(0.0)\n",
       " Gray{Float32}(0.0)  Gray{Float32}(0.0)     Gray{Float32}(0.0)\n",
       " Gray{Float32}(0.0)  Gray{Float32}(0.0)     Gray{Float32}(0.0)\n",
       " Gray{Float32}(0.0)  Gray{Float32}(0.0)  …  Gray{Float32}(0.0)\n",
       " Gray{Float32}(0.0)  Gray{Float32}(0.0)     Gray{Float32}(0.0)\n",
       " Gray{Float32}(0.0)  Gray{Float32}(0.0)     Gray{Float32}(0.0)"
      ]
     },
     "metadata": {},
     "output_type": "display_data"
    },
    {
     "data": {
      "image/png": "[encoded data removed]",
      "text/plain": [
       "28×420 Array{Gray{Float32},2} with eltype Gray{Float32}:\n",
       " Gray{Float32}(0.0)  Gray{Float32}(0.0)  …  Gray{Float32}(0.0)\n",
       " Gray{Float32}(0.0)  Gray{Float32}(0.0)     Gray{Float32}(0.0)\n",
       " Gray{Float32}(0.0)  Gray{Float32}(0.0)     Gray{Float32}(0.0)\n",
       " Gray{Float32}(0.0)  Gray{Float32}(0.0)     Gray{Float32}(0.0)\n",
       " Gray{Float32}(0.0)  Gray{Float32}(0.0)     Gray{Float32}(0.0)\n",
       " Gray{Float32}(0.0)  Gray{Float32}(0.0)  …  Gray{Float32}(0.0)\n",
       " Gray{Float32}(0.0)  Gray{Float32}(0.0)     Gray{Float32}(0.0)\n",
       " Gray{Float32}(0.0)  Gray{Float32}(0.0)     Gray{Float32}(0.0)\n",
       " Gray{Float32}(0.0)  Gray{Float32}(0.0)     Gray{Float32}(0.0)\n",
       " Gray{Float32}(0.0)  Gray{Float32}(0.0)     Gray{Float32}(0.0)\n",
       " Gray{Float32}(0.0)  Gray{Float32}(0.0)  …  Gray{Float32}(0.0)\n",
       " Gray{Float32}(0.0)  Gray{Float32}(0.0)     Gray{Float32}(0.0)\n",
       " Gray{Float32}(0.0)  Gray{Float32}(0.0)     Gray{Float32}(0.0)\n",
       " ⋮                                       ⋱                    \n",
       " Gray{Float32}(0.0)  Gray{Float32}(0.0)     Gray{Float32}(0.0)\n",
       " Gray{Float32}(0.0)  Gray{Float32}(0.0)     Gray{Float32}(0.0)\n",
       " Gray{Float32}(0.0)  Gray{Float32}(0.0)     Gray{Float32}(0.0)\n",
       " Gray{Float32}(0.0)  Gray{Float32}(0.0)     Gray{Float32}(0.0)\n",
       " Gray{Float32}(0.0)  Gray{Float32}(0.0)  …  Gray{Float32}(0.0)\n",
       " Gray{Float32}(0.0)  Gray{Float32}(0.0)     Gray{Float32}(0.0)\n",
       " Gray{Float32}(0.0)  Gray{Float32}(0.0)     Gray{Float32}(0.0)\n",
       " Gray{Float32}(0.0)  Gray{Float32}(0.0)     Gray{Float32}(0.0)\n",
       " Gray{Float32}(0.0)  Gray{Float32}(0.0)     Gray{Float32}(0.0)\n",
       " Gray{Float32}(0.0)  Gray{Float32}(0.0)  …  Gray{Float32}(0.0)\n",
       " Gray{Float32}(0.0)  Gray{Float32}(0.0)     Gray{Float32}(0.0)\n",
       " Gray{Float32}(0.0)  Gray{Float32}(0.0)     Gray{Float32}(0.0)"
      ]
     },
     "metadata": {},
     "output_type": "display_data"
    },
    {
     "data": {
      "text/html": [
       "results (obj => dist): 8654 => 2.94, 46619 => 3.03, 35111 => 3.33, 39683 => 3.37, 7745 => 3.46, 20546 => 3.50, 28617 => 3.52, 45072 => 3.72, 10664 => 3.74, 17420 => 3.93, 12492 => 4.00, 38593 => 4.00, 20059 => 4.00, 46518 => 4.00, 55218 => 4.08"
      ]
     },
     "metadata": {},
     "output_type": "display_data"
    },
    {
     "data": {
      "image/png": "[encoded data removed]",
      "text/plain": [
       "28×28 Adjoint{Gray{Float32},Array{Gray{Float32},2}}:\n",
       " Gray{Float32}(0.0)       Gray{Float32}(0.0)       …  Gray{Float32}(0.0)     \n",
       " Gray{Float32}(0.0)       Gray{Float32}(0.0)          Gray{Float32}(0.0)     \n",
       " Gray{Float32}(0.0)       Gray{Float32}(0.0)          Gray{Float32}(0.0)     \n",
       " Gray{Float32}(0.0)       Gray{Float32}(0.0)          Gray{Float32}(0.0)     \n",
       " Gray{Float32}(0.0)       Gray{Float32}(0.0)          Gray{Float32}(0.0)     \n",
       " Gray{Float32}(0.0)       Gray{Float32}(0.0)       …  Gray{Float32}(0.0)     \n",
       " Gray{Float32}(0.0)       Gray{Float32}(0.0)          Gray{Float32}(0.0)     \n",
       " Gray{Float32}(0.0)       Gray{Float32}(0.0)          Gray{Float32}(0.0)     \n",
       " Gray{Float32}(0.0)       Gray{Float32}(0.0)          Gray{Float32}(0.0)     \n",
       " Gray{Float32}(0.0)       Gray{Float32}(0.0)          Gray{Float32}(0.0)     \n",
       " Gray{Float32}(0.0)       Gray{Float32}(0.0)       …  Gray{Float32}(0.0)     \n",
       " Gray{Float32}(0.0)       Gray{Float32}(0.0)          Gray{Float32}(0.0)     \n",
       " Gray{Float32}(0.0)       Gray{Float32}(0.0)          Gray{Float32}(0.0)     \n",
       " ⋮                                                 ⋱                         \n",
       " Gray{Float32}(0.211765)  Gray{Float32}(0.156863)     Gray{Float32}(0.109804)\n",
       " Gray{Float32}(0.054902)  Gray{Float32}(0.172549)     Gray{Float32}(0.164706)\n",
       " Gray{Float32}(0.0)       Gray{Float32}(0.0)          Gray{Float32}(0.054902)\n",
       " Gray{Float32}(0.0)       Gray{Float32}(0.0)          Gray{Float32}(0.0)     \n",
       " Gray{Float32}(0.0)       Gray{Float32}(0.0)       …  Gray{Float32}(0.0)     \n",
       " Gray{Float32}(0.0)       Gray{Float32}(0.0)          Gray{Float32}(0.0)     \n",
       " Gray{Float32}(0.0)       Gray{Float32}(0.0)          Gray{Float32}(0.0)     \n",
       " Gray{Float32}(0.0)       Gray{Float32}(0.0)          Gray{Float32}(0.0)     \n",
       " Gray{Float32}(0.0)       Gray{Float32}(0.0)          Gray{Float32}(0.0)     \n",
       " Gray{Float32}(0.0)       Gray{Float32}(0.0)       …  Gray{Float32}(0.0)     \n",
       " Gray{Float32}(0.0)       Gray{Float32}(0.0)          Gray{Float32}(0.0)     \n",
       " Gray{Float32}(0.0)       Gray{Float32}(0.0)          Gray{Float32}(0.0)     "
      ]
     },
     "metadata": {},
     "output_type": "display_data"
    },
    {
     "data": {
      "image/png": "[encoded data removed]",
      "text/plain": [
       "28×420 Array{Gray{Float32},2} with eltype Gray{Float32}:\n",
       " Gray{Float32}(0.0)         …  Gray{Float32}(0.0)     \n",
       " Gray{Float32}(0.0)            Gray{Float32}(0.0)     \n",
       " Gray{Float32}(0.0)            Gray{Float32}(0.0)     \n",
       " Gray{Float32}(0.0)            Gray{Float32}(0.0)     \n",
       " Gray{Float32}(0.0)            Gray{Float32}(0.0)     \n",
       " Gray{Float32}(0.0)         …  Gray{Float32}(0.0)     \n",
       " Gray{Float32}(0.0)            Gray{Float32}(0.0)     \n",
       " Gray{Float32}(0.0)            Gray{Float32}(0.0)     \n",
       " Gray{Float32}(0.0)            Gray{Float32}(0.0)     \n",
       " Gray{Float32}(0.0)            Gray{Float32}(0.0)     \n",
       " Gray{Float32}(0.0)         …  Gray{Float32}(0.0)     \n",
       " Gray{Float32}(0.0)            Gray{Float32}(0.0)     \n",
       " Gray{Float32}(0.00392157)     Gray{Float32}(0.0)     \n",
       " ⋮                          ⋱                         \n",
       " Gray{Float32}(0.0901961)      Gray{Float32}(0.14902) \n",
       " Gray{Float32}(0.0117647)      Gray{Float32}(0.847059)\n",
       " Gray{Float32}(0.0)            Gray{Float32}(0.258824)\n",
       " Gray{Float32}(0.0)            Gray{Float32}(0.0)     \n",
       " Gray{Float32}(0.0)         …  Gray{Float32}(0.0)     \n",
       " Gray{Float32}(0.0)            Gray{Float32}(0.0)     \n",
       " Gray{Float32}(0.0)            Gray{Float32}(0.0)     \n",
       " Gray{Float32}(0.0)            Gray{Float32}(0.0)     \n",
       " Gray{Float32}(0.0)            Gray{Float32}(0.0)     \n",
       " Gray{Float32}(0.0)         …  Gray{Float32}(0.0)     \n",
       " Gray{Float32}(0.0)            Gray{Float32}(0.0)     \n",
       " Gray{Float32}(0.0)            Gray{Float32}(0.0)     "
      ]
     },
     "metadata": {},
     "output_type": "display_data"
    },
    {
     "data": {
      "text/html": [
       "results (obj => dist): 27256 => 2.48, 47443 => 2.57, 17799 => 2.83, 17860 => 3.09, 38264 => 3.12, 49277 => 3.15, 6315 => 3.25, 59695 => 3.37, 24509 => 3.66, 12262 => 3.67, 42046 => 3.69, 54001 => 3.69, 50030 => 3.71, 8293 => 3.75, 48518 => 3.76"
      ]
     },
     "metadata": {},
     "output_type": "display_data"
    },
    {
     "data": {
      "image/png": "[encoded data removed]",
      "text/plain": [
       "28×28 Adjoint{Gray{Float32},Array{Gray{Float32},2}}:\n",
       " Gray{Float32}(0.0)        …  Gray{Float32}(0.0)      \n",
       " Gray{Float32}(0.0)           Gray{Float32}(0.0)      \n",
       " Gray{Float32}(0.0)           Gray{Float32}(0.0)      \n",
       " Gray{Float32}(0.0)           Gray{Float32}(0.0)      \n",
       " Gray{Float32}(0.0)           Gray{Float32}(0.0)      \n",
       " Gray{Float32}(0.0)        …  Gray{Float32}(0.0)      \n",
       " Gray{Float32}(0.0)           Gray{Float32}(0.0)      \n",
       " Gray{Float32}(0.0)           Gray{Float32}(0.0)      \n",
       " Gray{Float32}(0.0)           Gray{Float32}(0.0)      \n",
       " Gray{Float32}(0.0)           Gray{Float32}(0.0)      \n",
       " Gray{Float32}(0.0)        …  Gray{Float32}(0.0)      \n",
       " Gray{Float32}(0.0)           Gray{Float32}(0.0)      \n",
       " Gray{Float32}(0.0)           Gray{Float32}(0.0)      \n",
       " ⋮                         ⋱                          \n",
       " Gray{Float32}(0.0)           Gray{Float32}(0.0)      \n",
       " Gray{Float32}(0.0)           Gray{Float32}(0.0)      \n",
       " Gray{Float32}(0.0)           Gray{Float32}(0.0)      \n",
       " Gray{Float32}(0.0)           Gray{Float32}(0.0)      \n",
       " Gray{Float32}(0.0)        …  Gray{Float32}(0.0)      \n",
       " Gray{Float32}(0.0)           Gray{Float32}(0.0)      \n",
       " Gray{Float32}(0.0)           Gray{Float32}(0.0)      \n",
       " Gray{Float32}(0.0392157)     Gray{Float32}(0.0)      \n",
       " Gray{Float32}(0.141176)      Gray{Float32}(0.0666667)\n",
       " Gray{Float32}(0.431373)   …  Gray{Float32}(0.164706) \n",
       " Gray{Float32}(0.376471)      Gray{Float32}(0.247059) \n",
       " Gray{Float32}(0.0)           Gray{Float32}(0.0)      "
      ]
     },
     "metadata": {},
     "output_type": "display_data"
    },
    {
     "data": {
      "image/png": "[encoded data removed]",
      "text/plain": [
       "28×420 Array{Gray{Float32},2} with eltype Gray{Float32}:\n",
       " Gray{Float32}(0.0)         Gray{Float32}(0.0)         …  Gray{Float32}(0.0)\n",
       " Gray{Float32}(0.0)         Gray{Float32}(0.0)            Gray{Float32}(0.0)\n",
       " Gray{Float32}(0.0)         Gray{Float32}(0.0)            Gray{Float32}(0.0)\n",
       " Gray{Float32}(0.0)         Gray{Float32}(0.0)            Gray{Float32}(0.0)\n",
       " Gray{Float32}(0.0)         Gray{Float32}(0.0)            Gray{Float32}(0.0)\n",
       " Gray{Float32}(0.0)         Gray{Float32}(0.0)         …  Gray{Float32}(0.0)\n",
       " Gray{Float32}(0.0)         Gray{Float32}(0.00392157)     Gray{Float32}(0.0)\n",
       " Gray{Float32}(0.0)         Gray{Float32}(0.00392157)     Gray{Float32}(0.0)\n",
       " Gray{Float32}(0.0)         Gray{Float32}(0.0)            Gray{Float32}(0.0)\n",
       " Gray{Float32}(0.0)         Gray{Float32}(0.0)            Gray{Float32}(0.0)\n",
       " Gray{Float32}(0.0)         Gray{Float32}(0.0)         …  Gray{Float32}(0.0)\n",
       " Gray{Float32}(0.0)         Gray{Float32}(0.0)            Gray{Float32}(0.0)\n",
       " Gray{Float32}(0.00784314)  Gray{Float32}(0.00784314)     Gray{Float32}(0.0)\n",
       " ⋮                                                     ⋱                    \n",
       " Gray{Float32}(0.00392157)  Gray{Float32}(0.0)            Gray{Float32}(0.0)\n",
       " Gray{Float32}(0.0)         Gray{Float32}(0.0)            Gray{Float32}(0.0)\n",
       " Gray{Float32}(0.0)         Gray{Float32}(0.0)            Gray{Float32}(0.0)\n",
       " Gray{Float32}(0.0)         Gray{Float32}(0.0196078)      Gray{Float32}(0.0)\n",
       " Gray{Float32}(0.0)         Gray{Float32}(0.141176)    …  Gray{Float32}(0.0)\n",
       " Gray{Float32}(0.0)         Gray{Float32}(0.34902)        Gray{Float32}(0.0)\n",
       " Gray{Float32}(0.0117647)   Gray{Float32}(0.407843)       Gray{Float32}(0.0)\n",
       " Gray{Float32}(0.129412)    Gray{Float32}(0.407843)       Gray{Float32}(0.0)\n",
       " Gray{Float32}(0.180392)    Gray{Float32}(0.388235)       Gray{Float32}(0.0)\n",
       " Gray{Float32}(0.333333)    Gray{Float32}(0.352941)    …  Gray{Float32}(0.0)\n",
       " Gray{Float32}(0.34902)     Gray{Float32}(0.427451)       Gray{Float32}(0.0)\n",
       " Gray{Float32}(0.0)         Gray{Float32}(0.0784314)      Gray{Float32}(0.0)"
      ]
     },
     "metadata": {},
     "output_type": "display_data"
    },
    {
     "data": {
      "text/html": [
       "results (obj => dist): 45692 => 3.81, 24324 => 4.84, 49933 => 4.86, 990 => 4.95, 23313 => 4.98, 56565 => 4.99, 10047 => 5.00, 841 => 5.01, 4694 => 5.09, 25387 => 5.11, 44034 => 5.13, 36704 => 5.13, 34455 => 5.15, 25700 => 5.16, 22724 => 5.19"
      ]
     },
     "metadata": {},
     "output_type": "display_data"
    },
    {
     "name": "stdout",
     "output_type": "stream",
     "text": [
      "  0.003479 seconds (9 allocations: 117.828 KiB)\n",
      "  0.002877 seconds (9 allocations: 117.828 KiB)\n",
      "  0.009859 seconds (9 allocations: 117.828 KiB)\n",
      "  0.006909 seconds (9 allocations: 117.828 KiB)\n"
     ]
    }
   ],
   "source": [
    "function knr_search_demo()\n",
    "    @time index = fit(Knr, l2_distance, X, numrefs=128, verbose=true)\n",
    "    # we can optimize the index to achieve a desired quality (trading with search time)\n",
    "    optimize!(index, dist, recall=0.95)\n",
    "    \n",
    "    for q in rand(queries, 7)\n",
    "        display_one(q)\n",
    "        @time res = search(index, l2_distance, q, KnnResult(15))\n",
    "        display_many([X[p.objID] for p in res])\n",
    "        msg = [(@sprintf \"%d => %0.2f\" p.objID p.dist) for p in res]\n",
    "        display(\"text/html\", \"results (obj => dist): \" * join(msg, \", \"))\n",
    "    end\n",
    "    \n",
    "    index\n",
    "end\n",
    "\n",
    "knr = knr_search_demo();"
   ]
  },
  {
   "cell_type": "markdown",
   "metadata": {},
   "source": [
    "## Solving queries with a proximity search graph\n",
    "The `SearchGraph` is a faster index but with a more expensive construction."
   ]
  },
  {
   "cell_type": "code",
   "execution_count": 7,
   "metadata": {},
   "outputs": [
    {
     "name": "stderr",
     "output_type": "stream",
     "text": [
      "==== BEGIN Opt. BeamSearch, expected recall: 0.9, n: 9\n",
      "  == Begin Opt. BeamSearch iteration: 1, expected recall: 0.9, n: 9\n",
      "    ** Opt. BeamSearch. A new best conf was found> score: 0.65625, conf: {\"ssize\":1,\"bsize\":4}, perf: {\"precision\":null,\"recall\":0.65625,\"f1\":null,\"seconds\":3.520399332046509e-6,\"exhaustive_search_seconds\":2.4605542421340942e-6,\"evaluations\":7.734375,\"distances_sum\":7886.758755281844}, best_list's length: 3, n: 9\n",
      "  == End Opt. BeamSearch. Iteration finished; {\"score\":0.65625,\"state\":{\"ssize\":1,\"bsize\":4},\"perf\":{\"precision\":null,\"recall\":0.65625,\"f1\":null,\"seconds\":3.520399332046509e-6,\"exhaustive_search_seconds\":2.4605542421340942e-6,\"evaluations\":7.734375,\"distances_sum\":7886.758755281844}}, beam: 3, n: 9\n",
      "  == Begin Opt. BeamSearch iteration: 2, expected recall: 0.9, n: 9\n",
      "    ** Opt. BeamSearch. A new best conf was found> score: 0.875, conf: {\"ssize\":4,\"bsize\":7}, perf: {\"precision\":1.0,\"recall\":0.875,\"f1\":0.925346528471529,\"seconds\":4.090368747711182e-6,\"exhaustive_search_seconds\":2.4605542421340942e-6,\"evaluations\":8.734375,\"distances_sum\":10959.858077092673}, best_list's length: 4, n: 9\n",
      "  == End Opt. BeamSearch. Iteration finished; {\"score\":0.875,\"state\":{\"ssize\":4,\"bsize\":7},\"perf\":{\"precision\":1.0,\"recall\":0.875,\"f1\":0.925346528471529,\"seconds\":4.090368747711182e-6,\"exhaustive_search_seconds\":2.4605542421340942e-6,\"evaluations\":8.734375,\"distances_sum\":10959.858077092673}}, beam: 4, n: 9\n",
      "  == Begin Opt. BeamSearch iteration: 3, expected recall: 0.9, n: 9\n",
      "    ** Opt. BeamSearch. A new best conf was found> score: 0.8955078125, conf: {\"ssize\":5,\"bsize\":8}, perf: {\"precision\":1.0,\"recall\":0.8955078125,\"f1\":0.9409855769230775,\"seconds\":4.194676876068115e-6,\"exhaustive_search_seconds\":2.4605542421340942e-6,\"evaluations\":8.6328125,\"distances_sum\":11341.156550908452}, best_list's length: 5, n: 9\n",
      "    ** Opt. BeamSearch. A new best conf was found> score: 2.0267379679144386, conf: {\"ssize\":4,\"bsize\":9}, perf: {\"precision\":1.0,\"recall\":0.9208984375,\"f1\":0.9558092948717956,\"seconds\":4.174187779426575e-6,\"exhaustive_search_seconds\":2.4605542421340942e-6,\"evaluations\":8.765625,\"distances_sum\":11645.683856868636}, best_list's length: 6, n: 9\n",
      "    ** Opt. BeamSearch. A new best conf was found> score: 2.0212765957446805, conf: {\"ssize\":4,\"bsize\":10}, perf: {\"precision\":1.0,\"recall\":0.9306640625,\"f1\":0.9611263736263742,\"seconds\":4.291534423828125e-6,\"exhaustive_search_seconds\":2.4605542421340942e-6,\"evaluations\":8.8125,\"distances_sum\":11818.552737807335}, best_list's length: 7, n: 9\n",
      "  == End Opt. BeamSearch. Iteration finished; {\"score\":2.0267379679144386,\"state\":{\"ssize\":4,\"bsize\":9},\"perf\":{\"precision\":1.0,\"recall\":0.9208984375,\"f1\":0.9558092948717956,\"seconds\":4.174187779426575e-6,\"exhaustive_search_seconds\":2.4605542421340942e-6,\"evaluations\":8.765625,\"distances_sum\":11645.683856868636}}, beam: 4, n: 9\n",
      "==== END Opt. BeamSearch. Finished, best: {\"score\":2.0267379679144386,\"state\":{\"ssize\":4,\"bsize\":9},\"perf\":{\"precision\":1.0,\"recall\":0.9208984375,\"f1\":0.9558092948717956,\"seconds\":4.174187779426575e-6,\"exhaustive_search_seconds\":2.4605542421340942e-6,\"evaluations\":8.765625,\"distances_sum\":11645.683856868636}}, n: 9\n",
      "==== BEGIN Opt. BeamSearch, expected recall: 0.9, n: 99\n",
      "  == Begin Opt. BeamSearch iteration: 1, expected recall: 0.9, n: 99\n",
      "    ** Opt. BeamSearch. A new best conf was found> score: 3.2492012779552715, conf: {\"ssize\":1,\"bsize\":9}, perf: {\"precision\":0.9782986111111107,\"recall\":0.9782986111111107,\"f1\":0.9782986111111107,\"seconds\":1.879967749118805e-5,\"exhaustive_search_seconds\":2.3515895009040833e-5,\"evaluations\":44.015625,\"distances_sum\":8024.136103905816}, best_list's length: 2, n: 99\n",
      "    ** Opt. BeamSearch. A new best conf was found> score: 3.302325581395349, conf: {\"ssize\":7,\"bsize\":9}, perf: {\"precision\":0.9791666666666662,\"recall\":0.9791666666666662,\"f1\":0.9791666666666662,\"seconds\":1.899711787700653e-5,\"exhaustive_search_seconds\":2.3515895009040833e-5,\"evaluations\":43.0,\"distances_sum\":8023.860279709039}, best_list's length: 6, n: 99\n",
      "    ** Opt. BeamSearch. A new best conf was found> score: 3.27831715210356, conf: {\"ssize\":3,\"bsize\":9}, perf: {\"precision\":0.9800347222222219,\"recall\":0.9800347222222219,\"f1\":0.9800347222222219,\"seconds\":1.8279999494552612e-5,\"exhaustive_search_seconds\":2.3515895009040833e-5,\"evaluations\":43.453125,\"distances_sum\":8024.400551311962}, best_list's length: 7, n: 99\n",
      "  == End Opt. BeamSearch. Iteration finished; {\"score\":3.302325581395349,\"state\":{\"ssize\":7,\"bsize\":9},\"perf\":{\"precision\":0.9791666666666662,\"recall\":0.9791666666666662,\"f1\":0.9791666666666662,\"seconds\":1.899711787700653e-5,\"exhaustive_search_seconds\":2.3515895009040833e-5,\"evaluations\":43.0,\"distances_sum\":8023.860279709039}}, beam: 4, n: 99\n",
      "  == Begin Opt. BeamSearch iteration: 2, expected recall: 0.9, n: 99\n",
      "    ** Opt. BeamSearch. A new best conf was found> score: 3.37614850928183, conf: {\"ssize\":11,\"bsize\":8}, perf: {\"precision\":0.9444444444444435,\"recall\":0.9444444444444435,\"f1\":0.9444444444444435,\"seconds\":1.7093494534492493e-5,\"exhaustive_search_seconds\":2.3515895009040833e-5,\"evaluations\":41.6640625,\"distances_sum\":8038.934951679277}, best_list's length: 5, n: 99\n",
      "    ** Opt. BeamSearch. A new best conf was found> score: 3.4341144832885133, conf: {\"ssize\":7,\"bsize\":8}, perf: {\"precision\":0.949652777777777,\"recall\":0.949652777777777,\"f1\":0.949652777777777,\"seconds\":1.6557052731513977e-5,\"exhaustive_search_seconds\":2.3515895009040833e-5,\"evaluations\":40.671875,\"distances_sum\":8036.114614693662}, best_list's length: 6, n: 99\n",
      "  == End Opt. BeamSearch. Iteration finished; {\"score\":3.4341144832885133,\"state\":{\"ssize\":7,\"bsize\":8},\"perf\":{\"precision\":0.949652777777777,\"recall\":0.949652777777777,\"f1\":0.949652777777777,\"seconds\":1.6557052731513977e-5,\"exhaustive_search_seconds\":2.3515895009040833e-5,\"evaluations\":40.671875,\"distances_sum\":8036.114614693662}}, beam: 4, n: 99\n",
      "  == Begin Opt. BeamSearch iteration: 3, expected recall: 0.9, n: 99\n",
      "  == End Opt. BeamSearch. Iteration finished; {\"score\":3.4341144832885133,\"state\":{\"ssize\":7,\"bsize\":8},\"perf\":{\"precision\":0.949652777777777,\"recall\":0.949652777777777,\"f1\":0.949652777777777,\"seconds\":1.6557052731513977e-5,\"exhaustive_search_seconds\":2.3515895009040833e-5,\"evaluations\":40.671875,\"distances_sum\":8036.114614693662}}, beam: 4, n: 99\n",
      "==== END Opt. BeamSearch. Finished, best: {\"score\":3.4341144832885133,\"state\":{\"ssize\":7,\"bsize\":8},\"perf\":{\"precision\":0.949652777777777,\"recall\":0.949652777777777,\"f1\":0.949652777777777,\"seconds\":1.6557052731513977e-5,\"exhaustive_search_seconds\":2.3515895009040833e-5,\"evaluations\":40.671875,\"distances_sum\":8036.114614693662}}, n: 99\n",
      "==== BEGIN Opt. BeamSearch, expected recall: 0.9, n: 999\n",
      "  == Begin Opt. BeamSearch iteration: 1, expected recall: 0.9, n: 999\n",
      "    ** Opt. BeamSearch. A new best conf was found> score: 11.137307753289996, conf: {\"ssize\":4,\"bsize\":8}, perf: {\"precision\":0.949652777777777,\"recall\":0.949652777777777,\"f1\":0.949652777777777,\"seconds\":5.782581865787506e-5,\"exhaustive_search_seconds\":0.00021821819245815277,\"evaluations\":98.546875,\"distances_sum\":6234.772966559248}, best_list's length: 3, n: 999\n",
      "  == End Opt. BeamSearch. Iteration finished; {\"score\":11.137307753289996,\"state\":{\"ssize\":4,\"bsize\":8},\"perf\":{\"precision\":0.949652777777777,\"recall\":0.949652777777777,\"f1\":0.949652777777777,\"seconds\":5.782581865787506e-5,\"exhaustive_search_seconds\":0.00021821819245815277,\"evaluations\":98.546875,\"distances_sum\":6234.772966559248}}, beam: 4, n: 999\n",
      "==== END Opt. BeamSearch. Finished, best: {\"score\":11.137307753289996,\"state\":{\"ssize\":4,\"bsize\":8},\"perf\":{\"precision\":0.949652777777777,\"recall\":0.949652777777777,\"f1\":0.949652777777777,\"seconds\":5.782581865787506e-5,\"exhaustive_search_seconds\":0.00021821819245815277,\"evaluations\":98.546875,\"distances_sum\":6234.772966559248}}, n: 999\n",
      "added n=5000, neighborhood=7, 2019-11-15T13:37:00.635\n",
      "==== BEGIN Opt. BeamSearch, expected recall: 0.9, n: 9999\n",
      "  == Begin Opt. BeamSearch iteration: 1, expected recall: 0.9, n: 9999\n",
      "    ** Opt. BeamSearch. A new best conf was found> score: 42.7345028858382, conf: {\"ssize\":1,\"bsize\":15}, perf: {\"precision\":0.9774305555555552,\"recall\":0.9774305555555552,\"f1\":0.9774305555555552,\"seconds\":0.00017914175987243652,\"exhaustive_search_seconds\":0.003208328038454056,\"evaluations\":239.5859375,\"distances_sum\":5052.3308343037315}, best_list's length: 3, n: 9999\n",
      "    ** Opt. BeamSearch. A new best conf was found> score: 40.956043956043956, conf: {\"ssize\":2,\"bsize\":16}, perf: {\"precision\":0.9739583333333331,\"recall\":0.9739583333333331,\"f1\":0.9739583333333331,\"seconds\":0.0002397187054157257,\"exhaustive_search_seconds\":0.003208328038454056,\"evaluations\":250.25,\"distances_sum\":5055.08164614651}, best_list's length: 4, n: 9999\n",
      "    ** Opt. BeamSearch. A new best conf was found> score: 49.46347835965012, conf: {\"ssize\":10,\"bsize\":9}, perf: {\"precision\":0.9401041666666659,\"recall\":0.9401041666666659,\"f1\":0.9401041666666659,\"seconds\":0.00013460777699947357,\"exhaustive_search_seconds\":0.003208328038454056,\"evaluations\":206.3203125,\"distances_sum\":5059.519043711331}, best_list's length: 5, n: 9999\n",
      "  == End Opt. BeamSearch. Iteration finished; {\"score\":49.46347835965012,\"state\":{\"ssize\":10,\"bsize\":9},\"perf\":{\"precision\":0.9401041666666659,\"recall\":0.9401041666666659,\"f1\":0.9401041666666659,\"seconds\":0.00013460777699947357,\"exhaustive_search_seconds\":0.003208328038454056,\"evaluations\":206.3203125,\"distances_sum\":5059.519043711331}}, beam: 4, n: 9999\n",
      "  == Begin Opt. BeamSearch iteration: 2, expected recall: 0.9, n: 9999\n",
      "    ** Opt. BeamSearch. A new best conf was found> score: 51.607829181494665, conf: {\"ssize\":1,\"bsize\":9}, perf: {\"precision\":0.9348958333333326,\"recall\":0.9348958333333326,\"f1\":0.9348958333333326,\"seconds\":0.0001327861100435257,\"exhaustive_search_seconds\":0.003208328038454056,\"evaluations\":197.578125,\"distances_sum\":5063.7295026483425}, best_list's length: 21, n: 9999\n",
      "  == End Opt. BeamSearch. Iteration finished; {\"score\":51.607829181494665,\"state\":{\"ssize\":1,\"bsize\":9},\"perf\":{\"precision\":0.9348958333333326,\"recall\":0.9348958333333326,\"f1\":0.9348958333333326,\"seconds\":0.0001327861100435257,\"exhaustive_search_seconds\":0.003208328038454056,\"evaluations\":197.578125,\"distances_sum\":5063.7295026483425}}, beam: 4, n: 9999\n",
      "  == Begin Opt. BeamSearch iteration: 3, expected recall: 0.9, n: 9999\n",
      "    ** Opt. BeamSearch. A new best conf was found> score: 53.008289650128, conf: {\"ssize\":6,\"bsize\":8}, perf: {\"precision\":0.9036458333333321,\"recall\":0.9036458333333321,\"f1\":0.9036458333333321,\"seconds\":0.00011773407459259033,\"exhaustive_search_seconds\":0.003208328038454056,\"evaluations\":192.2578125,\"distances_sum\":5069.055839626276}, best_list's length: 6, n: 9999\n",
      "  == End Opt. BeamSearch. Iteration finished; {\"score\":53.008289650128,\"state\":{\"ssize\":6,\"bsize\":8},\"perf\":{\"precision\":0.9036458333333321,\"recall\":0.9036458333333321,\"f1\":0.9036458333333321,\"seconds\":0.00011773407459259033,\"exhaustive_search_seconds\":0.003208328038454056,\"evaluations\":192.2578125,\"distances_sum\":5069.055839626276}}, beam: 4, n: 9999\n",
      "==== END Opt. BeamSearch. Finished, best: {\"score\":53.008289650128,\"state\":{\"ssize\":6,\"bsize\":8},\"perf\":{\"precision\":0.9036458333333321,\"recall\":0.9036458333333321,\"f1\":0.9036458333333321,\"seconds\":0.00011773407459259033,\"exhaustive_search_seconds\":0.003208328038454056,\"evaluations\":192.2578125,\"distances_sum\":5069.055839626276}}, n: 9999\n",
      "added n=10000, neighborhood=6, 2019-11-15T13:37:03.347\n",
      "added n=15000, neighborhood=2, 2019-11-15T13:37:04.336\n",
      "added n=20000, neighborhood=6, 2019-11-15T13:37:05.439\n",
      "added n=25000, neighborhood=6, 2019-11-15T13:37:06.71\n",
      "added n=30000, neighborhood=2, 2019-11-15T13:37:07.999\n",
      "added n=35000, neighborhood=5, 2019-11-15T13:37:09.351\n",
      "added n=40000, neighborhood=1, 2019-11-15T13:37:10.755\n",
      "added n=45000, neighborhood=1, 2019-11-15T13:37:12.207\n",
      "added n=50000, neighborhood=3, 2019-11-15T13:37:13.726\n",
      "added n=55000, neighborhood=2, 2019-11-15T13:37:15.263\n"
     ]
    },
    {
     "name": "stdout",
     "output_type": "stream",
     "text": [
      " 18.499437 seconds (20.76 M allocations: 2.136 GiB, 3.48% gc time)\n"
     ]
    },
    {
     "name": "stderr",
     "output_type": "stream",
     "text": [
      "added n=60000, neighborhood=3, 2019-11-15T13:37:16.845\n",
      "==== BEGIN Opt. BeamSearch, expected recall: 0.95, n: 60000\n",
      "  == Begin Opt. BeamSearch iteration: 1, expected recall: 0.95, n: 60000\n",
      "    ** Opt. BeamSearch. A new best conf was found> score: 0.9383680555555552, conf: {\"ssize\":1,\"bsize\":19}, perf: {\"precision\":0.9383680555555552,\"recall\":0.9383680555555552,\"f1\":null,\"seconds\":0.00035231560468673706,\"exhaustive_search_seconds\":0.019018232822418213,\"evaluations\":419.3359375,\"distances_sum\":4535.887809125562}, best_list's length: 2, n: 60000\n",
      "    ** Opt. BeamSearch. A new best conf was found> score: 0.9010416666666661, conf: {\"ssize\":1,\"bsize\":10}, perf: {\"precision\":0.9010416666666661,\"recall\":0.9010416666666661,\"f1\":null,\"seconds\":0.0002601742744445801,\"exhaustive_search_seconds\":0.019018232822418213,\"evaluations\":341.5546875,\"distances_sum\":4549.351371452397}, best_list's length: 3, n: 60000\n",
      "    ** Opt. BeamSearch. A new best conf was found> score: 0.9045138888888883, conf: {\"ssize\":15,\"bsize\":11}, perf: {\"precision\":0.9045138888888883,\"recall\":0.9045138888888883,\"f1\":null,\"seconds\":0.0002443213015794754,\"exhaustive_search_seconds\":0.019018232822418213,\"evaluations\":336.359375,\"distances_sum\":4550.42102504492}, best_list's length: 5, n: 60000\n",
      "    ** Opt. BeamSearch. A new best conf was found> score: 0.9192708333333327, conf: {\"ssize\":3,\"bsize\":13}, perf: {\"precision\":0.9192708333333327,\"recall\":0.9192708333333327,\"f1\":0.9192708333333327,\"seconds\":0.0003392789512872696,\"exhaustive_search_seconds\":0.019018232822418213,\"evaluations\":354.359375,\"distances_sum\":4544.713335275484}, best_list's length: 6, n: 60000\n",
      "    ** Opt. BeamSearch. A new best conf was found> score: 0.9036458333333328, conf: {\"ssize\":6,\"bsize\":12}, perf: {\"precision\":0.9036458333333328,\"recall\":0.9036458333333328,\"f1\":null,\"seconds\":0.0002714749425649643,\"exhaustive_search_seconds\":0.019018232822418213,\"evaluations\":356.3203125,\"distances_sum\":4550.500686626186}, best_list's length: 7, n: 60000\n",
      "    ** Opt. BeamSearch. A new best conf was found> score: 0.925347222222222, conf: {\"ssize\":1,\"bsize\":16}, perf: {\"precision\":0.925347222222222,\"recall\":0.925347222222222,\"f1\":null,\"seconds\":0.00031297653913497925,\"exhaustive_search_seconds\":0.019018232822418213,\"evaluations\":388.5859375,\"distances_sum\":4542.350124112116}, best_list's length: 9, n: 60000\n",
      "    ** Opt. BeamSearch. A new best conf was found> score: 0.8732638888888881, conf: {\"ssize\":8,\"bsize\":9}, perf: {\"precision\":0.8732638888888881,\"recall\":0.8732638888888881,\"f1\":null,\"seconds\":0.0002360474318265915,\"exhaustive_search_seconds\":0.019018232822418213,\"evaluations\":315.9921875,\"distances_sum\":4559.133255440901}, best_list's length: 10, n: 60000\n",
      "  == End Opt. BeamSearch. Iteration finished; {\"score\":0.9383680555555552,\"state\":{\"ssize\":1,\"bsize\":19},\"perf\":{\"precision\":0.9383680555555552,\"recall\":0.9383680555555552,\"f1\":null,\"seconds\":0.00035231560468673706,\"exhaustive_search_seconds\":0.019018232822418213,\"evaluations\":419.3359375,\"distances_sum\":4535.887809125562}}, beam: 4, n: 60000\n",
      "  == Begin Opt. BeamSearch iteration: 2, expected recall: 0.95, n: 60000\n",
      "    ** Opt. BeamSearch. A new best conf was found> score: 146.88557100524275, conf: {\"ssize\":1,\"bsize\":18}, perf: {\"precision\":0.952256944444444,\"recall\":0.952256944444444,\"f1\":0.952256944444444,\"seconds\":0.0003203507512807846,\"exhaustive_search_seconds\":0.019018232822418213,\"evaluations\":411.28125,\"distances_sum\":4532.589951975846}, best_list's length: 6, n: 60000\n",
      "    ** Opt. BeamSearch. A new best conf was found> score: 128.9147235176549, conf: {\"ssize\":14,\"bsize\":26}, perf: {\"precision\":0.9513888888888886,\"recall\":0.9513888888888886,\"f1\":null,\"seconds\":0.000403817743062973,\"exhaustive_search_seconds\":0.019018232822418213,\"evaluations\":469.0625,\"distances_sum\":4531.918222669422}, best_list's length: 7, n: 60000\n",
      "    ** Opt. BeamSearch. A new best conf was found> score: 114.68514543705129, conf: {\"ssize\":1,\"bsize\":30}, perf: {\"precision\":0.9635416666666663,\"recall\":0.9635416666666663,\"f1\":0.9635416666666663,\"seconds\":0.00041928142309188843,\"exhaustive_search_seconds\":0.019018232822418213,\"evaluations\":527.7734375,\"distances_sum\":4527.4778969609115}, best_list's length: 9, n: 60000\n",
      "    ** Opt. BeamSearch. A new best conf was found> score: 121.71106360907218, conf: {\"ssize\":8,\"bsize\":28}, perf: {\"precision\":0.9618055555555552,\"recall\":0.9618055555555552,\"f1\":0.9618055555555552,\"seconds\":0.0003960132598876953,\"exhaustive_search_seconds\":0.019018232822418213,\"evaluations\":497.0546875,\"distances_sum\":4527.855670595828}, best_list's length: 12, n: 60000\n",
      "    ** Opt. BeamSearch. A new best conf was found> score: 128.4604175656388, conf: {\"ssize\":1,\"bsize\":25}, perf: {\"precision\":0.950520833333333,\"recall\":0.950520833333333,\"f1\":0.950520833333333,\"seconds\":0.00037308596074581146,\"exhaustive_search_seconds\":0.019018232822418213,\"evaluations\":470.734375,\"distances_sum\":4533.21573486781}, best_list's length: 14, n: 60000\n",
      "    ** Opt. BeamSearch. A new best conf was found> score: 0.9470486111111108, conf: {\"ssize\":14,\"bsize\":24}, perf: {\"precision\":0.9470486111111108,\"recall\":0.9470486111111108,\"f1\":0.9470486111111108,\"seconds\":0.00042045488953590393,\"exhaustive_search_seconds\":0.019018232822418213,\"evaluations\":467.0546875,\"distances_sum\":4536.550896329049}, best_list's length: 15, n: 60000\n",
      "    ** Opt. BeamSearch. A new best conf was found> score: 0.9479166666666663, conf: {\"ssize\":1,\"bsize\":22}, perf: {\"precision\":0.9479166666666663,\"recall\":0.9479166666666663,\"f1\":0.9479166666666663,\"seconds\":0.0003573223948478699,\"exhaustive_search_seconds\":0.019018232822418213,\"evaluations\":444.1875,\"distances_sum\":4530.721565912286}, best_list's length: 16, n: 60000\n",
      "    ** Opt. BeamSearch. A new best conf was found> score: 123.70134683900241, conf: {\"ssize\":1,\"bsize\":27}, perf: {\"precision\":0.9531249999999998,\"recall\":0.9531249999999998,\"f1\":0.9531249999999998,\"seconds\":0.00047264061868190765,\"exhaustive_search_seconds\":0.019018232822418213,\"evaluations\":488.9921875,\"distances_sum\":4531.88199669901}, best_list's length: 17, n: 60000\n",
      "    ** Opt. BeamSearch. A new best conf was found> score: 121.83071113908119, conf: {\"ssize\":1,\"bsize\":28}, perf: {\"precision\":0.958333333333333,\"recall\":0.958333333333333,\"f1\":0.958333333333333,\"seconds\":0.0003842990845441818,\"exhaustive_search_seconds\":0.019018232822418213,\"evaluations\":496.5625,\"distances_sum\":4531.857926002914}, best_list's length: 19, n: 60000\n",
      "    ** Opt. BeamSearch. A new best conf was found> score: 0.9470486111111107, conf: {\"ssize\":17,\"bsize\":24}, perf: {\"precision\":0.9470486111111107,\"recall\":0.9470486111111107,\"f1\":null,\"seconds\":0.0004151463508605957,\"exhaustive_search_seconds\":0.019018232822418213,\"evaluations\":468.265625,\"distances_sum\":4534.1381952745305}, best_list's length: 20, n: 60000\n",
      "    ** Opt. BeamSearch. A new best conf was found> score: 132.30225162845565, conf: {\"ssize\":1,\"bsize\":23}, perf: {\"precision\":0.9505208333333329,\"recall\":0.9505208333333329,\"f1\":0.9505208333333329,\"seconds\":0.00037464872002601624,\"exhaustive_search_seconds\":0.019018232822418213,\"evaluations\":456.9609375,\"distances_sum\":4532.57250796573}, best_list's length: 21, n: 60000\n",
      "    ** Opt. BeamSearch. A new best conf was found> score: 0.9435763888888886, conf: {\"ssize\":1,\"bsize\":20}, perf: {\"precision\":0.9435763888888886,\"recall\":0.9435763888888886,\"f1\":0.9435763888888886,\"seconds\":0.0003513917326927185,\"exhaustive_search_seconds\":0.019018232822418213,\"evaluations\":419.4921875,\"distances_sum\":4534.42274350197}, best_list's length: 24, n: 60000\n",
      "    ** Opt. BeamSearch. A new best conf was found> score: 0.9496527777777775, conf: {\"ssize\":10,\"bsize\":21}, perf: {\"precision\":0.9496527777777775,\"recall\":0.9496527777777775,\"f1\":0.9496527777777775,\"seconds\":0.00035321153700351715,\"exhaustive_search_seconds\":0.019018232822418213,\"evaluations\":432.734375,\"distances_sum\":4534.58098034429}, best_list's length: 25, n: 60000\n",
      "    ** Opt. BeamSearch. A new best conf was found> score: 0.948784722222222, conf: {\"ssize\":18,\"bsize\":25}, perf: {\"precision\":0.948784722222222,\"recall\":0.948784722222222,\"f1\":null,\"seconds\":0.000383840873837471,\"exhaustive_search_seconds\":0.019018232822418213,\"evaluations\":468.78125,\"distances_sum\":4533.92849302905}, best_list's length: 26, n: 60000\n",
      "    ** Opt. BeamSearch. A new best conf was found> score: 123.94294678875585, conf: {\"ssize\":5,\"bsize\":26}, perf: {\"precision\":0.958333333333333,\"recall\":0.958333333333333,\"f1\":0.958333333333333,\"seconds\":0.0003929510712623596,\"exhaustive_search_seconds\":0.019018232822418213,\"evaluations\":488.03125,\"distances_sum\":4528.177296201752}, best_list's length: 28, n: 60000\n",
      "    ** Opt. BeamSearch. A new best conf was found> score: 0.9418402777777772, conf: {\"ssize\":11,\"bsize\":21}, perf: {\"precision\":0.9418402777777772,\"recall\":0.9418402777777772,\"f1\":null,\"seconds\":0.00039173662662506104,\"exhaustive_search_seconds\":0.019018232822418213,\"evaluations\":442.1796875,\"distances_sum\":4534.282472856603}, best_list's length: 29, n: 60000\n",
      "    ** Opt. BeamSearch. A new best conf was found> score: 0.944444444444444, conf: {\"ssize\":18,\"bsize\":19}, perf: {\"precision\":0.944444444444444,\"recall\":0.944444444444444,\"f1\":0.944444444444444,\"seconds\":0.0003079064190387726,\"exhaustive_search_seconds\":0.019018232822418213,\"evaluations\":410.1015625,\"distances_sum\":4532.157165628174}, best_list's length: 33, n: 60000\n",
      "    ** Opt. BeamSearch. A new best conf was found> score: 0.9418402777777775, conf: {\"ssize\":14,\"bsize\":21}, perf: {\"precision\":0.9418402777777775,\"recall\":0.9418402777777775,\"f1\":0.9418402777777775,\"seconds\":0.0003698039799928665,\"exhaustive_search_seconds\":0.019018232822418213,\"evaluations\":430.0,\"distances_sum\":4538.857755789528}, best_list's length: 34, n: 60000\n",
      "  == End Opt. BeamSearch. Iteration finished; {\"score\":146.88557100524275,\"state\":{\"ssize\":1,\"bsize\":18},\"perf\":{\"precision\":0.952256944444444,\"recall\":0.952256944444444,\"f1\":0.952256944444444,\"seconds\":0.0003203507512807846,\"exhaustive_search_seconds\":0.019018232822418213,\"evaluations\":411.28125,\"distances_sum\":4532.589951975846}}, beam: 4, n: 60000\n",
      "  == Begin Opt. BeamSearch iteration: 3, expected recall: 0.95, n: 60000\n"
     ]
    },
    {
     "data": {
      "image/png": "[encoded data removed]",
      "text/plain": [
       "28×28 Adjoint{Gray{Float32},Array{Gray{Float32},2}}:\n",
       " Gray{Float32}(0.0)  Gray{Float32}(0.0)  …  Gray{Float32}(0.0)\n",
       " Gray{Float32}(0.0)  Gray{Float32}(0.0)     Gray{Float32}(0.0)\n",
       " Gray{Float32}(0.0)  Gray{Float32}(0.0)     Gray{Float32}(0.0)\n",
       " Gray{Float32}(0.0)  Gray{Float32}(0.0)     Gray{Float32}(0.0)\n",
       " Gray{Float32}(0.0)  Gray{Float32}(0.0)     Gray{Float32}(0.0)\n",
       " Gray{Float32}(0.0)  Gray{Float32}(0.0)  …  Gray{Float32}(0.0)\n",
       " Gray{Float32}(0.0)  Gray{Float32}(0.0)     Gray{Float32}(0.0)\n",
       " Gray{Float32}(0.0)  Gray{Float32}(0.0)     Gray{Float32}(0.0)\n",
       " Gray{Float32}(0.0)  Gray{Float32}(0.0)     Gray{Float32}(0.0)\n",
       " Gray{Float32}(0.0)  Gray{Float32}(0.0)     Gray{Float32}(0.0)\n",
       " Gray{Float32}(0.0)  Gray{Float32}(0.0)  …  Gray{Float32}(0.0)\n",
       " Gray{Float32}(0.0)  Gray{Float32}(0.0)     Gray{Float32}(0.0)\n",
       " Gray{Float32}(0.0)  Gray{Float32}(0.0)     Gray{Float32}(0.0)\n",
       " ⋮                                       ⋱                    \n",
       " Gray{Float32}(0.0)  Gray{Float32}(0.0)     Gray{Float32}(0.0)\n",
       " Gray{Float32}(0.0)  Gray{Float32}(0.0)     Gray{Float32}(0.0)\n",
       " Gray{Float32}(0.0)  Gray{Float32}(0.0)     Gray{Float32}(0.0)\n",
       " Gray{Float32}(0.0)  Gray{Float32}(0.0)     Gray{Float32}(0.0)\n",
       " Gray{Float32}(0.0)  Gray{Float32}(0.0)  …  Gray{Float32}(0.0)\n",
       " Gray{Float32}(0.0)  Gray{Float32}(0.0)     Gray{Float32}(0.0)\n",
       " Gray{Float32}(0.0)  Gray{Float32}(0.0)     Gray{Float32}(0.0)\n",
       " Gray{Float32}(0.0)  Gray{Float32}(0.0)     Gray{Float32}(0.0)\n",
       " Gray{Float32}(0.0)  Gray{Float32}(0.0)     Gray{Float32}(0.0)\n",
       " Gray{Float32}(0.0)  Gray{Float32}(0.0)  …  Gray{Float32}(0.0)\n",
       " Gray{Float32}(0.0)  Gray{Float32}(0.0)     Gray{Float32}(0.0)\n",
       " Gray{Float32}(0.0)  Gray{Float32}(0.0)     Gray{Float32}(0.0)"
      ]
     },
     "metadata": {},
     "output_type": "display_data"
    },
    {
     "data": {
      "image/png": "[encoded data removed]",
      "text/plain": [
       "28×420 Array{Gray{Float32},2} with eltype Gray{Float32}:\n",
       " Gray{Float32}(0.0)  Gray{Float32}(0.0)  …  Gray{Float32}(0.0)\n",
       " Gray{Float32}(0.0)  Gray{Float32}(0.0)     Gray{Float32}(0.0)\n",
       " Gray{Float32}(0.0)  Gray{Float32}(0.0)     Gray{Float32}(0.0)\n",
       " Gray{Float32}(0.0)  Gray{Float32}(0.0)     Gray{Float32}(0.0)\n",
       " Gray{Float32}(0.0)  Gray{Float32}(0.0)     Gray{Float32}(0.0)\n",
       " Gray{Float32}(0.0)  Gray{Float32}(0.0)  …  Gray{Float32}(0.0)\n",
       " Gray{Float32}(0.0)  Gray{Float32}(0.0)     Gray{Float32}(0.0)\n",
       " Gray{Float32}(0.0)  Gray{Float32}(0.0)     Gray{Float32}(0.0)\n",
       " Gray{Float32}(0.0)  Gray{Float32}(0.0)     Gray{Float32}(0.0)\n",
       " Gray{Float32}(0.0)  Gray{Float32}(0.0)     Gray{Float32}(0.0)\n",
       " Gray{Float32}(0.0)  Gray{Float32}(0.0)  …  Gray{Float32}(0.0)\n",
       " Gray{Float32}(0.0)  Gray{Float32}(0.0)     Gray{Float32}(0.0)\n",
       " Gray{Float32}(0.0)  Gray{Float32}(0.0)     Gray{Float32}(0.0)\n",
       " ⋮                                       ⋱                    \n",
       " Gray{Float32}(0.0)  Gray{Float32}(0.0)     Gray{Float32}(0.0)\n",
       " Gray{Float32}(0.0)  Gray{Float32}(0.0)     Gray{Float32}(0.0)\n",
       " Gray{Float32}(0.0)  Gray{Float32}(0.0)     Gray{Float32}(0.0)\n",
       " Gray{Float32}(0.0)  Gray{Float32}(0.0)     Gray{Float32}(0.0)\n",
       " Gray{Float32}(0.0)  Gray{Float32}(0.0)  …  Gray{Float32}(0.0)\n",
       " Gray{Float32}(0.0)  Gray{Float32}(0.0)     Gray{Float32}(0.0)\n",
       " Gray{Float32}(0.0)  Gray{Float32}(0.0)     Gray{Float32}(0.0)\n",
       " Gray{Float32}(0.0)  Gray{Float32}(0.0)     Gray{Float32}(0.0)\n",
       " Gray{Float32}(0.0)  Gray{Float32}(0.0)     Gray{Float32}(0.0)\n",
       " Gray{Float32}(0.0)  Gray{Float32}(0.0)  …  Gray{Float32}(0.0)\n",
       " Gray{Float32}(0.0)  Gray{Float32}(0.0)     Gray{Float32}(0.0)\n",
       " Gray{Float32}(0.0)  Gray{Float32}(0.0)     Gray{Float32}(0.0)"
      ]
     },
     "metadata": {},
     "output_type": "display_data"
    },
    {
     "data": {
      "text/html": [
       "results (obj => dist): 41620 => 5.80, 9411 => 5.86, 12938 => 5.92, 32618 => 5.94, 6893 => 5.95, 24742 => 5.97, 47572 => 5.97, 32474 => 5.97, 28739 => 6.00, 51088 => 6.00, 54864 => 6.00, 20193 => 6.01, 52195 => 6.04, 18408 => 6.07, 39595 => 6.08"
      ]
     },
     "metadata": {},
     "output_type": "display_data"
    },
    {
     "data": {
      "image/png": "[encoded data removed]",
      "text/plain": [
       "28×28 Adjoint{Gray{Float32},Array{Gray{Float32},2}}:\n",
       " Gray{Float32}(0.0)         …  Gray{Float32}(0.0)      \n",
       " Gray{Float32}(0.0)            Gray{Float32}(0.0)      \n",
       " Gray{Float32}(0.0)            Gray{Float32}(0.0)      \n",
       " Gray{Float32}(0.0)            Gray{Float32}(0.0)      \n",
       " Gray{Float32}(0.0)            Gray{Float32}(0.0)      \n",
       " Gray{Float32}(0.0)         …  Gray{Float32}(0.0)      \n",
       " Gray{Float32}(0.0)            Gray{Float32}(0.0)      \n",
       " Gray{Float32}(0.0)            Gray{Float32}(0.0)      \n",
       " Gray{Float32}(0.0)            Gray{Float32}(0.0)      \n",
       " Gray{Float32}(0.0)            Gray{Float32}(0.0)      \n",
       " Gray{Float32}(0.0)         …  Gray{Float32}(0.0980392)\n",
       " Gray{Float32}(0.0)            Gray{Float32}(0.368627) \n",
       " Gray{Float32}(0.0)            Gray{Float32}(0.54902)  \n",
       " ⋮                          ⋱                          \n",
       " Gray{Float32}(0.00392157)     Gray{Float32}(0.0862745)\n",
       " Gray{Float32}(0.164706)       Gray{Float32}(0.0705882)\n",
       " Gray{Float32}(0.0470588)      Gray{Float32}(0.054902) \n",
       " Gray{Float32}(0.0)            Gray{Float32}(0.0)      \n",
       " Gray{Float32}(0.0)         …  Gray{Float32}(0.0)      \n",
       " Gray{Float32}(0.0)            Gray{Float32}(0.0)      \n",
       " Gray{Float32}(0.0)            Gray{Float32}(0.0)      \n",
       " Gray{Float32}(0.0)            Gray{Float32}(0.0)      \n",
       " Gray{Float32}(0.0)            Gray{Float32}(0.0)      \n",
       " Gray{Float32}(0.0)         …  Gray{Float32}(0.0)      \n",
       " Gray{Float32}(0.0)            Gray{Float32}(0.0)      \n",
       " Gray{Float32}(0.0)            Gray{Float32}(0.0)      "
      ]
     },
     "metadata": {},
     "output_type": "display_data"
    },
    {
     "data": {
      "image/png": "[encoded data removed]",
      "text/plain": [
       "28×420 Array{Gray{Float32},2} with eltype Gray{Float32}:\n",
       " Gray{Float32}(0.0)        …  Gray{Float32}(0.0)     \n",
       " Gray{Float32}(0.0)           Gray{Float32}(0.0)     \n",
       " Gray{Float32}(0.0)           Gray{Float32}(0.0)     \n",
       " Gray{Float32}(0.0)           Gray{Float32}(0.0)     \n",
       " Gray{Float32}(0.0)           Gray{Float32}(0.0)     \n",
       " Gray{Float32}(0.0)        …  Gray{Float32}(0.0)     \n",
       " Gray{Float32}(0.0)           Gray{Float32}(0.0)     \n",
       " Gray{Float32}(0.0)           Gray{Float32}(0.0)     \n",
       " Gray{Float32}(0.0)           Gray{Float32}(0.0)     \n",
       " Gray{Float32}(0.0)           Gray{Float32}(0.0)     \n",
       " Gray{Float32}(0.0)        …  Gray{Float32}(0.0)     \n",
       " Gray{Float32}(0.0)           Gray{Float32}(0.0)     \n",
       " Gray{Float32}(0.0)           Gray{Float32}(0.0)     \n",
       " ⋮                         ⋱                         \n",
       " Gray{Float32}(0.270588)      Gray{Float32}(0.235294)\n",
       " Gray{Float32}(0.0588235)     Gray{Float32}(0.317647)\n",
       " Gray{Float32}(0.0)           Gray{Float32}(0.164706)\n",
       " Gray{Float32}(0.0)           Gray{Float32}(0.0)     \n",
       " Gray{Float32}(0.0)        …  Gray{Float32}(0.0)     \n",
       " Gray{Float32}(0.0)           Gray{Float32}(0.0)     \n",
       " Gray{Float32}(0.0)           Gray{Float32}(0.0)     \n",
       " Gray{Float32}(0.0)           Gray{Float32}(0.0)     \n",
       " Gray{Float32}(0.0)           Gray{Float32}(0.0)     \n",
       " Gray{Float32}(0.0)        …  Gray{Float32}(0.0)     \n",
       " Gray{Float32}(0.0)           Gray{Float32}(0.0)     \n",
       " Gray{Float32}(0.0)           Gray{Float32}(0.0)     "
      ]
     },
     "metadata": {},
     "output_type": "display_data"
    },
    {
     "data": {
      "text/html": [
       "results (obj => dist): 3574 => 4.27, 13280 => 4.43, 5364 => 4.43, 17091 => 4.72, 11513 => 4.73, 33155 => 4.75, 9568 => 4.80, 39925 => 4.80, 28288 => 4.81, 8511 => 4.81, 49048 => 4.83, 46727 => 4.83, 9695 => 4.83, 927 => 4.83, 21001 => 4.85"
      ]
     },
     "metadata": {},
     "output_type": "display_data"
    },
    {
     "data": {
      "image/png": "[encoded data removed]",
      "text/plain": [
       "28×28 Adjoint{Gray{Float32},Array{Gray{Float32},2}}:\n",
       " Gray{Float32}(0.0)         …  Gray{Float32}(0.0)      \n",
       " Gray{Float32}(0.0)            Gray{Float32}(0.0)      \n",
       " Gray{Float32}(0.0)            Gray{Float32}(0.0)      \n",
       " Gray{Float32}(0.0)            Gray{Float32}(0.0)      \n",
       " Gray{Float32}(0.0)            Gray{Float32}(0.0)      \n",
       " Gray{Float32}(0.0)         …  Gray{Float32}(0.0)      \n",
       " Gray{Float32}(0.0)            Gray{Float32}(0.0)      \n",
       " Gray{Float32}(0.0)            Gray{Float32}(0.0)      \n",
       " Gray{Float32}(0.0)            Gray{Float32}(0.0)      \n",
       " Gray{Float32}(0.0)            Gray{Float32}(0.0)      \n",
       " Gray{Float32}(0.0)         …  Gray{Float32}(0.0352941)\n",
       " Gray{Float32}(0.0196078)      Gray{Float32}(0.184314) \n",
       " Gray{Float32}(0.0313726)      Gray{Float32}(0.227451) \n",
       " ⋮                          ⋱                          \n",
       " Gray{Float32}(0.00392157)     Gray{Float32}(0.160784) \n",
       " Gray{Float32}(0.0)            Gray{Float32}(0.0862745)\n",
       " Gray{Float32}(0.00784314)     Gray{Float32}(0.0)      \n",
       " Gray{Float32}(0.0)            Gray{Float32}(0.0)      \n",
       " Gray{Float32}(0.00392157)  …  Gray{Float32}(0.0)      \n",
       " Gray{Float32}(0.0)            Gray{Float32}(0.0)      \n",
       " Gray{Float32}(0.0)            Gray{Float32}(0.0)      \n",
       " Gray{Float32}(0.0)            Gray{Float32}(0.0)      \n",
       " Gray{Float32}(0.0)            Gray{Float32}(0.0)      \n",
       " Gray{Float32}(0.0)         …  Gray{Float32}(0.0)      \n",
       " Gray{Float32}(0.0)            Gray{Float32}(0.0)      \n",
       " Gray{Float32}(0.0)            Gray{Float32}(0.0)      "
      ]
     },
     "metadata": {},
     "output_type": "display_data"
    },
    {
     "data": {
      "image/png": "[encoded data removed]",
      "text/plain": [
       "28×420 Array{Gray{Float32},2} with eltype Gray{Float32}:\n",
       " Gray{Float32}(0.0)         …  Gray{Float32}(0.0)      \n",
       " Gray{Float32}(0.0)            Gray{Float32}(0.0)      \n",
       " Gray{Float32}(0.0)            Gray{Float32}(0.0)      \n",
       " Gray{Float32}(0.0)            Gray{Float32}(0.0)      \n",
       " Gray{Float32}(0.0)            Gray{Float32}(0.0117647)\n",
       " Gray{Float32}(0.0)         …  Gray{Float32}(0.0)      \n",
       " Gray{Float32}(0.00392157)     Gray{Float32}(0.0)      \n",
       " Gray{Float32}(0.00392157)     Gray{Float32}(0.0862745)\n",
       " Gray{Float32}(0.0156863)      Gray{Float32}(0.0862745)\n",
       " Gray{Float32}(0.0117647)      Gray{Float32}(0.0666667)\n",
       " Gray{Float32}(0.0117647)   …  Gray{Float32}(0.0823529)\n",
       " Gray{Float32}(0.0156863)      Gray{Float32}(0.0862745)\n",
       " Gray{Float32}(0.0117647)      Gray{Float32}(0.0941177)\n",
       " ⋮                          ⋱                          \n",
       " Gray{Float32}(0.0)            Gray{Float32}(0.164706) \n",
       " Gray{Float32}(0.0)            Gray{Float32}(0.207843) \n",
       " Gray{Float32}(0.0)            Gray{Float32}(0.145098) \n",
       " Gray{Float32}(0.0)            Gray{Float32}(0.0)      \n",
       " Gray{Float32}(0.0)         …  Gray{Float32}(0.0)      \n",
       " Gray{Float32}(0.0)            Gray{Float32}(0.0)      \n",
       " Gray{Float32}(0.305882)       Gray{Float32}(0.0)      \n",
       " Gray{Float32}(0.168627)       Gray{Float32}(0.0)      \n",
       " Gray{Float32}(0.0)            Gray{Float32}(0.0)      \n",
       " Gray{Float32}(0.0)         …  Gray{Float32}(0.0)      \n",
       " Gray{Float32}(0.0)            Gray{Float32}(0.0)      \n",
       " Gray{Float32}(0.0)            Gray{Float32}(0.0)      "
      ]
     },
     "metadata": {},
     "output_type": "display_data"
    },
    {
     "data": {
      "text/html": [
       "results (obj => dist): 33864 => 5.90, 9467 => 5.97, 57444 => 5.98, 27586 => 6.00, 10885 => 6.06, 23864 => 6.15, 29559 => 6.18, 40663 => 6.23, 16059 => 6.26, 32360 => 6.27, 40369 => 6.27, 37298 => 6.28, 56609 => 6.30, 58839 => 6.31, 33582 => 6.32"
      ]
     },
     "metadata": {},
     "output_type": "display_data"
    },
    {
     "data": {
      "image/png": "[encoded data removed]",
      "text/plain": [
       "28×28 Adjoint{Gray{Float32},Array{Gray{Float32},2}}:\n",
       " Gray{Float32}(0.0)  Gray{Float32}(0.0)  …  Gray{Float32}(0.0)\n",
       " Gray{Float32}(0.0)  Gray{Float32}(0.0)     Gray{Float32}(0.0)\n",
       " Gray{Float32}(0.0)  Gray{Float32}(0.0)     Gray{Float32}(0.0)\n",
       " Gray{Float32}(0.0)  Gray{Float32}(0.0)     Gray{Float32}(0.0)\n",
       " Gray{Float32}(0.0)  Gray{Float32}(0.0)     Gray{Float32}(0.0)\n",
       " Gray{Float32}(0.0)  Gray{Float32}(0.0)  …  Gray{Float32}(0.0)\n",
       " Gray{Float32}(0.0)  Gray{Float32}(0.0)     Gray{Float32}(0.0)\n",
       " Gray{Float32}(0.0)  Gray{Float32}(0.0)     Gray{Float32}(0.0)\n",
       " Gray{Float32}(0.0)  Gray{Float32}(0.0)     Gray{Float32}(0.0)\n",
       " Gray{Float32}(0.0)  Gray{Float32}(0.0)     Gray{Float32}(0.0)\n",
       " Gray{Float32}(0.0)  Gray{Float32}(0.0)  …  Gray{Float32}(0.0)\n",
       " Gray{Float32}(0.0)  Gray{Float32}(0.0)     Gray{Float32}(0.0)\n",
       " Gray{Float32}(0.0)  Gray{Float32}(0.0)     Gray{Float32}(0.0)\n",
       " ⋮                                       ⋱                    \n",
       " Gray{Float32}(0.0)  Gray{Float32}(0.0)     Gray{Float32}(0.0)\n",
       " Gray{Float32}(0.0)  Gray{Float32}(0.0)     Gray{Float32}(0.0)\n",
       " Gray{Float32}(0.0)  Gray{Float32}(0.0)     Gray{Float32}(0.0)\n",
       " Gray{Float32}(0.0)  Gray{Float32}(0.0)     Gray{Float32}(0.0)\n",
       " Gray{Float32}(0.0)  Gray{Float32}(0.0)  …  Gray{Float32}(0.0)\n",
       " Gray{Float32}(0.0)  Gray{Float32}(0.0)     Gray{Float32}(0.0)\n",
       " Gray{Float32}(0.0)  Gray{Float32}(0.0)     Gray{Float32}(0.0)\n",
       " Gray{Float32}(0.0)  Gray{Float32}(0.0)     Gray{Float32}(0.0)\n",
       " Gray{Float32}(0.0)  Gray{Float32}(0.0)     Gray{Float32}(0.0)\n",
       " Gray{Float32}(0.0)  Gray{Float32}(0.0)  …  Gray{Float32}(0.0)\n",
       " Gray{Float32}(0.0)  Gray{Float32}(0.0)     Gray{Float32}(0.0)\n",
       " Gray{Float32}(0.0)  Gray{Float32}(0.0)     Gray{Float32}(0.0)"
      ]
     },
     "metadata": {},
     "output_type": "display_data"
    },
    {
     "data": {
      "image/png": "[encoded data removed]",
      "text/plain": [
       "28×420 Array{Gray{Float32},2} with eltype Gray{Float32}:\n",
       " Gray{Float32}(0.0)  Gray{Float32}(0.0)  …  Gray{Float32}(0.0)\n",
       " Gray{Float32}(0.0)  Gray{Float32}(0.0)     Gray{Float32}(0.0)\n",
       " Gray{Float32}(0.0)  Gray{Float32}(0.0)     Gray{Float32}(0.0)\n",
       " Gray{Float32}(0.0)  Gray{Float32}(0.0)     Gray{Float32}(0.0)\n",
       " Gray{Float32}(0.0)  Gray{Float32}(0.0)     Gray{Float32}(0.0)\n",
       " Gray{Float32}(0.0)  Gray{Float32}(0.0)  …  Gray{Float32}(0.0)\n",
       " Gray{Float32}(0.0)  Gray{Float32}(0.0)     Gray{Float32}(0.0)\n",
       " Gray{Float32}(0.0)  Gray{Float32}(0.0)     Gray{Float32}(0.0)\n",
       " Gray{Float32}(0.0)  Gray{Float32}(0.0)     Gray{Float32}(0.0)\n",
       " Gray{Float32}(0.0)  Gray{Float32}(0.0)     Gray{Float32}(0.0)\n",
       " Gray{Float32}(0.0)  Gray{Float32}(0.0)  …  Gray{Float32}(0.0)\n",
       " Gray{Float32}(0.0)  Gray{Float32}(0.0)     Gray{Float32}(0.0)\n",
       " Gray{Float32}(0.0)  Gray{Float32}(0.0)     Gray{Float32}(0.0)\n",
       " ⋮                                       ⋱                    \n",
       " Gray{Float32}(0.0)  Gray{Float32}(0.0)     Gray{Float32}(0.0)\n",
       " Gray{Float32}(0.0)  Gray{Float32}(0.0)     Gray{Float32}(0.0)\n",
       " Gray{Float32}(0.0)  Gray{Float32}(0.0)     Gray{Float32}(0.0)\n",
       " Gray{Float32}(0.0)  Gray{Float32}(0.0)     Gray{Float32}(0.0)\n",
       " Gray{Float32}(0.0)  Gray{Float32}(0.0)  …  Gray{Float32}(0.0)\n",
       " Gray{Float32}(0.0)  Gray{Float32}(0.0)     Gray{Float32}(0.0)\n",
       " Gray{Float32}(0.0)  Gray{Float32}(0.0)     Gray{Float32}(0.0)\n",
       " Gray{Float32}(0.0)  Gray{Float32}(0.0)     Gray{Float32}(0.0)\n",
       " Gray{Float32}(0.0)  Gray{Float32}(0.0)     Gray{Float32}(0.0)\n",
       " Gray{Float32}(0.0)  Gray{Float32}(0.0)  …  Gray{Float32}(0.0)\n",
       " Gray{Float32}(0.0)  Gray{Float32}(0.0)     Gray{Float32}(0.0)\n",
       " Gray{Float32}(0.0)  Gray{Float32}(0.0)     Gray{Float32}(0.0)"
      ]
     },
     "metadata": {},
     "output_type": "display_data"
    },
    {
     "data": {
      "text/html": [
       "results (obj => dist): 57723 => 2.08, 46955 => 2.94, 21093 => 3.04, 49385 => 3.07, 26320 => 3.13, 29180 => 3.15, 17818 => 3.26, 18197 => 3.34, 5785 => 3.35, 28576 => 3.35, 44737 => 3.37, 36795 => 3.42, 10430 => 3.43, 49200 => 3.43, 4748 => 3.43"
      ]
     },
     "metadata": {},
     "output_type": "display_data"
    },
    {
     "data": {
      "image/png": "[encoded data removed]",
      "text/plain": [
       "28×28 Adjoint{Gray{Float32},Array{Gray{Float32},2}}:\n",
       " Gray{Float32}(0.0)  Gray{Float32}(0.0)         …  Gray{Float32}(0.0)\n",
       " Gray{Float32}(0.0)  Gray{Float32}(0.0)            Gray{Float32}(0.0)\n",
       " Gray{Float32}(0.0)  Gray{Float32}(0.00392157)     Gray{Float32}(0.0)\n",
       " Gray{Float32}(0.0)  Gray{Float32}(0.0156863)      Gray{Float32}(0.0)\n",
       " Gray{Float32}(0.0)  Gray{Float32}(0.0196078)      Gray{Float32}(0.0)\n",
       " Gray{Float32}(0.0)  Gray{Float32}(0.0)         …  Gray{Float32}(0.0)\n",
       " Gray{Float32}(0.0)  Gray{Float32}(0.0)            Gray{Float32}(0.0)\n",
       " Gray{Float32}(0.0)  Gray{Float32}(0.0)            Gray{Float32}(0.0)\n",
       " Gray{Float32}(0.0)  Gray{Float32}(0.0)            Gray{Float32}(0.0)\n",
       " Gray{Float32}(0.0)  Gray{Float32}(0.0)            Gray{Float32}(0.0)\n",
       " Gray{Float32}(0.0)  Gray{Float32}(0.0)         …  Gray{Float32}(0.0)\n",
       " Gray{Float32}(0.0)  Gray{Float32}(0.0)            Gray{Float32}(0.0)\n",
       " Gray{Float32}(0.0)  Gray{Float32}(0.0)            Gray{Float32}(0.0)\n",
       " ⋮                                              ⋱                    \n",
       " Gray{Float32}(0.0)  Gray{Float32}(0.0313726)      Gray{Float32}(0.0)\n",
       " Gray{Float32}(0.0)  Gray{Float32}(0.0705882)      Gray{Float32}(0.0)\n",
       " Gray{Float32}(0.0)  Gray{Float32}(0.0980392)      Gray{Float32}(0.0)\n",
       " Gray{Float32}(0.0)  Gray{Float32}(0.121569)       Gray{Float32}(0.0)\n",
       " Gray{Float32}(0.0)  Gray{Float32}(0.141176)    …  Gray{Float32}(0.0)\n",
       " Gray{Float32}(0.0)  Gray{Float32}(0.156863)       Gray{Float32}(0.0)\n",
       " Gray{Float32}(0.0)  Gray{Float32}(0.290196)       Gray{Float32}(0.0)\n",
       " Gray{Float32}(0.0)  Gray{Float32}(0.101961)       Gray{Float32}(0.0)\n",
       " Gray{Float32}(0.0)  Gray{Float32}(0.0)            Gray{Float32}(0.0)\n",
       " Gray{Float32}(0.0)  Gray{Float32}(0.00784314)  …  Gray{Float32}(0.0)\n",
       " Gray{Float32}(0.0)  Gray{Float32}(0.0)            Gray{Float32}(0.0)\n",
       " Gray{Float32}(0.0)  Gray{Float32}(0.0)            Gray{Float32}(0.0)"
      ]
     },
     "metadata": {},
     "output_type": "display_data"
    },
    {
     "data": {
      "image/png": "[encoded data removed]",
      "text/plain": [
       "28×420 Array{Gray{Float32},2} with eltype Gray{Float32}:\n",
       " Gray{Float32}(0.0)  Gray{Float32}(0.0)         …  Gray{Float32}(0.0)       \n",
       " Gray{Float32}(0.0)  Gray{Float32}(0.0)            Gray{Float32}(0.0)       \n",
       " Gray{Float32}(0.0)  Gray{Float32}(0.00784314)     Gray{Float32}(0.0)       \n",
       " Gray{Float32}(0.0)  Gray{Float32}(0.0156863)      Gray{Float32}(0.0)       \n",
       " Gray{Float32}(0.0)  Gray{Float32}(0.0)            Gray{Float32}(0.0)       \n",
       " Gray{Float32}(0.0)  Gray{Float32}(0.0)         …  Gray{Float32}(0.0)       \n",
       " Gray{Float32}(0.0)  Gray{Float32}(0.0)            Gray{Float32}(0.0)       \n",
       " Gray{Float32}(0.0)  Gray{Float32}(0.0)            Gray{Float32}(0.0)       \n",
       " Gray{Float32}(0.0)  Gray{Float32}(0.0)            Gray{Float32}(0.00392157)\n",
       " Gray{Float32}(0.0)  Gray{Float32}(0.0)            Gray{Float32}(0.00392157)\n",
       " Gray{Float32}(0.0)  Gray{Float32}(0.0)         …  Gray{Float32}(0.0)       \n",
       " Gray{Float32}(0.0)  Gray{Float32}(0.0)            Gray{Float32}(0.0)       \n",
       " Gray{Float32}(0.0)  Gray{Float32}(0.0)            Gray{Float32}(0.0)       \n",
       " ⋮                                              ⋱                           \n",
       " Gray{Float32}(0.0)  Gray{Float32}(0.0352941)      Gray{Float32}(0.0)       \n",
       " Gray{Float32}(0.0)  Gray{Float32}(0.129412)       Gray{Float32}(0.0)       \n",
       " Gray{Float32}(0.0)  Gray{Float32}(0.184314)       Gray{Float32}(0.0)       \n",
       " Gray{Float32}(0.0)  Gray{Float32}(0.290196)       Gray{Float32}(0.0)       \n",
       " Gray{Float32}(0.0)  Gray{Float32}(0.517647)    …  Gray{Float32}(0.00784314)\n",
       " Gray{Float32}(0.0)  Gray{Float32}(0.180392)       Gray{Float32}(0.2)       \n",
       " Gray{Float32}(0.0)  Gray{Float32}(0.0)            Gray{Float32}(0.607843)  \n",
       " Gray{Float32}(0.0)  Gray{Float32}(0.0)            Gray{Float32}(0.027451)  \n",
       " Gray{Float32}(0.0)  Gray{Float32}(0.0)            Gray{Float32}(0.0)       \n",
       " Gray{Float32}(0.0)  Gray{Float32}(0.0)         …  Gray{Float32}(0.0)       \n",
       " Gray{Float32}(0.0)  Gray{Float32}(0.0)            Gray{Float32}(0.0)       \n",
       " Gray{Float32}(0.0)  Gray{Float32}(0.0)            Gray{Float32}(0.0)       "
      ]
     },
     "metadata": {},
     "output_type": "display_data"
    },
    {
     "data": {
      "text/html": [
       "results (obj => dist): 3926 => 4.50, 59982 => 5.06, 14849 => 5.56, 24744 => 5.56, 423 => 5.67, 22372 => 5.69, 49035 => 5.69, 44310 => 5.72, 36055 => 5.73, 47538 => 5.80, 29198 => 5.81, 37993 => 5.83, 26274 => 5.90, 23755 => 5.91, 29808 => 5.92"
      ]
     },
     "metadata": {},
     "output_type": "display_data"
    },
    {
     "data": {
      "image/png": "[encoded data removed]",
      "text/plain": [
       "28×28 Adjoint{Gray{Float32},Array{Gray{Float32},2}}:\n",
       " Gray{Float32}(0.0)         …  Gray{Float32}(0.0)       \n",
       " Gray{Float32}(0.0)            Gray{Float32}(0.0)       \n",
       " Gray{Float32}(0.0)            Gray{Float32}(0.0)       \n",
       " Gray{Float32}(0.0)            Gray{Float32}(0.223529)  \n",
       " Gray{Float32}(0.0)            Gray{Float32}(0.0588235) \n",
       " Gray{Float32}(0.0)         …  Gray{Float32}(0.00392157)\n",
       " Gray{Float32}(0.0)            Gray{Float32}(0.313726)  \n",
       " Gray{Float32}(0.0)            Gray{Float32}(0.054902)  \n",
       " Gray{Float32}(0.0)            Gray{Float32}(0.0)       \n",
       " Gray{Float32}(0.0)            Gray{Float32}(0.0)       \n",
       " Gray{Float32}(0.0)         …  Gray{Float32}(0.0)       \n",
       " Gray{Float32}(0.0)            Gray{Float32}(0.0)       \n",
       " Gray{Float32}(0.0)            Gray{Float32}(0.0)       \n",
       " ⋮                          ⋱                           \n",
       " Gray{Float32}(0.0)            Gray{Float32}(0.0)       \n",
       " Gray{Float32}(0.0)            Gray{Float32}(0.0)       \n",
       " Gray{Float32}(0.0)            Gray{Float32}(0.0)       \n",
       " Gray{Float32}(0.0)            Gray{Float32}(0.0)       \n",
       " Gray{Float32}(0.0)         …  Gray{Float32}(0.0)       \n",
       " Gray{Float32}(0.317647)       Gray{Float32}(0.294118)  \n",
       " Gray{Float32}(0.317647)       Gray{Float32}(0.239216)  \n",
       " Gray{Float32}(0.0)            Gray{Float32}(0.262745)  \n",
       " Gray{Float32}(0.0)            Gray{Float32}(0.262745)  \n",
       " Gray{Float32}(0.00392157)  …  Gray{Float32}(0.0)       \n",
       " Gray{Float32}(0.0)            Gray{Float32}(0.0)       \n",
       " Gray{Float32}(0.0)            Gray{Float32}(0.0)       "
      ]
     },
     "metadata": {},
     "output_type": "display_data"
    },
    {
     "data": {
      "image/png": "[encoded data removed]",
      "text/plain": [
       "28×420 Array{Gray{Float32},2} with eltype Gray{Float32}:\n",
       " Gray{Float32}(0.0)         …  Gray{Float32}(0.0)       \n",
       " Gray{Float32}(0.0)            Gray{Float32}(0.0)       \n",
       " Gray{Float32}(0.0)            Gray{Float32}(0.0)       \n",
       " Gray{Float32}(0.0)            Gray{Float32}(0.0)       \n",
       " Gray{Float32}(0.0)            Gray{Float32}(0.0509804) \n",
       " Gray{Float32}(0.0)         …  Gray{Float32}(0.141176)  \n",
       " Gray{Float32}(0.0)            Gray{Float32}(0.0)       \n",
       " Gray{Float32}(0.0)            Gray{Float32}(0.0)       \n",
       " Gray{Float32}(0.0)            Gray{Float32}(0.0)       \n",
       " Gray{Float32}(0.0)            Gray{Float32}(0.0)       \n",
       " Gray{Float32}(0.0)         …  Gray{Float32}(0.0)       \n",
       " Gray{Float32}(0.0)            Gray{Float32}(0.0)       \n",
       " Gray{Float32}(0.0)            Gray{Float32}(0.0)       \n",
       " ⋮                          ⋱                           \n",
       " Gray{Float32}(0.0)            Gray{Float32}(0.0)       \n",
       " Gray{Float32}(0.00392157)     Gray{Float32}(0.00392157)\n",
       " Gray{Float32}(0.00784314)     Gray{Float32}(0.0588235) \n",
       " Gray{Float32}(0.0)            Gray{Float32}(0.0588235) \n",
       " Gray{Float32}(0.0)         …  Gray{Float32}(0.235294)  \n",
       " Gray{Float32}(0.0862745)      Gray{Float32}(0.337255)  \n",
       " Gray{Float32}(0.301961)       Gray{Float32}(0.243137)  \n",
       " Gray{Float32}(0.0)            Gray{Float32}(0.392157)  \n",
       " Gray{Float32}(0.0)            Gray{Float32}(0.188235)  \n",
       " Gray{Float32}(0.0)         …  Gray{Float32}(0.0)       \n",
       " Gray{Float32}(0.0)            Gray{Float32}(0.0)       \n",
       " Gray{Float32}(0.0)            Gray{Float32}(0.0)       "
      ]
     },
     "metadata": {},
     "output_type": "display_data"
    },
    {
     "data": {
      "text/html": [
       "results (obj => dist): 37543 => 3.56, 16063 => 3.71, 18893 => 3.87, 12929 => 3.88, 2900 => 4.25, 59220 => 4.28, 51926 => 4.32, 609 => 4.36, 25627 => 4.39, 8096 => 4.40, 41118 => 4.45, 33824 => 4.46, 27126 => 4.47, 33101 => 4.48, 34824 => 4.48"
      ]
     },
     "metadata": {},
     "output_type": "display_data"
    },
    {
     "data": {
      "image/png": "[encoded data removed]",
      "text/plain": [
       "28×28 Adjoint{Gray{Float32},Array{Gray{Float32},2}}:\n",
       " Gray{Float32}(0.0)  Gray{Float32}(0.0)  …  Gray{Float32}(0.0)\n",
       " Gray{Float32}(0.0)  Gray{Float32}(0.0)     Gray{Float32}(0.0)\n",
       " Gray{Float32}(0.0)  Gray{Float32}(0.0)     Gray{Float32}(0.0)\n",
       " Gray{Float32}(0.0)  Gray{Float32}(0.0)     Gray{Float32}(0.0)\n",
       " Gray{Float32}(0.0)  Gray{Float32}(0.0)     Gray{Float32}(0.0)\n",
       " Gray{Float32}(0.0)  Gray{Float32}(0.0)  …  Gray{Float32}(0.0)\n",
       " Gray{Float32}(0.0)  Gray{Float32}(0.0)     Gray{Float32}(0.0)\n",
       " Gray{Float32}(0.0)  Gray{Float32}(0.0)     Gray{Float32}(0.0)\n",
       " Gray{Float32}(0.0)  Gray{Float32}(0.0)     Gray{Float32}(0.0)\n",
       " Gray{Float32}(0.0)  Gray{Float32}(0.0)     Gray{Float32}(0.0)\n",
       " Gray{Float32}(0.0)  Gray{Float32}(0.0)  …  Gray{Float32}(0.0)\n",
       " Gray{Float32}(0.0)  Gray{Float32}(0.0)     Gray{Float32}(0.0)\n",
       " Gray{Float32}(0.0)  Gray{Float32}(0.0)     Gray{Float32}(0.0)\n",
       " ⋮                                       ⋱                    \n",
       " Gray{Float32}(0.0)  Gray{Float32}(0.0)     Gray{Float32}(0.0)\n",
       " Gray{Float32}(0.0)  Gray{Float32}(0.0)     Gray{Float32}(0.0)\n",
       " Gray{Float32}(0.0)  Gray{Float32}(0.0)     Gray{Float32}(0.0)\n",
       " Gray{Float32}(0.0)  Gray{Float32}(0.0)     Gray{Float32}(0.0)\n",
       " Gray{Float32}(0.0)  Gray{Float32}(0.0)  …  Gray{Float32}(0.0)\n",
       " Gray{Float32}(0.0)  Gray{Float32}(0.0)     Gray{Float32}(0.0)\n",
       " Gray{Float32}(0.0)  Gray{Float32}(0.0)     Gray{Float32}(0.0)\n",
       " Gray{Float32}(0.0)  Gray{Float32}(0.0)     Gray{Float32}(0.0)\n",
       " Gray{Float32}(0.0)  Gray{Float32}(0.0)     Gray{Float32}(0.0)\n",
       " Gray{Float32}(0.0)  Gray{Float32}(0.0)  …  Gray{Float32}(0.0)\n",
       " Gray{Float32}(0.0)  Gray{Float32}(0.0)     Gray{Float32}(0.0)\n",
       " Gray{Float32}(0.0)  Gray{Float32}(0.0)     Gray{Float32}(0.0)"
      ]
     },
     "metadata": {},
     "output_type": "display_data"
    },
    {
     "name": "stdout",
     "output_type": "stream",
     "text": [
      "  0.000474 seconds (20 allocations: 19.625 KiB)\n",
      "  0.000744 seconds (24 allocations: 72.016 KiB)\n",
      "  0.000508 seconds (20 allocations: 19.625 KiB)\n",
      "  0.000307 seconds (20 allocations: 19.625 KiB)\n",
      "  0.000594 seconds (20 allocations: 19.625 KiB)\n",
      "  0.001166 seconds (20 allocations: 19.625 KiB)\n"
     ]
    },
    {
     "name": "stderr",
     "output_type": "stream",
     "text": [
      "  == End Opt. BeamSearch. Iteration finished; {\"score\":146.88557100524275,\"state\":{\"ssize\":1,\"bsize\":18},\"perf\":{\"precision\":0.952256944444444,\"recall\":0.952256944444444,\"f1\":0.952256944444444,\"seconds\":0.0003203507512807846,\"exhaustive_search_seconds\":0.019018232822418213,\"evaluations\":411.28125,\"distances_sum\":4532.589951975846}}, beam: 4, n: 60000\n",
      "==== END Opt. BeamSearch. Finished, best: {\"score\":146.88557100524275,\"state\":{\"ssize\":1,\"bsize\":18},\"perf\":{\"precision\":0.952256944444444,\"recall\":0.952256944444444,\"f1\":0.952256944444444,\"seconds\":0.0003203507512807846,\"exhaustive_search_seconds\":0.019018232822418213,\"evaluations\":411.28125,\"distances_sum\":4532.589951975846}}, n: 60000\n"
     ]
    },
    {
     "data": {
      "image/png": "[encoded data removed]",
      "text/plain": [
       "28×420 Array{Gray{Float32},2} with eltype Gray{Float32}:\n",
       " Gray{Float32}(0.0)  Gray{Float32}(0.0)  …  Gray{Float32}(0.0)\n",
       " Gray{Float32}(0.0)  Gray{Float32}(0.0)     Gray{Float32}(0.0)\n",
       " Gray{Float32}(0.0)  Gray{Float32}(0.0)     Gray{Float32}(0.0)\n",
       " Gray{Float32}(0.0)  Gray{Float32}(0.0)     Gray{Float32}(0.0)\n",
       " Gray{Float32}(0.0)  Gray{Float32}(0.0)     Gray{Float32}(0.0)\n",
       " Gray{Float32}(0.0)  Gray{Float32}(0.0)  …  Gray{Float32}(0.0)\n",
       " Gray{Float32}(0.0)  Gray{Float32}(0.0)     Gray{Float32}(0.0)\n",
       " Gray{Float32}(0.0)  Gray{Float32}(0.0)     Gray{Float32}(0.0)\n",
       " Gray{Float32}(0.0)  Gray{Float32}(0.0)     Gray{Float32}(0.0)\n",
       " Gray{Float32}(0.0)  Gray{Float32}(0.0)     Gray{Float32}(0.0)\n",
       " Gray{Float32}(0.0)  Gray{Float32}(0.0)  …  Gray{Float32}(0.0)\n",
       " Gray{Float32}(0.0)  Gray{Float32}(0.0)     Gray{Float32}(0.0)\n",
       " Gray{Float32}(0.0)  Gray{Float32}(0.0)     Gray{Float32}(0.0)\n",
       " ⋮                                       ⋱                    \n",
       " Gray{Float32}(0.0)  Gray{Float32}(0.0)     Gray{Float32}(0.0)\n",
       " Gray{Float32}(0.0)  Gray{Float32}(0.0)     Gray{Float32}(0.0)\n",
       " Gray{Float32}(0.0)  Gray{Float32}(0.0)     Gray{Float32}(0.0)\n",
       " Gray{Float32}(0.0)  Gray{Float32}(0.0)     Gray{Float32}(0.0)\n",
       " Gray{Float32}(0.0)  Gray{Float32}(0.0)  …  Gray{Float32}(0.0)\n",
       " Gray{Float32}(0.0)  Gray{Float32}(0.0)     Gray{Float32}(0.0)\n",
       " Gray{Float32}(0.0)  Gray{Float32}(0.0)     Gray{Float32}(0.0)\n",
       " Gray{Float32}(0.0)  Gray{Float32}(0.0)     Gray{Float32}(0.0)\n",
       " Gray{Float32}(0.0)  Gray{Float32}(0.0)     Gray{Float32}(0.0)\n",
       " Gray{Float32}(0.0)  Gray{Float32}(0.0)  …  Gray{Float32}(0.0)\n",
       " Gray{Float32}(0.0)  Gray{Float32}(0.0)     Gray{Float32}(0.0)\n",
       " Gray{Float32}(0.0)  Gray{Float32}(0.0)     Gray{Float32}(0.0)"
      ]
     },
     "metadata": {},
     "output_type": "display_data"
    },
    {
     "data": {
      "text/html": [
       "results (obj => dist): 58225 => 1.91, 17431 => 2.60, 11531 => 2.75, 1990 => 2.80, 32004 => 2.83, 13949 => 2.85, 6000 => 2.86, 20577 => 2.88, 44020 => 2.91, 830 => 2.94, 8109 => 2.98, 38540 => 3.03, 8105 => 3.05, 48922 => 3.05, 43135 => 3.05"
      ]
     },
     "metadata": {},
     "output_type": "display_data"
    },
    {
     "name": "stdout",
     "output_type": "stream",
     "text": [
      "  0.000433 seconds (20 allocations: 19.625 KiB)\n"
     ]
    }
   ],
   "source": [
    "function searchgraph_search_demo()\n",
    "    # a real index only works whenever the number of queries amortizes the construction cost\n",
    "    @time index = fit(SearchGraph, l2_distance, X, verbose=true)\n",
    "    optimize!(index, l2_distance, recall=0.95)\n",
    "    for q in rand(queries, 7)\n",
    "        display_one(q)\n",
    "        @time res = search(index, l2_distance, q, KnnResult(15))\n",
    "        display_many([X[p.objID] for p in res])\n",
    "        msg = [(@sprintf \"%d => %0.2f\" p.objID p.dist) for p in res]\n",
    "        display(\"text/html\", \"results (obj => dist): \" * join(msg, \", \"))\n",
    "    end\n",
    "    \n",
    "    index\n",
    "end\n",
    "\n",
    "sgraph = searchgraph_search_demo();"
   ]
  },
  {
   "cell_type": "markdown",
   "metadata": {},
   "source": [
    "## A simple NN classifier\n",
    "Lets create a classifier to measure the performance and the quality impact of the different indexes"
   ]
  },
  {
   "cell_type": "code",
   "execution_count": 8,
   "metadata": {},
   "outputs": [
    {
     "data": {
      "text/plain": [
       "classify (generic function with 1 method)"
      ]
     },
     "execution_count": 8,
     "metadata": {},
     "output_type": "execute_result"
    }
   ],
   "source": [
    "function classify(index, train_y, queries, test_y)\n",
    "    ypred = []\n",
    "    for i in eachindex(queries)\n",
    "        res = search(index, l2_distance, queries[i], KnnResult(1))\n",
    "        push!(ypred, train_y[first(res).objID])\n",
    "    end\n",
    "    \n",
    "    println(\"NN-classifier $(typeof(index)) accuracy:\", mean(ypred .== test_y))\n",
    "end\n"
   ]
  },
  {
   "cell_type": "code",
   "execution_count": 9,
   "metadata": {},
   "outputs": [
    {
     "name": "stdout",
     "output_type": "stream",
     "text": [
      "NN-classifier Sequential{Array{Float32,1}} accuracy:0.8497\n",
      "191.872072 seconds (453.65 k allocations: 23.252 MiB, 0.01% gc time)\n",
      "NN-classifier Knr{Array{Float32,1}} accuracy:0.8481\n",
      " 33.713900 seconds (157.68 k allocations: 1.125 GiB, 0.73% gc time)\n",
      "NN-classifier SearchGraph{Array{Float32,1}} accuracy:0.8421\n",
      "  3.563560 seconds (271.25 k allocations: 237.358 MiB, 0.94% gc time)\n"
     ]
    }
   ],
   "source": [
    "@time classify(seq, D.train_y, queries, D.test_y)\n",
    "@time classify(knr, D.train_y, queries, D.test_y)\n",
    "@time classify(sgraph, D.train_y, queries, D.test_y)"
   ]
  }
 ],
 "metadata": {
  "kernelspec": {
   "display_name": "Julia 1.2.0",
   "language": "julia",
   "name": "julia-1.2"
  },
  "language_info": {
   "file_extension": ".jl",
   "mimetype": "application/julia",
   "name": "julia",
   "version": "1.2.0"
  }
 },
 "nbformat": 4,
 "nbformat_minor": 4
}
